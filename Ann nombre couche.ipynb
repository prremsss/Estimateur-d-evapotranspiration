{
 "cells": [
  {
   "cell_type": "code",
   "execution_count": 1,
   "id": "b90f8df7",
   "metadata": {},
   "outputs": [],
   "source": [
    "import numpy as np\n",
    "import pandas as pd\n",
    "from matplotlib import pyplot\n",
    "import keras\n",
    "import tensorflow as tf\n",
    "import random\n",
    "from sklearn.metrics import r2_score\n",
    "import matplotlib.pyplot as plt \n",
    "from sklearn.model_selection import train_test_split"
   ]
  },
  {
   "cell_type": "code",
   "execution_count": 3,
   "id": "2d1803b9",
   "metadata": {},
   "outputs": [],
   "source": [
    "EnamMekjr= pd.read_excel(r'EnamMksJr.xlsx')\n",
    "AnamBerkaneJr= pd.read_excel(r'AnamBerkaneJr.xlsx')"
   ]
  },
  {
   "cell_type": "code",
   "execution_count": 4,
   "id": "9a915883",
   "metadata": {},
   "outputs": [],
   "source": [
    "ytrain=EnamMekjr[\"ETP quotidien [mm]\"].astype('int')\n",
    "Xtrain=EnamMekjr.drop(columns=['ETP quotidien [mm]','Date/heure','Precipitation Somme','Unnamed: 0'])\n",
    "ytest=AnamBerkaneJr['ETP quotidien [mm]']\n",
    "Xtest=AnamBerkaneJr.drop(columns=['ETP quotidien [mm]','Date/heure','Precipitation Somme','Vitesse Max max','Unnamed: 0'])"
   ]
  },
  {
   "cell_type": "code",
   "execution_count": 5,
   "id": "4d98fa8b",
   "metadata": {},
   "outputs": [],
   "source": [
    "def build_model(Xtrain,i):\n",
    "    model = keras.Sequential([\n",
    "    keras.layers.Input(shape=(Xtrain.shape[1],)),                  \n",
    "    keras.layers.Dense(i, activation=tf.nn.relu),\n",
    "    keras.layers.Dense(1)\n",
    "  ], name=\"MLP_model\")\n",
    "\n",
    "    optimizer = tf.keras.optimizers.RMSprop(0.001)\n",
    "\n",
    "    model.compile(loss='mse',\n",
    "                optimizer=optimizer,\n",
    "                metrics=['mae'])\n",
    "    return model\n",
    "\n",
    "EPOCHS = 100"
   ]
  },
  {
   "cell_type": "code",
   "execution_count": 6,
   "id": "e8bbb830",
   "metadata": {},
   "outputs": [],
   "source": [
    "score1=[]\n",
    "for i in range(3,100):\n",
    "    model = build_model(Xtrain,i)\n",
    "    model.fit(Xtrain, ytrain, epochs=EPOCHS,\n",
    "                    validation_split=0.2, verbose=0)\n",
    "    ypred=model.predict(Xtest)\n",
    "    score1.append(r2_score(ytest,ypred))\n",
    "    "
   ]
  },
  {
   "cell_type": "code",
   "execution_count": 7,
   "id": "aeefdbb6",
   "metadata": {},
   "outputs": [],
   "source": [
    "k=np.arange(3,100)"
   ]
  },
  {
   "cell_type": "code",
   "execution_count": 8,
   "id": "6563671c",
   "metadata": {},
   "outputs": [
    {
     "data": {
      "text/plain": [
       "0.9386874427640438"
      ]
     },
     "execution_count": 8,
     "metadata": {},
     "output_type": "execute_result"
    }
   ],
   "source": [
    "max(score1)"
   ]
  },
  {
   "cell_type": "code",
   "execution_count": 9,
   "id": "c84c5d7b",
   "metadata": {},
   "outputs": [
    {
     "data": {
      "text/plain": [
       "93"
      ]
     },
     "execution_count": 9,
     "metadata": {},
     "output_type": "execute_result"
    }
   ],
   "source": [
    "np.argmax(score1)+3"
   ]
  },
  {
   "cell_type": "markdown",
   "id": "6c39b978",
   "metadata": {},
   "source": [
    "**fixer le nombre de la 1er couche à 93 neurones**"
   ]
  },
  {
   "cell_type": "code",
   "execution_count": 10,
   "id": "81637d25",
   "metadata": {},
   "outputs": [],
   "source": [
    "def build_model(Xtrain,i):\n",
    "    model = keras.Sequential([\n",
    "    keras.layers.Input(shape=(Xtrain.shape[1],)),  \n",
    "    keras.layers.Dense(np.argmax(score1)+3, activation=tf.nn.relu),\n",
    "    keras.layers.Dense(i, activation=tf.nn.relu),\n",
    "    keras.layers.Dense(1)\n",
    "  ], name=\"MLP_model\")\n",
    "\n",
    "    optimizer = tf.keras.optimizers.RMSprop(0.001)\n",
    "\n",
    "    model.compile(loss='mse',\n",
    "                optimizer=optimizer,\n",
    "                metrics=['mae'])\n",
    "    return model\n",
    "\n",
    "EPOCHS = 100"
   ]
  },
  {
   "cell_type": "code",
   "execution_count": 11,
   "id": "5be7ad95",
   "metadata": {},
   "outputs": [],
   "source": [
    "k=np.arange(3,100)"
   ]
  },
  {
   "cell_type": "code",
   "execution_count": 12,
   "id": "68cd5139",
   "metadata": {},
   "outputs": [],
   "source": [
    "score2=[]\n",
    "for i in range(3,100):\n",
    "    model = build_model(Xtrain,i)\n",
    "    model.fit(Xtrain, ytrain, epochs=EPOCHS,\n",
    "                    validation_split=0.2, verbose=0)\n",
    "    ypred=model.predict(Xtest)\n",
    "    score2.append(r2_score(ytest,ypred))"
   ]
  },
  {
   "cell_type": "code",
   "execution_count": 13,
   "id": "d108230b",
   "metadata": {},
   "outputs": [
    {
     "data": {
      "text/plain": [
       "77"
      ]
     },
     "execution_count": 13,
     "metadata": {},
     "output_type": "execute_result"
    }
   ],
   "source": [
    "np.argmax(score2)+3"
   ]
  },
  {
   "cell_type": "code",
   "execution_count": 14,
   "id": "63e87db5",
   "metadata": {},
   "outputs": [
    {
     "data": {
      "text/plain": [
       "0.9630986812110952"
      ]
     },
     "execution_count": 14,
     "metadata": {},
     "output_type": "execute_result"
    }
   ],
   "source": [
    "max(score2)"
   ]
  },
  {
   "cell_type": "markdown",
   "id": "02b3d0d3",
   "metadata": {},
   "source": [
    "**fixer la 2 éme couche  à  77   neurones**"
   ]
  },
  {
   "cell_type": "code",
   "execution_count": 15,
   "id": "825a90e1",
   "metadata": {},
   "outputs": [],
   "source": [
    "def build_model(Xtrain,i):\n",
    "    model = keras.Sequential([\n",
    "    keras.layers.Input(shape=(Xtrain.shape[1],)),  \n",
    "    keras.layers.Dense(np.argmax(score1)+3, activation=tf.nn.relu),\n",
    "    keras.layers.Dense(np.argmax(score2)+3, activation=tf.nn.relu),\n",
    "    keras.layers.Dense(i, activation=tf.nn.relu),\n",
    "    keras.layers.Dense(1)\n",
    "  ], name=\"MLP_model\")\n",
    "\n",
    "    optimizer = tf.keras.optimizers.RMSprop(0.001)\n",
    "\n",
    "    model.compile(loss='mse',\n",
    "                optimizer=optimizer,\n",
    "                metrics=['mae'])\n",
    "    return model\n",
    "\n",
    "EPOCHS = 100"
   ]
  },
  {
   "cell_type": "code",
   "execution_count": 16,
   "id": "52777f9c",
   "metadata": {},
   "outputs": [],
   "source": [
    "score3=[]\n",
    "for i in range(3,100):\n",
    "    model = build_model(Xtrain,i)\n",
    "    model.fit(Xtrain, ytrain, epochs=EPOCHS,\n",
    "                    validation_split=0.2, verbose=0)\n",
    "    ypred=model.predict(Xtest)\n",
    "    score3.append(r2_score(ytest,ypred))"
   ]
  },
  {
   "cell_type": "code",
   "execution_count": 17,
   "id": "53ddab0e",
   "metadata": {},
   "outputs": [
    {
     "data": {
      "text/plain": [
       "69"
      ]
     },
     "execution_count": 17,
     "metadata": {},
     "output_type": "execute_result"
    }
   ],
   "source": [
    "np.argmax(score3)+3"
   ]
  },
  {
   "cell_type": "code",
   "execution_count": 18,
   "id": "51c8652f",
   "metadata": {},
   "outputs": [
    {
     "data": {
      "text/plain": [
       "0.9548726092773522"
      ]
     },
     "execution_count": 18,
     "metadata": {},
     "output_type": "execute_result"
    }
   ],
   "source": [
    "max(score3)"
   ]
  },
  {
   "cell_type": "markdown",
   "id": "67e13716",
   "metadata": {},
   "source": [
    "**fixer la 3éme couche à  69  neurones**"
   ]
  },
  {
   "cell_type": "code",
   "execution_count": 19,
   "id": "20ba633e",
   "metadata": {},
   "outputs": [],
   "source": [
    "def build_model(Xtrain,i):\n",
    "    model = keras.Sequential([\n",
    "    keras.layers.Input(shape=(Xtrain.shape[1],)),  \n",
    "    keras.layers.Dense(np.argmax(score1)+3, activation=tf.nn.relu),\n",
    "    keras.layers.Dense(np.argmax(score2)+3, activation=tf.nn.relu),\n",
    "    keras.layers.Dense(np.argmax(score3)+3, activation=tf.nn.relu),\n",
    "    keras.layers.Dense(i, activation=tf.nn.relu),\n",
    "    keras.layers.Dense(1)\n",
    "  ], name=\"MLP_model\")\n",
    "\n",
    "    optimizer = tf.keras.optimizers.RMSprop(0.001)\n",
    "\n",
    "    model.compile(loss='mse',\n",
    "                optimizer=optimizer,\n",
    "                metrics=['mae'])\n",
    "    return model\n",
    "\n",
    "EPOCHS = 100"
   ]
  },
  {
   "cell_type": "code",
   "execution_count": 20,
   "id": "6a55ee16",
   "metadata": {},
   "outputs": [],
   "source": [
    "score4=[]\n",
    "for i in range(3,100):\n",
    "    model = build_model(Xtrain,i)\n",
    "    model.fit(Xtrain, ytrain, epochs=EPOCHS,\n",
    "                    validation_split=0.2, verbose=0)\n",
    "    ypred=model.predict(Xtest)\n",
    "    score4.append(r2_score(ytest,ypred))"
   ]
  },
  {
   "cell_type": "code",
   "execution_count": 21,
   "id": "a98a67f5",
   "metadata": {},
   "outputs": [
    {
     "data": {
      "text/plain": [
       "0.9533658998343796"
      ]
     },
     "execution_count": 21,
     "metadata": {},
     "output_type": "execute_result"
    }
   ],
   "source": [
    "max(score4)"
   ]
  },
  {
   "cell_type": "code",
   "execution_count": 22,
   "id": "4e4e5b20",
   "metadata": {},
   "outputs": [
    {
     "data": {
      "text/plain": [
       "54"
      ]
     },
     "execution_count": 22,
     "metadata": {},
     "output_type": "execute_result"
    }
   ],
   "source": [
    "np.argmax(score4)+3"
   ]
  },
  {
   "cell_type": "markdown",
   "id": "327b57c0",
   "metadata": {},
   "source": [
    "**fixer la 4éme couche à  54  neurones**"
   ]
  },
  {
   "cell_type": "code",
   "execution_count": 23,
   "id": "be4d1377",
   "metadata": {},
   "outputs": [],
   "source": [
    "def build_model(Xtrain,i):\n",
    "    model = keras.Sequential([\n",
    "    keras.layers.Input(shape=(Xtrain.shape[1],)),  \n",
    "    keras.layers.Dense(np.argmax(score1)+3, activation=tf.nn.relu),\n",
    "    keras.layers.Dense(np.argmax(score2)+3, activation=tf.nn.relu),\n",
    "    keras.layers.Dense(np.argmax(score3)+3, activation=tf.nn.relu),\n",
    "    keras.layers.Dense(np.argmax(score4)+3, activation=tf.nn.relu),\n",
    "    keras.layers.Dense(i, activation=tf.nn.relu),\n",
    "\n",
    "    keras.layers.Dense(1)\n",
    "  ], name=\"MLP_model\")\n",
    "\n",
    "    optimizer = tf.keras.optimizers.RMSprop(0.001)\n",
    "\n",
    "    model.compile(loss='mse',\n",
    "                optimizer=optimizer,\n",
    "                metrics=['mae'])\n",
    "    return model\n",
    "\n",
    "EPOCHS = 100"
   ]
  },
  {
   "cell_type": "code",
   "execution_count": 24,
   "id": "b2f4ff3d",
   "metadata": {},
   "outputs": [],
   "source": [
    "score5=[]\n",
    "for i in range(3,100):\n",
    "    model = build_model(Xtrain,i)\n",
    "    model.fit(Xtrain, ytrain, epochs=EPOCHS,\n",
    "                    validation_split=0.2, verbose=0)\n",
    "    ypred=model.predict(Xtest)\n",
    "    score5.append(r2_score(ytest,ypred))"
   ]
  },
  {
   "cell_type": "code",
   "execution_count": 25,
   "id": "07456f3a",
   "metadata": {},
   "outputs": [
    {
     "data": {
      "text/plain": [
       "37"
      ]
     },
     "execution_count": 25,
     "metadata": {},
     "output_type": "execute_result"
    }
   ],
   "source": [
    "np.argmax(score5)+3"
   ]
  },
  {
   "cell_type": "code",
   "execution_count": 26,
   "id": "e705675b",
   "metadata": {},
   "outputs": [
    {
     "data": {
      "text/plain": [
       "0.9466297336896309"
      ]
     },
     "execution_count": 26,
     "metadata": {},
     "output_type": "execute_result"
    }
   ],
   "source": [
    "max(score5)"
   ]
  },
  {
   "cell_type": "markdown",
   "id": "3d25dbca",
   "metadata": {},
   "source": [
    "**Fixer la 5éme couche à 37   neurones**"
   ]
  },
  {
   "cell_type": "code",
   "execution_count": 27,
   "id": "6b93c1bf",
   "metadata": {},
   "outputs": [],
   "source": [
    "def build_model(Xtrain,i):\n",
    "    model = keras.Sequential([\n",
    "    keras.layers.Input(shape=(Xtrain.shape[1],)),  \n",
    "    keras.layers.Dense(np.argmax(score1)+3, activation=tf.nn.relu),\n",
    "    keras.layers.Dense(np.argmax(score2)+3, activation=tf.nn.relu),\n",
    "    keras.layers.Dense(np.argmax(score3)+3, activation=tf.nn.relu),\n",
    "    keras.layers.Dense(np.argmax(score4)+3, activation=tf.nn.relu),\n",
    "    keras.layers.Dense(np.argmax(score5)+3, activation=tf.nn.relu),\n",
    "\n",
    "    keras.layers.Dense(i, activation=tf.nn.relu),\n",
    "\n",
    "    keras.layers.Dense(1)\n",
    "  ], name=\"MLP_model\")\n",
    "\n",
    "    optimizer = tf.keras.optimizers.RMSprop(0.001)\n",
    "\n",
    "    model.compile(loss='mse',\n",
    "                optimizer=optimizer,\n",
    "                metrics=['mae'])\n",
    "    return model\n",
    "\n",
    "EPOCHS = 100"
   ]
  },
  {
   "cell_type": "code",
   "execution_count": 28,
   "id": "c2436c27",
   "metadata": {},
   "outputs": [],
   "source": [
    "score6=[]\n",
    "for i in range(3,100):\n",
    "    model = build_model(Xtrain,i)\n",
    "    model.fit(Xtrain, ytrain, epochs=EPOCHS,\n",
    "                    validation_split=0.2,verbose=0)\n",
    "    ypred=model.predict(Xtest)\n",
    "    score6.append(r2_score(ytest,ypred))"
   ]
  },
  {
   "cell_type": "code",
   "execution_count": 29,
   "id": "474b05ca",
   "metadata": {},
   "outputs": [
    {
     "data": {
      "text/plain": [
       "88"
      ]
     },
     "execution_count": 29,
     "metadata": {},
     "output_type": "execute_result"
    }
   ],
   "source": [
    "np.argmax(score6)+3"
   ]
  },
  {
   "cell_type": "code",
   "execution_count": 30,
   "id": "90fdf338",
   "metadata": {},
   "outputs": [
    {
     "data": {
      "text/plain": [
       "0.9521086417723779"
      ]
     },
     "execution_count": 30,
     "metadata": {},
     "output_type": "execute_result"
    }
   ],
   "source": [
    "max(score6)"
   ]
  },
  {
   "cell_type": "markdown",
   "id": "a9c6b800",
   "metadata": {},
   "source": [
    "**Fixer la 6éme couche à 88  neurones**"
   ]
  },
  {
   "cell_type": "code",
   "execution_count": 31,
   "id": "28c6a201",
   "metadata": {},
   "outputs": [],
   "source": [
    "def build_model(Xtrain,i):\n",
    "    model = keras.Sequential([\n",
    "    keras.layers.Input(shape=(Xtrain.shape[1],)),  \n",
    "    keras.layers.Dense(np.argmax(score1)+3, activation=tf.nn.relu),\n",
    "    keras.layers.Dense(np.argmax(score2)+3, activation=tf.nn.relu),\n",
    "    keras.layers.Dense(np.argmax(score3)+3, activation=tf.nn.relu),\n",
    "    keras.layers.Dense(np.argmax(score4)+3, activation=tf.nn.relu),\n",
    "    keras.layers.Dense(np.argmax(score5)+3, activation=tf.nn.relu),\n",
    "    keras.layers.Dense(np.argmax(score6)+3, activation=tf.nn.relu),\n",
    "\n",
    "    keras.layers.Dense(i, activation=tf.nn.relu),\n",
    "\n",
    "    keras.layers.Dense(1)\n",
    "  ], name=\"MLP_model\")\n",
    "\n",
    "    optimizer = tf.keras.optimizers.RMSprop(0.001)\n",
    "\n",
    "    model.compile(loss='mse',\n",
    "                optimizer=optimizer,\n",
    "                metrics=['mae'])\n",
    "    return model\n",
    "\n",
    "EPOCHS = 100"
   ]
  },
  {
   "cell_type": "code",
   "execution_count": 32,
   "id": "2e080f48",
   "metadata": {},
   "outputs": [],
   "source": [
    "score7=[]\n",
    "for i in range(3,100):\n",
    "    model = build_model(Xtrain,i)\n",
    "    model.fit(Xtrain, ytrain, epochs=EPOCHS,\n",
    "                    validation_split=0.2,verbose=0)\n",
    "    ypred=model.predict(Xtest)\n",
    "    score7.append(r2_score(ytest,ypred))"
   ]
  },
  {
   "cell_type": "code",
   "execution_count": 33,
   "id": "c05301b9",
   "metadata": {},
   "outputs": [
    {
     "data": {
      "text/plain": [
       "36"
      ]
     },
     "execution_count": 33,
     "metadata": {},
     "output_type": "execute_result"
    }
   ],
   "source": [
    "np.argmax(score7)+3"
   ]
  },
  {
   "cell_type": "code",
   "execution_count": 34,
   "id": "b9839a90",
   "metadata": {},
   "outputs": [
    {
     "data": {
      "text/plain": [
       "0.9514955470333356"
      ]
     },
     "execution_count": 34,
     "metadata": {},
     "output_type": "execute_result"
    }
   ],
   "source": [
    "max(score7)"
   ]
  },
  {
   "cell_type": "markdown",
   "id": "cd0f3a4a",
   "metadata": {},
   "source": [
    "**Fixer la 7éme couche à  36 neurones**"
   ]
  },
  {
   "cell_type": "code",
   "execution_count": 35,
   "id": "56f711dc",
   "metadata": {},
   "outputs": [],
   "source": [
    "def build_model(Xtrain,i):\n",
    "    model = keras.Sequential([\n",
    "    keras.layers.Input(shape=(Xtrain.shape[1],)),  \n",
    "    keras.layers.Dense(np.argmax(score1)+3, activation=tf.nn.relu),\n",
    "    keras.layers.Dense(np.argmax(score2)+3, activation=tf.nn.relu),\n",
    "    keras.layers.Dense(np.argmax(score3)+3, activation=tf.nn.relu),\n",
    "    keras.layers.Dense(np.argmax(score4)+3, activation=tf.nn.relu),\n",
    "    keras.layers.Dense(np.argmax(score5)+3, activation=tf.nn.relu),\n",
    "    keras.layers.Dense(np.argmax(score6)+3, activation=tf.nn.relu),\n",
    "    keras.layers.Dense(np.argmax(score7)+3, activation=tf.nn.relu),\n",
    "\n",
    "\n",
    "    keras.layers.Dense(i, activation=tf.nn.relu),\n",
    "\n",
    "    keras.layers.Dense(1)\n",
    "  ], name=\"MLP_model\")\n",
    "\n",
    "    optimizer = tf.keras.optimizers.RMSprop(0.001)\n",
    "\n",
    "    model.compile(loss='mse',\n",
    "                optimizer=optimizer,\n",
    "                metrics=['mae'])\n",
    "    return model\n",
    "\n",
    "EPOCHS = 100"
   ]
  },
  {
   "cell_type": "code",
   "execution_count": 36,
   "id": "7bb7d4aa",
   "metadata": {},
   "outputs": [],
   "source": [
    "score8=[]\n",
    "for i in range(3,100):\n",
    "    model = build_model(Xtrain,i)\n",
    "    model.fit(Xtrain, ytrain, epochs=EPOCHS,\n",
    "                    validation_split=0.2,verbose=0)\n",
    "    ypred=model.predict(Xtest)\n",
    "    score8.append(r2_score(ytest,ypred))"
   ]
  },
  {
   "cell_type": "code",
   "execution_count": 37,
   "id": "5c9378bc",
   "metadata": {},
   "outputs": [
    {
     "data": {
      "text/plain": [
       "0.9512836475828307"
      ]
     },
     "execution_count": 37,
     "metadata": {},
     "output_type": "execute_result"
    }
   ],
   "source": [
    "max(score8)"
   ]
  },
  {
   "cell_type": "code",
   "execution_count": 38,
   "id": "886be516",
   "metadata": {},
   "outputs": [
    {
     "data": {
      "text/plain": [
       "91"
      ]
     },
     "execution_count": 38,
     "metadata": {},
     "output_type": "execute_result"
    }
   ],
   "source": [
    "np.argmax(score8)+3"
   ]
  },
  {
   "cell_type": "markdown",
   "id": "85ef7c64",
   "metadata": {},
   "source": [
    "**Fixer la 8éme couche à 91 neurones**"
   ]
  },
  {
   "cell_type": "code",
   "execution_count": 39,
   "id": "705bfa91",
   "metadata": {},
   "outputs": [],
   "source": [
    "def build_model(Xtrain,i):\n",
    "    model = keras.Sequential([\n",
    "    keras.layers.Input(shape=(Xtrain.shape[1],)),  \n",
    "    keras.layers.Dense(np.argmax(score1)+3, activation=tf.nn.relu),\n",
    "    keras.layers.Dense(np.argmax(score2)+3, activation=tf.nn.relu),\n",
    "    keras.layers.Dense(np.argmax(score3)+3, activation=tf.nn.relu),\n",
    "    keras.layers.Dense(np.argmax(score4)+3, activation=tf.nn.relu),\n",
    "    keras.layers.Dense(np.argmax(score5)+3, activation=tf.nn.relu),\n",
    "    keras.layers.Dense(np.argmax(score6)+3, activation=tf.nn.relu),\n",
    "    keras.layers.Dense(np.argmax(score7)+3, activation=tf.nn.relu),\n",
    "    keras.layers.Dense(np.argmax(score8)+3, activation=tf.nn.relu),\n",
    "\n",
    "\n",
    "    keras.layers.Dense(i, activation=tf.nn.relu),\n",
    "\n",
    "    keras.layers.Dense(1)\n",
    "  ], name=\"MLP_model\")\n",
    "\n",
    "    optimizer = tf.keras.optimizers.RMSprop(0.001)\n",
    "\n",
    "    model.compile(loss='mse',\n",
    "                optimizer=optimizer,\n",
    "                metrics=['mae'])\n",
    "    return model\n",
    "\n",
    "EPOCHS = 100"
   ]
  },
  {
   "cell_type": "code",
   "execution_count": 40,
   "id": "50b18c75",
   "metadata": {},
   "outputs": [],
   "source": [
    "score9=[]\n",
    "for i in range(3,100):\n",
    "    model = build_model(Xtrain,i)\n",
    "    model.fit(Xtrain, ytrain, epochs=EPOCHS,\n",
    "                    validation_split=0.2,verbose=0)\n",
    "    ypred=model.predict(Xtest)\n",
    "    score9.append(r2_score(ytest,ypred))"
   ]
  },
  {
   "cell_type": "code",
   "execution_count": 41,
   "id": "a7c60660",
   "metadata": {},
   "outputs": [
    {
     "data": {
      "text/plain": [
       "37"
      ]
     },
     "execution_count": 41,
     "metadata": {},
     "output_type": "execute_result"
    }
   ],
   "source": [
    "np.argmax(score9)+3"
   ]
  },
  {
   "cell_type": "code",
   "execution_count": 42,
   "id": "ff5d9f23",
   "metadata": {},
   "outputs": [
    {
     "data": {
      "text/plain": [
       "0.9512032148272764"
      ]
     },
     "execution_count": 42,
     "metadata": {},
     "output_type": "execute_result"
    }
   ],
   "source": [
    "max(score9)"
   ]
  },
  {
   "cell_type": "markdown",
   "id": "48351c92",
   "metadata": {},
   "source": [
    "**fixer la 9émé couche à 37  neurones**"
   ]
  },
  {
   "cell_type": "code",
   "execution_count": 43,
   "id": "369e444f",
   "metadata": {},
   "outputs": [],
   "source": [
    "def build_model(Xtrain,i):\n",
    "    model = keras.Sequential([\n",
    "    keras.layers.Input(shape=(Xtrain.shape[1],)),  \n",
    "    keras.layers.Dense(np.argmax(score1)+3, activation=tf.nn.relu),\n",
    "    keras.layers.Dense(np.argmax(score2)+3, activation=tf.nn.relu),\n",
    "    keras.layers.Dense(np.argmax(score3)+3, activation=tf.nn.relu),\n",
    "    keras.layers.Dense(np.argmax(score4)+3, activation=tf.nn.relu),\n",
    "    keras.layers.Dense(np.argmax(score5)+3, activation=tf.nn.relu),\n",
    "    keras.layers.Dense(np.argmax(score6)+3, activation=tf.nn.relu),\n",
    "    keras.layers.Dense(np.argmax(score7)+3, activation=tf.nn.relu),\n",
    "    keras.layers.Dense(np.argmax(score8)+3, activation=tf.nn.relu),\n",
    "    keras.layers.Dense(np.argmax(score9)+3, activation=tf.nn.relu),\n",
    "\n",
    "    keras.layers.Dense(i, activation=tf.nn.relu),\n",
    "\n",
    "    keras.layers.Dense(1)\n",
    "  ], name=\"MLP_model\")\n",
    "\n",
    "    optimizer = tf.keras.optimizers.RMSprop(0.001)\n",
    "\n",
    "    model.compile(loss='mse',\n",
    "                optimizer=optimizer,\n",
    "                metrics=['mae'])\n",
    "    return model\n",
    "\n",
    "EPOCHS = 100"
   ]
  },
  {
   "cell_type": "code",
   "execution_count": 44,
   "id": "7fbd5db0",
   "metadata": {},
   "outputs": [],
   "source": [
    "score10=[]\n",
    "for i in range(3,100):\n",
    "    model = build_model(Xtrain,i)\n",
    "    model.fit(Xtrain, ytrain, epochs=EPOCHS,\n",
    "                    validation_split=0.2,verbose=0)\n",
    "    ypred=model.predict(Xtest)\n",
    "    score10.append(r2_score(ytest,ypred))"
   ]
  },
  {
   "cell_type": "code",
   "execution_count": 45,
   "id": "99ce9719",
   "metadata": {},
   "outputs": [
    {
     "data": {
      "text/plain": [
       "84"
      ]
     },
     "execution_count": 45,
     "metadata": {},
     "output_type": "execute_result"
    }
   ],
   "source": [
    "np.argmax(score10)+3"
   ]
  },
  {
   "cell_type": "code",
   "execution_count": 46,
   "id": "6b05943c",
   "metadata": {},
   "outputs": [
    {
     "data": {
      "text/plain": [
       "0.9506979303665657"
      ]
     },
     "execution_count": 46,
     "metadata": {},
     "output_type": "execute_result"
    }
   ],
   "source": [
    "max(score10)"
   ]
  },
  {
   "cell_type": "markdown",
   "id": "c7658203",
   "metadata": {},
   "source": [
    "**fixer la 10émé couche à  84  neurones**"
   ]
  },
  {
   "cell_type": "code",
   "execution_count": 47,
   "id": "4b4bac77",
   "metadata": {},
   "outputs": [],
   "source": [
    "def build_model(Xtrain,i):\n",
    "    model = keras.Sequential([\n",
    "    keras.layers.Input(shape=(Xtrain.shape[1],)),  \n",
    "    keras.layers.Dense(np.argmax(score1)+3, activation=tf.nn.relu),\n",
    "    keras.layers.Dense(np.argmax(score2)+3, activation=tf.nn.relu),\n",
    "    keras.layers.Dense(np.argmax(score3)+3, activation=tf.nn.relu),\n",
    "    keras.layers.Dense(np.argmax(score4)+3, activation=tf.nn.relu),\n",
    "    keras.layers.Dense(np.argmax(score5)+3, activation=tf.nn.relu),\n",
    "    keras.layers.Dense(np.argmax(score6)+3, activation=tf.nn.relu),\n",
    "    keras.layers.Dense(np.argmax(score7)+3, activation=tf.nn.relu),\n",
    "    keras.layers.Dense(np.argmax(score8)+3, activation=tf.nn.relu),\n",
    "    keras.layers.Dense(np.argmax(score9)+3, activation=tf.nn.relu),\n",
    "    keras.layers.Dense(np.argmax(score10)+3, activation=tf.nn.relu),\n",
    "\n",
    "    keras.layers.Dense(i, activation=tf.nn.relu),\n",
    "\n",
    "    keras.layers.Dense(1)\n",
    "  ], name=\"MLP_model\")\n",
    "\n",
    "    optimizer = tf.keras.optimizers.RMSprop(0.001)\n",
    "\n",
    "    model.compile(loss='mse',\n",
    "                optimizer=optimizer,\n",
    "                metrics=['mae'])\n",
    "    return model\n",
    "\n",
    "EPOCHS = 100"
   ]
  },
  {
   "cell_type": "code",
   "execution_count": 48,
   "id": "57f4fad1",
   "metadata": {},
   "outputs": [],
   "source": [
    "score11=[]\n",
    "for i in range(3,100):\n",
    "    model = build_model(Xtrain,i)\n",
    "    model.fit(Xtrain, ytrain, epochs=EPOCHS,\n",
    "                    validation_split=0.2,verbose=0)\n",
    "    ypred=model.predict(Xtest)\n",
    "    score11.append(r2_score(ytest,ypred))"
   ]
  },
  {
   "cell_type": "code",
   "execution_count": 52,
   "id": "1f1a0d56",
   "metadata": {},
   "outputs": [
    {
     "data": {
      "text/plain": [
       "0.9511759411859828"
      ]
     },
     "execution_count": 52,
     "metadata": {},
     "output_type": "execute_result"
    }
   ],
   "source": [
    "max(score11)"
   ]
  },
  {
   "cell_type": "code",
   "execution_count": 49,
   "id": "f5c84149",
   "metadata": {},
   "outputs": [],
   "source": [
    "scores=[max(score1),max(score2),max(score3),max(score4),max(score5),max(score6),max(score7),max(score8),max(score9),max(score10),max(score11)]"
   ]
  },
  {
   "cell_type": "code",
   "execution_count": 50,
   "id": "bab88f60",
   "metadata": {},
   "outputs": [],
   "source": [
    "a=np.arange(1,12)"
   ]
  },
  {
   "cell_type": "code",
   "execution_count": 51,
   "id": "a95cf823",
   "metadata": {},
   "outputs": [
    {
     "data": {
      "text/plain": [
       "Text(0.5, 0, 'Hidden layers')"
      ]
     },
     "execution_count": 51,
     "metadata": {},
     "output_type": "execute_result"
    },
    {
     "data": {
      "image/png": "[encoded data removed]",
      "text/plain": [
       "<Figure size 720x504 with 1 Axes>"
      ]
     },
     "metadata": {
      "needs_background": "light"
     },
     "output_type": "display_data"
    }
   ],
   "source": [
    "plt.rcParams[\"figure.figsize\"] = (10,7)\n",
    "\n",
    "fig, ax = plt.subplots()\n",
    "ax.plot( a,scores,c='Red')\n",
    "\n",
    "ax.set_ylabel('Scores')\n",
    "ax.set_xlabel('Hidden layers')"
   ]
  },
  {
   "cell_type": "code",
   "execution_count": null,
   "id": "180c78f1",
   "metadata": {},
   "outputs": [],
   "source": []
  },
  {
   "cell_type": "code",
   "execution_count": null,
   "id": "2f625ac3",
   "metadata": {},
   "outputs": [],
   "source": []
  },
  {
   "cell_type": "code",
   "execution_count": null,
   "id": "eb05904f",
   "metadata": {},
   "outputs": [],
   "source": []
  }
 ],
 "metadata": {
  "kernelspec": {
   "display_name": "Python 3 (ipykernel)",
   "language": "python",
   "name": "python3"
  },
  "language_info": {
   "codemirror_mode": {
    "name": "ipython",
    "version": 3
   },
   "file_extension": ".py",
   "mimetype": "text/x-python",
   "name": "python",
   "nbconvert_exporter": "python",
   "pygments_lexer": "ipython3",
   "version": "3.9.7"
  }
 },
 "nbformat": 4,
 "nbformat_minor": 5
}
