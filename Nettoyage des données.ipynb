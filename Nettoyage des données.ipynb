{
 "cells": [
  {
   "cell_type": "markdown",
   "id": "84cce5bb",
   "metadata": {},
   "source": [
    "# Nettoyage des données Journalieres"
   ]
  },
  {
   "cell_type": "code",
   "execution_count": 1,
   "id": "9edaa149",
   "metadata": {},
   "outputs": [],
   "source": [
    "import pandas as pd\n",
    "import numpy as np\n",
    "import math\n",
    "from datetime import datetime as dt\n",
    "import warnings\n",
    "warnings.filterwarnings('ignore')\n",
    "z=557\n",
    "l=33.80"
   ]
  },
  {
   "cell_type": "markdown",
   "id": "71116a6f",
   "metadata": {},
   "source": [
    "**Nettoyage des données d'ENAM Meknès**"
   ]
  },
  {
   "cell_type": "code",
   "execution_count": 2,
   "id": "3b6b0185",
   "metadata": {},
   "outputs": [],
   "source": [
    "EnamMksJr=pd.read_csv(r'ENAM Meknes journalier 09 11 2016 au 07 02 2022.csv',sep=';')"
   ]
  },
  {
   "cell_type": "code",
   "execution_count": 3,
   "id": "363c34f6",
   "metadata": {
    "scrolled": true
   },
   "outputs": [
    {
     "data": {
      "text/plain": [
       "Date/heure                 0\n",
       "Température moy            0\n",
       "Température max            0\n",
       "Température min            0\n",
       "Rayonnement solaire moy    0\n",
       "Humidité moy               0\n",
       "Humidité max               0\n",
       "Humidité min               0\n",
       "Precipitation Somme        0\n",
       "Vitesse du vent  moy       2\n",
       "Vitesse du vent  max       2\n",
       "ETP quotidien [mm]         6\n",
       "dtype: int64"
      ]
     },
     "execution_count": 3,
     "metadata": {},
     "output_type": "execute_result"
    }
   ],
   "source": [
    "EnamMksJr.isnull().sum()"
   ]
  },
  {
   "cell_type": "markdown",
   "id": "a11772e3",
   "metadata": {},
   "source": [
    "**Supprimer les lignes dans la vitesse du vent moy et max sont null**"
   ]
  },
  {
   "cell_type": "code",
   "execution_count": 4,
   "id": "77928ebc",
   "metadata": {},
   "outputs": [],
   "source": [
    "EnamMksJr=EnamMksJr.dropna(subset=[\"Vitesse du vent  moy\",\"Vitesse du vent  max\",\"ETP quotidien [mm]\"])"
   ]
  },
  {
   "cell_type": "markdown",
   "id": "76cbc05e",
   "metadata": {},
   "source": [
    "**Supprimer la ligne si Humidité max < Humidité min ou viteese de vent < 0 ou Température max < Température Min**"
   ]
  },
  {
   "cell_type": "code",
   "execution_count": 5,
   "id": "153be17f",
   "metadata": {},
   "outputs": [],
   "source": [
    "for i in EnamMksJr.index:\n",
    "    if(EnamMksJr[\"Humidité max\"][i]<EnamMksJr[\"Humidité min\"][i]):\n",
    "        EnamMksJr.drop(i, axis=0, inplace=True)\n",
    "        EnamMksJr.reset_index(drop=True, inplace=True)\n",
    "    elif(EnamMksJr[\"Vitesse du vent  moy\"][i]<0):\n",
    "        EnamMksJr.drop(i, axis=0, inplace=True)\n",
    "        EnamMksJr.reset_index(drop=True, inplace=True)\n",
    "    elif(EnamMksJr[\"Température max\"][i]<EnamMksJr[\"Température min\"][i]):\n",
    "        EnamMksJr.drop(i, axis=0, inplace=True)\n",
    "        EnamMksJr.reset_index(drop=True, inplace=True)"
   ]
  },
  {
   "cell_type": "markdown",
   "id": "0591f151",
   "metadata": {},
   "source": [
    "**Convertir la date du jour au nombre de jour dans l'année**"
   ]
  },
  {
   "cell_type": "code",
   "execution_count": 6,
   "id": "36f2d890",
   "metadata": {},
   "outputs": [],
   "source": [
    "for i in EnamMksJr.index:\n",
    "    date_j = dt.strptime(EnamMksJr[\"Date/heure\"][i], '%d/%m/%Y %H:%M')\n",
    "    j = int(date_j.strftime(\"%j\"))\n",
    "    EnamMksJr[\"Date/heure\"][i] = j"
   ]
  },
  {
   "cell_type": "markdown",
   "id": "cc8784ba",
   "metadata": {},
   "source": [
    "**Nettoyage des données journaliere d'ANAM Berkane**"
   ]
  },
  {
   "cell_type": "code",
   "execution_count": 7,
   "id": "4bc5e3c5",
   "metadata": {},
   "outputs": [],
   "source": [
    "AnamBerkane=pd.read_csv(r'ANAM Berkane journalier restrint 01 08 2017 au 07 02 2022.csv',sep=';')"
   ]
  },
  {
   "cell_type": "code",
   "execution_count": 8,
   "id": "6c567df8",
   "metadata": {
    "scrolled": true
   },
   "outputs": [
    {
     "data": {
      "text/plain": [
       "Date/heure                 0\n",
       "Température moy            0\n",
       "Température max            0\n",
       "Température min            0\n",
       "Rayonnement solaire moy    0\n",
       "Humidité moy               0\n",
       "Humidité max               0\n",
       "Humidité min               0\n",
       "Precipitation Somme        0\n",
       "Vitesse du vent  moy       0\n",
       "Vitesse du vent  max       0\n",
       "Vitesse Max max            0\n",
       "ETP quotidien [mm]         4\n",
       "dtype: int64"
      ]
     },
     "execution_count": 8,
     "metadata": {},
     "output_type": "execute_result"
    }
   ],
   "source": [
    "AnamBerkane.isnull().sum()"
   ]
  },
  {
   "cell_type": "code",
   "execution_count": 9,
   "id": "94991290",
   "metadata": {},
   "outputs": [],
   "source": [
    "AnamBerkane=AnamBerkane.dropna(subset=[\"ETP quotidien [mm]\"])"
   ]
  },
  {
   "cell_type": "markdown",
   "id": "c911fd60",
   "metadata": {},
   "source": [
    "**Supprimer la ligne si Humidité max < Humidité min ou viteese de vent < 0 ou Température max < Température Min**"
   ]
  },
  {
   "cell_type": "code",
   "execution_count": 10,
   "id": "5a7303a7",
   "metadata": {},
   "outputs": [],
   "source": [
    "for i in AnamBerkane.index:\n",
    "    if(AnamBerkane[\"Température max\"][i]<AnamBerkane[\"Température min\"][i]):\n",
    "        AnamBerkane.drop(i, axis=0, inplace=True)\n",
    "        AnamBerkane.reset_index(drop=True, inplace=True)\n",
    "    elif(AnamBerkane[\"Humidité max\"][i]<AnamBerkane[\"Humidité min\"][i]):\n",
    "        AnamBerkane.drop(i, axis=0, inplace=True)\n",
    "        AnamBerkane.reset_index(drop=True, inplace=True)\n",
    "    elif(AnamBerkane[\"Vitesse du vent  moy\"][i]<0):\n",
    "        AnamBerkane.drop(i, axis=0, inplace=True)\n",
    "        AnamBerkane.reset_index(drop=True, inplace=True)"
   ]
  },
  {
   "cell_type": "markdown",
   "id": "17ecd012",
   "metadata": {},
   "source": [
    "**Convertir la date du jour au nombre de jour dans l'année**"
   ]
  },
  {
   "cell_type": "code",
   "execution_count": 11,
   "id": "405585b3",
   "metadata": {},
   "outputs": [],
   "source": [
    "for i in AnamBerkane.index:\n",
    "    date_j = dt.strptime(AnamBerkane[\"Date/heure\"][i], '%d/%m/%Y %H:%M')\n",
    "    j = int(date_j.strftime(\"%j\"))\n",
    "    AnamBerkane[\"Date/heure\"][i] = j"
   ]
  },
  {
   "cell_type": "markdown",
   "id": "78db752c",
   "metadata": {},
   "source": [
    "**Enregistrement des données nettoyées**"
   ]
  },
  {
   "cell_type": "code",
   "execution_count": 12,
   "id": "7d1b659b",
   "metadata": {},
   "outputs": [],
   "source": [
    "file_name = 'AnamBerkaneJr.xlsx'\n",
    "AnamBerkane.to_excel(file_name)\n",
    "file_name = 'EnamMksJr.xlsx'\n",
    "EnamMksJr.to_excel(file_name)"
   ]
  },
  {
   "cell_type": "markdown",
   "id": "0009460c",
   "metadata": {},
   "source": [
    "# Nettoyage des données Horraires"
   ]
  },
  {
   "cell_type": "code",
   "execution_count": 13,
   "id": "d462f207",
   "metadata": {},
   "outputs": [],
   "source": [
    "z=557\n",
    "l=33.80"
   ]
  },
  {
   "cell_type": "code",
   "execution_count": 14,
   "id": "394b7cb2",
   "metadata": {},
   "outputs": [],
   "source": [
    "def E(T):\n",
    "    return 0.6108*np.exp((17.27*T)/(T+237.3))\n",
    "def u2(vitesse):\n",
    "    return vitesse*(4.87/(math.log(67.8*2 - 5.42)))\n",
    "def ea(etmin,HR_max,etmax,HR_min):\n",
    "    return (etmin*(HR_max / 100) + etmax * (HR_min / 100))/2\n",
    "def ra(J):\n",
    "    delta=0.409*np.sin(2*np.pi*J/365-1.39) \n",
    "    Gcs=0.0820\n",
    "    phi=l*np.pi/180\n",
    "    dr=1+0.033*np.cos(2*np.pi*J/365)\n",
    "    ws=np.arccos(-np.tan(phi)*np.tan(delta))\n",
    "    return 24*60/np.pi*Gcs*dr*(ws*np.sin(phi)*np.sin(delta)+np.cos(phi)*np.cos(delta)*np.sin(ws))\n",
    "def ET_Asce(T_max,T_min,HR_max,HR_min,Rs,vitesse,J):\n",
    "    Rs=Rs *86400/10**6\n",
    "    U2=u2(vitesse)\n",
    "    P=101.3*(((293-0.0065*z)/293)**(5.26))\n",
    "    gamma=0.000665 * P\n",
    "    sigma=4.903*(10**(-9))\n",
    "    Tmoy=(T_max+T_min)/2\n",
    "    Delta= (4098*E(Tmoy))/((Tmoy + 237.3)**2)\n",
    "    \n",
    "    #calcul de es\n",
    "    etmin=E(T_min)\n",
    "    etmax=E(T_max)\n",
    "    es=(etmax+etmin)/2\n",
    "    # ea\n",
    "    Ea=ea(etmin,HR_max,etmax,HR_min)\n",
    "    #Ra\n",
    "    Ra=ra(J)\n",
    "    #calcul de rso\n",
    "    Rso=(0.75+2*547.6*10**(-5))*Ra\n",
    "    #calcul de Rns\n",
    "    Rns=0.77*Rs\n",
    "    #calcul de Rnl\n",
    "    Rnl=sigma*((T_max+273.16)**4+(T_min+273.16)**4)/2*(0.34-0.14*np.sqrt(Ea))*(1.35*Rs/Rso-0.35)\n",
    "    #calcul de Rn\n",
    "    Rn=Rns-Rnl\n",
    "    #calcul de l'ET0 \n",
    "    Rng=0.408*Rn\n",
    "    if(Rn<0): \n",
    "        Cd=0.96\n",
    "    else:\n",
    "        Cd=0.24\n",
    "    DT = Delta/(Delta+gamma*(1+Cd*U2))\n",
    "    PT = gamma/(Delta+gamma*(1+Cd*U2))\n",
    "    TT=(37/(Tmoy+273))*U2\n",
    "    ETrad = DT*Rng\n",
    "    ETwind = PT*TT*(es - Ea)\n",
    "    et0=ETrad+ETwind\n",
    "    return et0"
   ]
  },
  {
   "cell_type": "code",
   "execution_count": 15,
   "id": "ae9ac43b",
   "metadata": {},
   "outputs": [],
   "source": [
    "EnamHorraire=pd.read_excel(r'donnee horaire ENAM LAMRIS 16 11 2021.xlsx')"
   ]
  },
  {
   "cell_type": "markdown",
   "id": "cecbe2bd",
   "metadata": {},
   "source": [
    "**Suppression des colonnes dont on a pas besoin**"
   ]
  },
  {
   "cell_type": "code",
   "execution_count": 16,
   "id": "c15929b1",
   "metadata": {},
   "outputs": [],
   "source": [
    "EnamHorraire=EnamHorraire.drop(columns=['Point De Rosée moy','Point De Rosée min','VPD moy','VPD min','Precipitation Somme','Vitesse Du Vent max Max','Direction Du Vent moy','Direction Du Vent dernier','Panneau Solaire dernier','Batterie dernier'])"
   ]
  },
  {
   "cell_type": "code",
   "execution_count": 17,
   "id": "da6f3ff0",
   "metadata": {
    "scrolled": false
   },
   "outputs": [
    {
     "data": {
      "text/plain": [
       "Date/heure                   0\n",
       "Température moy              4\n",
       "Température max              4\n",
       "Température min              4\n",
       "Radiation Solaire moy        4\n",
       "Humidité moy                 4\n",
       "Humidité max                 4\n",
       "Humidité min                 4\n",
       "Vitesse du vent moy          4\n",
       "Vitesse du vent max          4\n",
       "ETP quotidien            33484\n",
       "dtype: int64"
      ]
     },
     "execution_count": 17,
     "metadata": {},
     "output_type": "execute_result"
    }
   ],
   "source": [
    "EnamHorraire.isnull().sum()"
   ]
  },
  {
   "cell_type": "code",
   "execution_count": 18,
   "id": "b4f84869",
   "metadata": {},
   "outputs": [],
   "source": [
    "EnamHorraire=EnamHorraire.dropna(subset=[\"Température moy\",\"Température max\",\"Radiation Solaire moy\",\"Humidité moy\",\"Humidité max\",\"Vitesse du vent moy\"])"
   ]
  },
  {
   "cell_type": "markdown",
   "id": "dee48cdd",
   "metadata": {},
   "source": [
    "**Supprimer la ligne si Humidité max < Humidité min ou viteese de vent < 0 ou Température max < Température Min**"
   ]
  },
  {
   "cell_type": "code",
   "execution_count": 19,
   "id": "9d03cce5",
   "metadata": {},
   "outputs": [],
   "source": [
    "for i in EnamHorraire.index:\n",
    "    if(EnamHorraire[\"Humidité max\"][i]<EnamHorraire[\"Humidité min\"][i]):\n",
    "        EnamHorraire.drop(i, axis=0, inplace=True)\n",
    "        EnamHorraire.reset_index(drop=True, inplace=True)\n",
    "    elif((EnamHorraire[\"Vitesse du vent moy\"][i]<0) | (EnamHorraire[\"Vitesse du vent max\"][i]<0) ):\n",
    "        EnamHorraire.drop(i, axis=0, inplace=True)\n",
    "        EnamHorraire.reset_index(drop=True, inplace=True)\n",
    "    elif(EnamHorraire[\"Température max\"][i]<EnamHorraire[\"Température min\"][i]):\n",
    "        EnamHorraire.drop(i, axis=0, inplace=True)\n",
    "        EnamHorraire.reset_index(drop=True, inplace=True)"
   ]
  },
  {
   "cell_type": "markdown",
   "id": "54e3ebcf",
   "metadata": {},
   "source": [
    "**Convertir la date du jour au nombre de jour dans l'année**"
   ]
  },
  {
   "cell_type": "code",
   "execution_count": 20,
   "id": "78087599",
   "metadata": {},
   "outputs": [],
   "source": [
    "for i in EnamHorraire.index:\n",
    "    date_j = dt.strptime(EnamHorraire[\"Date/heure\"][i], '%Y-%m-%d %H:%M:%S')\n",
    "    j = int(date_j.strftime(\"%j\"))\n",
    "    EnamHorraire[\"Date/heure\"][i] = j"
   ]
  },
  {
   "cell_type": "markdown",
   "id": "f773da7e",
   "metadata": {},
   "source": [
    "**Remplacer les valeurs d'ET0 null avec la valeur calculer par l'equation ASCE-PM**"
   ]
  },
  {
   "cell_type": "code",
   "execution_count": 21,
   "id": "c8173ea1",
   "metadata": {},
   "outputs": [],
   "source": [
    "EnamHorraire['ET Horraire']=0\n",
    "for i in EnamHorraire.index:\n",
    "    EnamHorraire['ET Horraire'][i]=ET_Asce(EnamHorraire[\"Température max\"][i],EnamHorraire[\"Température min\"][i],EnamHorraire[\"Humidité max\"][i],EnamHorraire[\"Humidité min\"][i],EnamHorraire[\"Radiation Solaire moy\"][i],EnamHorraire[\"Vitesse du vent moy\"][i],EnamHorraire[\"Date/heure\"][i])"
   ]
  },
  {
   "cell_type": "code",
   "execution_count": 22,
   "id": "95c8862a",
   "metadata": {},
   "outputs": [],
   "source": [
    "Jour=EnamHorraire[\"Date/heure\"][0]\n",
    "EnamHorraire['ET Daily calculé']=np.nan\n",
    "temp=[]\n",
    "case=0\n",
    "for i in EnamHorraire.index:\n",
    "    if (EnamHorraire[\"Date/heure\"][i]==Jour):\n",
    "        temp.append(EnamHorraire[\"ET Horraire\"][i])\n",
    "    elif(EnamHorraire[\"Date/heure\"][i]!=Jour):\n",
    "        Etdaily=sum(temp)/len(temp)\n",
    "        EnamHorraire['ET Daily calculé'][case]=Etdaily\n",
    "        Jour=EnamHorraire[\"Date/heure\"][i]\n",
    "        temp=[]\n",
    "        temp.append(EnamHorraire[\"ET Horraire\"][i])\n",
    "        case=i-1\n",
    "    if i == EnamHorraire.index[-1] :\n",
    "        Etdaily=sum(temp)/len(temp)\n",
    "        EnamHorraire['ET Daily calculé'][case]=Etdaily"
   ]
  },
  {
   "cell_type": "code",
   "execution_count": 23,
   "id": "75df41dd",
   "metadata": {},
   "outputs": [
    {
     "data": {
      "text/plain": [
       "Date/heure                   0\n",
       "Température moy              0\n",
       "Température max              0\n",
       "Température min              0\n",
       "Radiation Solaire moy        0\n",
       "Humidité moy                 0\n",
       "Humidité max                 0\n",
       "Humidité min                 0\n",
       "Vitesse du vent moy          0\n",
       "Vitesse du vent max          0\n",
       "ETP quotidien            33484\n",
       "ET Horraire                  0\n",
       "ET Daily calculé         33481\n",
       "dtype: int64"
      ]
     },
     "execution_count": 23,
     "metadata": {},
     "output_type": "execute_result"
    }
   ],
   "source": [
    "EnamHorraire.isnull().sum()"
   ]
  },
  {
   "cell_type": "markdown",
   "id": "fa4b7d83",
   "metadata": {},
   "source": [
    "**Nettoyage des données Ensam Meknès horraire**"
   ]
  },
  {
   "cell_type": "code",
   "execution_count": 24,
   "id": "2358d462",
   "metadata": {},
   "outputs": [],
   "source": [
    "EnsamHorraire=pd.read_excel(r'donnee horaire ENSAM 16 11 2021.xlsx')"
   ]
  },
  {
   "cell_type": "markdown",
   "id": "27031827",
   "metadata": {},
   "source": [
    "**Suppression des colonne dont on a pas besoin**"
   ]
  },
  {
   "cell_type": "code",
   "execution_count": 25,
   "id": "148b7899",
   "metadata": {},
   "outputs": [],
   "source": [
    "EnsamHorraire=EnsamHorraire.drop(columns=['Point De Rosée moy','Point De Rosée min','VPD moy','VPD min','Precipitation Somme','Vitesse Du Vent max Max','Direction Du Vent moy','Direction Du Vent dernier','Panneau Solaire dernier','Batterie dernier','DeltaT moy','DeltaT max','DeltaT min','Humectation foliaire time'])"
   ]
  },
  {
   "cell_type": "code",
   "execution_count": 26,
   "id": "0c285d6f",
   "metadata": {
    "scrolled": true
   },
   "outputs": [
    {
     "data": {
      "text/plain": [
       "Date/heure                   0\n",
       "Température moy              1\n",
       "Température max              1\n",
       "Température min              1\n",
       "Radiation Solaire moy        1\n",
       "Humidité moy                 1\n",
       "Humidité max                 1\n",
       "Humidité min                 1\n",
       "Vitesse du vent moy          1\n",
       "Vitesse du vent max          1\n",
       "ETP quotidien            20285\n",
       "dtype: int64"
      ]
     },
     "execution_count": 26,
     "metadata": {},
     "output_type": "execute_result"
    }
   ],
   "source": [
    "EnsamHorraire.isnull().sum()"
   ]
  },
  {
   "cell_type": "markdown",
   "id": "90a6e36e",
   "metadata": {},
   "source": [
    "**suppression des lignes dans les colonnes contenant des vaeurs null**"
   ]
  },
  {
   "cell_type": "code",
   "execution_count": 27,
   "id": "b0377868",
   "metadata": {},
   "outputs": [],
   "source": [
    "EnsamHorraire=EnsamHorraire.dropna(subset=[\"Température moy\",\"Température max\",\"Température min\",\"Radiation Solaire moy\",\"Humidité moy\",\"Humidité max\",\"Humidité min\",\"Vitesse du vent moy\",\"Vitesse du vent max\"])"
   ]
  },
  {
   "cell_type": "markdown",
   "id": "23974f36",
   "metadata": {},
   "source": [
    "**Supprimer la ligne si Humidité max < Humidité min ou viteese de vent < 0 ou Température max < Température Min**"
   ]
  },
  {
   "cell_type": "code",
   "execution_count": 28,
   "id": "378063f6",
   "metadata": {},
   "outputs": [],
   "source": [
    "for i in EnsamHorraire.index:\n",
    "    if(EnsamHorraire[\"Humidité max\"][i]<EnsamHorraire[\"Humidité min\"][i]):\n",
    "        EnsamHorraire.drop(i, axis=0, inplace=True)\n",
    "        EnsamHorraire.reset_index(drop=True, inplace=True)\n",
    "    elif((EnsamHorraire[\"Vitesse du vent moy\"][i]<0) | (EnsamHorraire[\"Vitesse du vent max\"][i]<0) ):\n",
    "        EnsamHorraire.drop(i, axis=0, inplace=True)\n",
    "        EnsamHorraire.reset_index(drop=True, inplace=True)\n",
    "    elif(EnsamHorraire[\"Température max\"][i]<EnsamHorraire[\"Température min\"][i]):\n",
    "        EnsamHorraire.drop(i, axis=0, inplace=True)\n",
    "        EnsamHorraire.reset_index(drop=True, inplace=True)"
   ]
  },
  {
   "cell_type": "markdown",
   "id": "c21d3c54",
   "metadata": {},
   "source": [
    "**Convertir la date du jour au nombre de jour dans l'année**"
   ]
  },
  {
   "cell_type": "code",
   "execution_count": 29,
   "id": "0961bef6",
   "metadata": {},
   "outputs": [],
   "source": [
    "for i in EnsamHorraire.index:\n",
    "    date_j = dt.strptime(EnsamHorraire[\"Date/heure\"][i], '%Y-%m-%d %H:%M:%S')\n",
    "    j = int(date_j.strftime(\"%j\"))\n",
    "    EnsamHorraire[\"Date/heure\"][i] = j"
   ]
  },
  {
   "cell_type": "markdown",
   "id": "8ee31d7c",
   "metadata": {},
   "source": [
    "**Remplacer les valeurs d'ET0 null avec la valeur calculer par l'equation ASCE-PM**"
   ]
  },
  {
   "cell_type": "code",
   "execution_count": 30,
   "id": "64d1655e",
   "metadata": {},
   "outputs": [],
   "source": [
    "EnsamHorraire['ET Horraire']=0\n",
    "for i in EnsamHorraire.index:\n",
    "    EnsamHorraire['ET Horraire'][i]=ET_Asce(EnsamHorraire[\"Température max\"][i],EnsamHorraire[\"Température min\"][i],EnsamHorraire[\"Humidité max\"][i],EnsamHorraire[\"Humidité min\"][i],EnsamHorraire[\"Radiation Solaire moy\"][i],EnsamHorraire[\"Vitesse du vent moy\"][i],EnsamHorraire[\"Date/heure\"][i])"
   ]
  },
  {
   "cell_type": "code",
   "execution_count": 31,
   "id": "40e12b8e",
   "metadata": {},
   "outputs": [],
   "source": [
    "Jour=EnsamHorraire[\"Date/heure\"][0]\n",
    "EnsamHorraire['ET Daily calculé']=np.nan\n",
    "temp=[]\n",
    "case=0\n",
    "for i in EnsamHorraire.index:\n",
    "    if (EnsamHorraire[\"Date/heure\"][i]==Jour):\n",
    "        temp.append(EnsamHorraire[\"ET Horraire\"][i])\n",
    "    elif(EnsamHorraire[\"Date/heure\"][i]!=Jour):\n",
    "        Etdaily=sum(temp)/len(temp)\n",
    "        EnsamHorraire['ET Daily calculé'][case]=Etdaily\n",
    "        Jour=EnsamHorraire[\"Date/heure\"][i]\n",
    "        temp=[]\n",
    "        temp.append(EnsamHorraire[\"ET Horraire\"][i])\n",
    "        case=i-1\n",
    "    if i == EnsamHorraire.index[-1] :\n",
    "        Etdaily=sum(temp)/len(temp)\n",
    "        EnsamHorraire['ET Daily calculé'][case]=Etdaily"
   ]
  },
  {
   "cell_type": "code",
   "execution_count": 32,
   "id": "7c628daf",
   "metadata": {},
   "outputs": [
    {
     "data": {
      "text/plain": [
       "Date/heure                   0\n",
       "Température moy              0\n",
       "Température max              0\n",
       "Température min              0\n",
       "Radiation Solaire moy        0\n",
       "Humidité moy                 0\n",
       "Humidité max                 0\n",
       "Humidité min                 0\n",
       "Vitesse du vent moy          0\n",
       "Vitesse du vent max          0\n",
       "ETP quotidien            20285\n",
       "ET Horraire                  0\n",
       "ET Daily calculé         20284\n",
       "dtype: int64"
      ]
     },
     "execution_count": 32,
     "metadata": {},
     "output_type": "execute_result"
    }
   ],
   "source": [
    "EnsamHorraire.isnull().sum()"
   ]
  },
  {
   "cell_type": "markdown",
   "id": "5102c559",
   "metadata": {},
   "source": [
    "**Enregistrement des nouveaux fichier bien nettoyer**"
   ]
  },
  {
   "cell_type": "code",
   "execution_count": 33,
   "id": "de656dc1",
   "metadata": {},
   "outputs": [],
   "source": [
    "file_name = 'EnamHorraire.xlsx'\n",
    "EnamHorraire.to_excel(file_name)\n",
    "file_name = 'EnsamHorraire.xlsx'\n",
    "EnsamHorraire.to_excel(file_name)"
   ]
  }
 ],
 "metadata": {
  "kernelspec": {
   "display_name": "Python 3 (ipykernel)",
   "language": "python",
   "name": "python3"
  },
  "language_info": {
   "codemirror_mode": {
    "name": "ipython",
    "version": 3
   },
   "file_extension": ".py",
   "mimetype": "text/x-python",
   "name": "python",
   "nbconvert_exporter": "python",
   "pygments_lexer": "ipython3",
   "version": "3.9.7"
  }
 },
 "nbformat": 4,
 "nbformat_minor": 5
}
