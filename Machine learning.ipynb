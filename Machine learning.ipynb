{
 "cells": [
  {
   "cell_type": "code",
   "execution_count": 1,
   "id": "425330dc",
   "metadata": {},
   "outputs": [],
   "source": [
    "import pandas as pd\n",
    "import numpy as np\n",
    "import matplotlib.pyplot as plt \n",
    "import math\n",
    "from datetime import datetime as dt\n",
    "import matplotlib.pyplot as plt\n",
    "import seaborn as sb\n",
    "from sklearn.metrics import r2_score\n",
    "from sklearn.metrics import mean_absolute_error as  mae\n",
    "from sklearn.metrics import mean_squared_error as mse\n",
    "from sklearn.svm import SVR\n",
    "from sklearn.model_selection import GridSearchCV\n",
    "from sklearn.ensemble import RandomForestRegressor\n",
    "import xgboost as xgb\n",
    "from sklearn.svm import SVR\n",
    "from itertools import combinations\n",
    "import warnings\n",
    "from sklearn.model_selection import train_test_split\n",
    "warnings.filterwarnings('ignore')\n",
    "plt.rcParams[\"figure.figsize\"] = (20,7)\n",
    "import pickle"
   ]
  },
  {
   "cell_type": "markdown",
   "id": "95fff603",
   "metadata": {},
   "source": [
    "# Entrainement sur des données Journalieres"
   ]
  },
  {
   "cell_type": "markdown",
   "id": "b48f856c",
   "metadata": {},
   "source": [
    "# 1er Scenario"
   ]
  },
  {
   "cell_type": "markdown",
   "id": "ee98522f",
   "metadata": {},
   "source": [
    "Entrainement sur des données de Meknes et test par des données de Berkane"
   ]
  },
  {
   "cell_type": "code",
   "execution_count": 2,
   "id": "2e3d27dc",
   "metadata": {},
   "outputs": [],
   "source": [
    "EnamMekjr= pd.read_excel(r'EnamMksJr.xlsx')\n",
    "EnamBerkaneJr= pd.read_excel(r'AnamBerkaneJr.xlsx')"
   ]
  },
  {
   "cell_type": "code",
   "execution_count": 3,
   "id": "be66ac54",
   "metadata": {},
   "outputs": [],
   "source": [
    "ytrain=EnamMekjr[\"ETP quotidien [mm]\"].astype('int')\n",
    "Xtrain=EnamMekjr.drop(columns=['ETP quotidien [mm]','Date/heure','Precipitation Somme','Unnamed: 0'])\n",
    "ytest=EnamBerkaneJr['ETP quotidien [mm]']\n",
    "Xtest=EnamBerkaneJr.drop(columns=['ETP quotidien [mm]','Date/heure','Precipitation Somme','Vitesse Max max','Unnamed: 0'])"
   ]
  },
  {
   "cell_type": "markdown",
   "id": "d8a7a797",
   "metadata": {},
   "source": [
    "# Entrainement sur 4 variables**"
   ]
  },
  {
   "cell_type": "code",
   "execution_count": 4,
   "id": "ad4654aa",
   "metadata": {},
   "outputs": [],
   "source": [
    "grid = { \n",
    "    'n_estimators': [200,300,400,500],\n",
    "    'max_features': ['sqrt','log2'],\n",
    "    'max_depth' : [3,4,5,6,7]\n",
    "}"
   ]
  },
  {
   "cell_type": "markdown",
   "id": "e252d958",
   "metadata": {},
   "source": [
    "**Xgboost**"
   ]
  },
  {
   "cell_type": "code",
   "execution_count": 5,
   "id": "eda92394",
   "metadata": {
    "scrolled": true
   },
   "outputs": [],
   "source": [
    "xgb_model = xgb.XGBRegressor(verbosity = 0)\n",
    "clf = GridSearchCV(xgb_model,grid, cv=5,n_jobs=1)\n",
    "clf.fit(Xtrain, ytrain)\n",
    "modelxgb=clf.best_estimator_\n",
    "ypred=modelxgb.predict(Xtest)"
   ]
  },
  {
   "cell_type": "code",
   "execution_count": 6,
   "id": "1da6c887",
   "metadata": {},
   "outputs": [],
   "source": [
    "FS_Xgb_4vR2=r2_score(ytest,ypred)\n",
    "FS_Xgb_4vMAE=mae(ytest,ypred)\n",
    "FS_Xgb_4vMSE=mse(ytest,ypred)\n",
    "FS_Xgb_4vRMSE=mse(ytest,ypred,squared=False)# ou bien on utilise np.sqrt(np.mean((ytest-ypred)**2))\n"
   ]
  },
  {
   "cell_type": "code",
   "execution_count": 7,
   "id": "6f86ba32",
   "metadata": {},
   "outputs": [
    {
     "name": "stdout",
     "output_type": "stream",
     "text": [
      "R2 =  0.893945181977736\n",
      "Mae =  0.3807799128676528\n",
      "Mse =  0.22082200343118824\n",
      "Rmse = 0.46991701760118054\n"
     ]
    }
   ],
   "source": [
    "print(\"R2 = \",FS_Xgb_4vR2)\n",
    "print(\"Mae = \",FS_Xgb_4vMAE)\n",
    "print(\"Mse = \",FS_Xgb_4vMSE)\n",
    "print(\"Rmse =\",FS_Xgb_4vRMSE)"
   ]
  },
  {
   "cell_type": "markdown",
   "id": "3ddf9e48",
   "metadata": {},
   "source": [
    "**Rf**"
   ]
  },
  {
   "cell_type": "code",
   "execution_count": 8,
   "id": "f219a53f",
   "metadata": {},
   "outputs": [],
   "source": [
    "## Grid Search function\n",
    "clf = GridSearchCV(estimator=RandomForestRegressor(), param_grid=grid, cv= 5,n_jobs=2)\n",
    "clf.fit(Xtrain, ytrain)\n",
    "ypred=clf.predict(Xtest)"
   ]
  },
  {
   "cell_type": "code",
   "execution_count": 9,
   "id": "9c08a716",
   "metadata": {},
   "outputs": [],
   "source": [
    "FS_RF_4vR2=r2_score(ytest,ypred)\n",
    "FS_RF_4vMAE=mae(ytest,ypred)\n",
    "FS_RF_4vMSE=mse(ytest,ypred)\n",
    "FS_RF_4vRMSE=mse(ytest,ypred,squared=False)# ou bien on utilise np.sqrt(np.mean((ytest-ypred)**2))\n"
   ]
  },
  {
   "cell_type": "code",
   "execution_count": 10,
   "id": "376a6ef5",
   "metadata": {},
   "outputs": [
    {
     "name": "stdout",
     "output_type": "stream",
     "text": [
      "R2 =  0.91166490141167\n",
      "Mae =  0.3415655741557728\n",
      "Mse =  0.18392689561233896\n",
      "Rmse = 0.4288669905837228\n"
     ]
    }
   ],
   "source": [
    "print(\"R2 = \",FS_RF_4vR2)\n",
    "print(\"Mae = \",FS_RF_4vMAE)\n",
    "print(\"Mse = \",FS_RF_4vMSE)\n",
    "print(\"Rmse =\",FS_RF_4vRMSE)"
   ]
  },
  {
   "cell_type": "markdown",
   "id": "a55bdd4f",
   "metadata": {},
   "source": [
    "**svr**"
   ]
  },
  {
   "cell_type": "code",
   "execution_count": 11,
   "id": "2d133b88",
   "metadata": {},
   "outputs": [],
   "source": [
    "Svrparam = {\n",
    "                'C': [1.1, 5.4, 170, 1001],\n",
    "\n",
    "                'epsilon': [0.0003, 0.007, 0.0109, 0.019, 0.14, 0.05, 8, 0.2, 3, 2, 7],\n",
    "\n",
    "                'gamma': [0.7001, 0.008, 0.001, 3.1, 1, 1.3, 5]\n",
    "        }"
   ]
  },
  {
   "cell_type": "code",
   "execution_count": 12,
   "id": "91b6082f",
   "metadata": {},
   "outputs": [],
   "source": [
    "svr = SVR()\n",
    "clf = GridSearchCV(svr,Svrparam,cv=5,n_jobs=-1)\n",
    "clf.fit(Xtrain,ytrain)\n",
    "modelsvr=clf.best_estimator_\n",
    "ypred=modelsvr.predict(Xtest)"
   ]
  },
  {
   "cell_type": "code",
   "execution_count": 13,
   "id": "b1ae7de4",
   "metadata": {},
   "outputs": [],
   "source": [
    "FS_SVR_4vR2=r2_score(ytest,ypred)\n",
    "FS_SVR_4vMAE=mae(ytest,ypred)\n",
    "FS_SVR_4vMSE=mse(ytest,ypred)\n",
    "FS_SVR_4vRMSE=mse(ytest,ypred,squared=False)# ou bien on utilise np.sqrt(np.mean((ytest-ypred)**2))"
   ]
  },
  {
   "cell_type": "code",
   "execution_count": 14,
   "id": "859bda6b",
   "metadata": {
    "scrolled": true
   },
   "outputs": [
    {
     "name": "stdout",
     "output_type": "stream",
     "text": [
      "R2 =  0.894114237811271\n",
      "Mae =  0.3581392606253651\n",
      "Mse =  0.22047000388464164\n",
      "Rmse = 0.4695423344967327\n"
     ]
    }
   ],
   "source": [
    "print(\"R2 = \",FS_SVR_4vR2)\n",
    "print(\"Mae = \",FS_SVR_4vMAE)\n",
    "print(\"Mse = \",FS_SVR_4vMSE)\n",
    "print(\"Rmse =\",FS_SVR_4vRMSE)"
   ]
  },
  {
   "cell_type": "markdown",
   "id": "7bd28a28",
   "metadata": {},
   "source": [
    "**Meilleur modele**"
   ]
  },
  {
   "cell_type": "code",
   "execution_count": 15,
   "id": "485b2c5a",
   "metadata": {},
   "outputs": [],
   "source": [
    "scoresR2=[FS_RF_4vR2,FS_Xgb_4vR2,FS_SVR_4vR2]\n",
    "scoreMae=[FS_RF_4vMAE,FS_Xgb_4vMAE,FS_SVR_4vMAE]\n",
    "scoreMse=[FS_RF_4vMSE,FS_Xgb_4vMSE,FS_SVR_4vMSE]\n",
    "scoreRmse=[FS_RF_4vRMSE,FS_Xgb_4vRMSE,FS_SVR_4vRMSE]\n",
    "Models=['Rf','Xgb','Svr']"
   ]
  },
  {
   "cell_type": "code",
   "execution_count": 16,
   "id": "80332d74",
   "metadata": {},
   "outputs": [],
   "source": [
    "tmp = max(scoresR2)\n",
    "index = scoresR2.index(tmp)"
   ]
  },
  {
   "cell_type": "code",
   "execution_count": 17,
   "id": "6ef68031",
   "metadata": {
    "scrolled": true
   },
   "outputs": [
    {
     "name": "stdout",
     "output_type": "stream",
     "text": [
      "Le meilleur model est: Rf\n",
      "R2= 0.91166490141167\n",
      "Mae= 0.3415655741557728\n",
      "mse= 0.18392689561233896\n",
      "Rmse= 0.4288669905837228\n"
     ]
    }
   ],
   "source": [
    "print(\"Le meilleur model est:\",Models[index])\n",
    "print(\"R2=\",scoresR2[index])\n",
    "print(\"Mae=\",scoreMae[index])\n",
    "print(\"mse=\",scoreMse[index])\n",
    "print(\"Rmse=\",scoreRmse[index])"
   ]
  },
  {
   "cell_type": "markdown",
   "id": "2064dd61",
   "metadata": {},
   "source": [
    "# Creation des combinaisons"
   ]
  },
  {
   "cell_type": "code",
   "execution_count": 20,
   "id": "db68506c",
   "metadata": {},
   "outputs": [],
   "source": [
    "temp=['Température min', 'Température max', 'Température moy']\n",
    "hum=['Humidité min', 'Humidité max', 'Humidité moy']\n",
    "VitVent=['Vitesse du vent  max', 'Vitesse du vent  moy']\n",
    "Ray=['Rayonnement solaire moy']\n",
    "#Création des combinaison de trois variables\n",
    "comb3Var = combinations([VitVent, hum,Ray, temp], 3)\n",
    "#Création des combinaison de deux variables\n",
    "comb2Var = combinations([VitVent, hum,Ray, temp], 2)\n",
    "#Création des combinaison d'une variables\n",
    "comb1Var = combinations([VitVent, hum,Ray, temp], 1)"
   ]
  },
  {
   "cell_type": "code",
   "execution_count": 21,
   "id": "9e8d23ea",
   "metadata": {},
   "outputs": [],
   "source": [
    "comb3v=list(comb3Var)\n",
    "comb2v=list(comb2Var)\n",
    "comb1v=list(comb1Var)"
   ]
  },
  {
   "cell_type": "markdown",
   "id": "d6e2b3ca",
   "metadata": {},
   "source": [
    "# Entrainement sur 3 variables"
   ]
  },
  {
   "cell_type": "markdown",
   "id": "2358499d",
   "metadata": {},
   "source": [
    "**RF**"
   ]
  },
  {
   "cell_type": "code",
   "execution_count": 26,
   "id": "cd819d24",
   "metadata": {},
   "outputs": [
    {
     "name": "stdout",
     "output_type": "stream",
     "text": [
      "R2 0.6591836523115844\n",
      "Mae 0.6477935939364694\n",
      "Mse 0.7096306429271051\n",
      "Rmse 0.8423957757058763\n",
      "------\n",
      "R2 0.721092049445338\n",
      "Mae 0.6006309037596285\n",
      "Mse 0.5807280947994075\n",
      "Rmse 0.7620551783167722\n",
      "------\n",
      "R2 0.9181743632871276\n",
      "Mae 0.33237588822638237\n",
      "Mse 0.1703732217726861\n",
      "Rmse 0.41276291230279655\n",
      "------\n",
      "R2 0.8847249294301671\n",
      "Mae 0.3796633293651078\n",
      "Mse 0.2400199491508089\n",
      "Rmse 0.4899183086503391\n",
      "------\n"
     ]
    }
   ],
   "source": [
    "FR_3v_rf_r2={}\n",
    "FR_3v_rf_mae={}\n",
    "FR_3v_rf_mse={}\n",
    "FR_3v_rf_Rmse={}\n",
    "for a in range(0,len(comb3v)):\n",
    "    xtr=pd.DataFrame()\n",
    "    xts=pd.DataFrame()\n",
    "    for i in comb3v[a] :\n",
    "        for x in i:\n",
    "            xtr.insert(0,x,Xtrain[x])\n",
    "            xts.insert(0,x,Xtest[x])\n",
    "    modelrfc =RandomForestRegressor()\n",
    "\n",
    "    grids = GridSearchCV(modelrfc,grid,cv=5,n_jobs=-1)\n",
    "\n",
    "    grids.fit(xtr,ytrain)\n",
    "    modelrfc=grids.best_estimator_\n",
    "    modelrfc.fit(xtr,ytrain)\n",
    "    ypred=modelrfc.predict(xts)\n",
    "    scoreR2=r2_score(ytest,ypred)\n",
    "    scoreMae=mae(ytest,ypred)\n",
    "    scoreMse=mse(ytest,ypred)\n",
    "    scoreRmse = mse(ytest,ypred,squared=False)\n",
    "    var=''\n",
    "    for col in xtr.columns:\n",
    "        var+=col+','\n",
    "    FR_3v_rf_r2[var]=scoreR2\n",
    "    FR_3v_rf_mae[var]=scoreMae\n",
    "    FR_3v_rf_mse[var]=scoreMse\n",
    "    FR_3v_rf_Rmse[var]=scoreRmse\n",
    "    print(\"R2\",scoreR2)\n",
    "    print(\"Mae\",scoreMae)\n",
    "    print(\"Mse\",scoreMse)\n",
    "    print(\"Rmse\",scoreRmse)\n",
    "    print(\"------\")"
   ]
  },
  {
   "cell_type": "code",
   "execution_count": 28,
   "id": "cf23060c",
   "metadata": {},
   "outputs": [
    {
     "data": {
      "text/plain": [
       "{'Rayonnement solaire moy,Humidité moy,Humidité max,Humidité min,Vitesse du vent  moy,Vitesse du vent  max,': 0.6591836523115844,\n",
       " 'Température moy,Température max,Température min,Humidité moy,Humidité max,Humidité min,Vitesse du vent  moy,Vitesse du vent  max,': 0.721092049445338,\n",
       " 'Température moy,Température max,Température min,Rayonnement solaire moy,Vitesse du vent  moy,Vitesse du vent  max,': 0.9181743632871276,\n",
       " 'Température moy,Température max,Température min,Rayonnement solaire moy,Humidité moy,Humidité max,Humidité min,': 0.8847249294301671}"
      ]
     },
     "execution_count": 28,
     "metadata": {},
     "output_type": "execute_result"
    }
   ],
   "source": [
    "FR_3v_rf_r2"
   ]
  },
  {
   "cell_type": "code",
   "execution_count": 29,
   "id": "6280d5de",
   "metadata": {},
   "outputs": [],
   "source": [
    "FR_3v_rf_r2['Rayonnement  & Humidité & Vitesse du vent'] = FR_3v_rf_r2.pop('Rayonnement solaire moy,Humidité moy,Humidité max,Humidité min,Vitesse du vent  moy,Vitesse du vent  max,')\n",
    "FR_3v_rf_r2['Température  & Humidité & Vitesse du vent'] = FR_3v_rf_r2.pop('Température moy,Température max,Température min,Humidité moy,Humidité max,Humidité min,Vitesse du vent  moy,Vitesse du vent  max,')\n",
    "FR_3v_rf_r2['Température  & Rayonement & Vitesse du vent'] = FR_3v_rf_r2.pop('Température moy,Température max,Température min,Rayonnement solaire moy,Vitesse du vent  moy,Vitesse du vent  max,')\n",
    "FR_3v_rf_r2['Température  & Rayonement &  Humidité'] = FR_3v_rf_r2.pop('Température moy,Température max,Température min,Rayonnement solaire moy,Humidité moy,Humidité max,Humidité min,')"
   ]
  },
  {
   "cell_type": "code",
   "execution_count": 33,
   "id": "86a0efc8",
   "metadata": {},
   "outputs": [],
   "source": [
    "Variables = list(FR_3v_rf_r2.keys())\n",
    "ScoresR2 = list(FR_3v_rf_r2.values())\n",
    "ScoreMae=list(FR_3v_rf_mae.values())\n",
    "ScoreMse=list(FR_3v_rf_mse.values())\n",
    "ScoreRmse=list(FR_3v_rf_Rmse.values())\n",
    "tmp = max(ScoresR2)\n",
    "index = ScoresR2.index(tmp)"
   ]
  },
  {
   "cell_type": "code",
   "execution_count": 34,
   "id": "f8631820",
   "metadata": {
    "scrolled": true
   },
   "outputs": [
    {
     "name": "stdout",
     "output_type": "stream",
     "text": [
      "La meilleur combinaison pour trois variables est: Température  & Rayonement & Vitesse du vent\n",
      "R2 0.9181743632871276\n",
      "Mae 0.33237588822638237\n",
      "Mse 0.1703732217726861\n",
      "Rmse 0.41276291230279655\n"
     ]
    }
   ],
   "source": [
    "print(\"La meilleur combinaison pour trois variables est:\",Variables[index])\n",
    "print(\"R2\",ScoresR2[index])\n",
    "print(\"Mae\",ScoreMae[index])\n",
    "print(\"Mse\",ScoreMse[index])\n",
    "print(\"Rmse\",ScoreRmse[index])"
   ]
  },
  {
   "cell_type": "markdown",
   "id": "5359cdf7",
   "metadata": {},
   "source": [
    "**Xgboost**"
   ]
  },
  {
   "cell_type": "code",
   "execution_count": 35,
   "id": "70f95e75",
   "metadata": {},
   "outputs": [],
   "source": [
    "xgparam = {\"learning_rate\": (0.05, 0.10, 0.15),\n",
    "                        \"max_depth\": [ 3, 4, 5, 6, 8],\n",
    "                        \"min_child_weight\": [ 1, 3, 5, 7],\n",
    "                        \"gamma\":[ 0.0, 0.1, 0.2],\n",
    "                        \"colsample_bytree\":[ 0.3, 0.4]}"
   ]
  },
  {
   "cell_type": "code",
   "execution_count": 36,
   "id": "6d50485d",
   "metadata": {},
   "outputs": [
    {
     "name": "stdout",
     "output_type": "stream",
     "text": [
      "R2 0.6530017900910583\n",
      "Mae 0.6655236580821283\n",
      "Mse 0.7225022052561789\n",
      "Rmse 0.8500012972085271\n",
      "------\n",
      "R2 0.6578914380948475\n",
      "Mae 0.6543618290436497\n",
      "Mse 0.712321226320895\n",
      "Rmse 0.8439912477750554\n",
      "------\n",
      "R2 0.9049750193179152\n",
      "Mae 0.37338862303633236\n",
      "Mse 0.1978562313484225\n",
      "Rmse 0.444810331881379\n",
      "------\n",
      "R2 0.8623929509801607\n",
      "Mae 0.407327940056341\n",
      "Mse 0.2865184705181012\n",
      "Rmse 0.535274201244653\n",
      "------\n"
     ]
    }
   ],
   "source": [
    "FR_3v_xgb_r2={}\n",
    "FR_3v_xgb_mae={}\n",
    "FR_3v_xgb_mse={}\n",
    "FR_3v_xgb_Rmse={}\n",
    "\n",
    "for a in range(0,len(comb3v)):\n",
    "    xtr=pd.DataFrame()\n",
    "    xts=pd.DataFrame()\n",
    "    for i in comb3v[a] :\n",
    "        \n",
    "        for x in i:\n",
    "            \n",
    "            xtr.insert(0,x,Xtrain[x])\n",
    "            xts.insert(0,x,Xtest[x])\n",
    "    modelxgb =xgb.XGBRegressor(verbosity = 0)\n",
    "\n",
    "    grids = GridSearchCV(modelxgb,xgparam,cv=5,n_jobs=-1)\n",
    "\n",
    "    grids.fit(xtr,ytrain)\n",
    "    modelxgb=grids.best_estimator_\n",
    "    modelxgb.fit(xtr,ytrain)\n",
    "    ypred=modelxgb.predict(xts)\n",
    "    scoreR2=r2_score(ytest,ypred)\n",
    "    scoreMae=mae(ytest,ypred)\n",
    "    scoreMse=mse(ytest,ypred)\n",
    "    scoreRmse = mse(ytest,ypred,squared=False)\n",
    "    var=''\n",
    "    for col in xtr.columns:\n",
    "        var+=col+','\n",
    "    FR_3v_xgb_r2[var]=scoreR2\n",
    "    FR_3v_xgb_mae[var]=scoreMae\n",
    "    FR_3v_xgb_mse[var]=scoreMse\n",
    "    FR_3v_xgb_Rmse[var]=scoreRmse\n",
    "    print(\"R2\",scoreR2)\n",
    "    print(\"Mae\",scoreMae)\n",
    "    print(\"Mse\",scoreMse)\n",
    "    print(\"Rmse\",scoreRmse)\n",
    "    print(\"------\")"
   ]
  },
  {
   "cell_type": "code",
   "execution_count": 37,
   "id": "811b6284",
   "metadata": {},
   "outputs": [
    {
     "data": {
      "text/plain": [
       "{'Rayonnement solaire moy,Humidité moy,Humidité max,Humidité min,Vitesse du vent  moy,Vitesse du vent  max,': 0.6530017900910583,\n",
       " 'Température moy,Température max,Température min,Humidité moy,Humidité max,Humidité min,Vitesse du vent  moy,Vitesse du vent  max,': 0.6578914380948475,\n",
       " 'Température moy,Température max,Température min,Rayonnement solaire moy,Vitesse du vent  moy,Vitesse du vent  max,': 0.9049750193179152,\n",
       " 'Température moy,Température max,Température min,Rayonnement solaire moy,Humidité moy,Humidité max,Humidité min,': 0.8623929509801607}"
      ]
     },
     "execution_count": 37,
     "metadata": {},
     "output_type": "execute_result"
    }
   ],
   "source": [
    "FR_3v_xgb_r2"
   ]
  },
  {
   "cell_type": "code",
   "execution_count": 38,
   "id": "95917e31",
   "metadata": {},
   "outputs": [],
   "source": [
    "FR_3v_xgb_r2['Rayonnement  & Humidité & Vitesse du vent'] = FR_3v_xgb_r2.pop('Rayonnement solaire moy,Humidité moy,Humidité max,Humidité min,Vitesse du vent  moy,Vitesse du vent  max,')\n",
    "FR_3v_xgb_r2['Température  & Humidité & Vitesse du vent'] = FR_3v_xgb_r2.pop('Température moy,Température max,Température min,Humidité moy,Humidité max,Humidité min,Vitesse du vent  moy,Vitesse du vent  max,')\n",
    "FR_3v_xgb_r2['Température  & Rayonement & Vitesse du vent'] = FR_3v_xgb_r2.pop('Température moy,Température max,Température min,Rayonnement solaire moy,Vitesse du vent  moy,Vitesse du vent  max,')\n",
    "FR_3v_xgb_r2['Température  & Rayonement &  Humidité'] = FR_3v_xgb_r2.pop('Température moy,Température max,Température min,Rayonnement solaire moy,Humidité moy,Humidité max,Humidité min,')"
   ]
  },
  {
   "cell_type": "code",
   "execution_count": 39,
   "id": "d2dd0d69",
   "metadata": {},
   "outputs": [],
   "source": [
    "Variables = list(FR_3v_xgb_r2.keys())\n",
    "ScoresR2 = list(FR_3v_xgb_r2.values())\n",
    "ScoreMae=list(FR_3v_xgb_mae.values())\n",
    "ScoreMse=list(FR_3v_xgb_mse.values())\n",
    "ScoreRmse=list(FR_3v_xgb_Rmse.values())\n",
    "tmp = max(ScoresR2)\n",
    "index = ScoresR2.index(tmp)"
   ]
  },
  {
   "cell_type": "code",
   "execution_count": 40,
   "id": "93c05540",
   "metadata": {},
   "outputs": [
    {
     "name": "stdout",
     "output_type": "stream",
     "text": [
      "La meilleur combinaison pour trois variables est: Température  & Rayonement & Vitesse du vent\n",
      "R2 0.9049750193179152\n",
      "Mae 0.37338862303633236\n",
      "Mse 0.1978562313484225\n",
      "Rmse 0.444810331881379\n"
     ]
    }
   ],
   "source": [
    "print(\"La meilleur combinaison pour trois variables est:\",Variables[index])\n",
    "print(\"R2\",ScoresR2[index])\n",
    "print(\"Mae\",ScoreMae[index])\n",
    "print(\"Mse\",ScoreMse[index])\n",
    "print(\"Rmse\",ScoreRmse[index])"
   ]
  },
  {
   "cell_type": "markdown",
   "id": "89d5c5ef",
   "metadata": {},
   "source": [
    "**SVR**"
   ]
  },
  {
   "cell_type": "code",
   "execution_count": 41,
   "id": "aeb153e9",
   "metadata": {},
   "outputs": [
    {
     "name": "stdout",
     "output_type": "stream",
     "text": [
      "R2 0.6932069549292201\n",
      "Mae 0.5938710472422103\n",
      "Mse 0.6387890349032745\n",
      "Rmse 0.7992427884587227\n",
      "------\n",
      "R2 0.2738419534798485\n",
      "Mae 0.852919789833237\n",
      "Mse 1.511969730659434\n",
      "Rmse 1.2296217835820225\n",
      "------\n",
      "R2 0.9264905803459886\n",
      "Mae 0.2923029014279074\n",
      "Mse 0.15305761323974063\n",
      "Rmse 0.39122578294348215\n",
      "------\n",
      "R2 0.8712503601934191\n",
      "Mae 0.3932875987392367\n",
      "Mse 0.2680760189241437\n",
      "Rmse 0.5177605806974336\n",
      "------\n"
     ]
    }
   ],
   "source": [
    "FR_3v_svr_r2={}\n",
    "FR_3v_svr_mae={}\n",
    "FR_3v_svr_mse={}\n",
    "FR_3v_svr_Rmse={}\n",
    "\n",
    "for a in range(0,len(comb3v)):\n",
    "    xtr=pd.DataFrame()\n",
    "    xts=pd.DataFrame()\n",
    "    for i in comb3v[a] :\n",
    "        \n",
    "        for x in i:\n",
    "            xtr.insert(0,x,Xtrain[x])\n",
    "            xts.insert(0,x,Xtest[x])\n",
    "    modelsvr = SVR()\n",
    "\n",
    "    grids = GridSearchCV(modelsvr,Svrparam,cv=3,n_jobs=-1)\n",
    "\n",
    "    grids.fit(xtr,ytrain)\n",
    "    modelsvr=grids.best_estimator_\n",
    "    modelsvr.fit(xtr,ytrain)\n",
    "    ypred=modelsvr.predict(xts)\n",
    "    scoreR2=r2_score(ytest,ypred)\n",
    "    scoreMae=mae(ytest,ypred)\n",
    "    scoreMse=mse(ytest,ypred)\n",
    "    scoreRmse = mse(ytest,ypred,squared=False)\n",
    "    var=''\n",
    "    for col in xtr.columns:\n",
    "        var+=col+','\n",
    "    FR_3v_svr_r2[var]=scoreR2\n",
    "    FR_3v_svr_mae[var]=scoreMae\n",
    "    FR_3v_svr_mse[var]=scoreMse\n",
    "    FR_3v_svr_Rmse[var]=scoreRmse\n",
    "    print(\"R2\",scoreR2)\n",
    "    print(\"Mae\",scoreMae)\n",
    "    print(\"Mse\",scoreMse)\n",
    "    print(\"Rmse\",scoreRmse)\n",
    "    print(\"------\")"
   ]
  },
  {
   "cell_type": "code",
   "execution_count": 42,
   "id": "30954430",
   "metadata": {},
   "outputs": [],
   "source": [
    "FR_3v_svr_r2['Rayonnement  & Humidité & Vitesse du vent'] = FR_3v_svr_r2.pop('Rayonnement solaire moy,Humidité moy,Humidité max,Humidité min,Vitesse du vent  moy,Vitesse du vent  max,')\n",
    "FR_3v_svr_r2['Température  & Humidité & Vitesse du vent'] = FR_3v_svr_r2.pop('Température moy,Température max,Température min,Humidité moy,Humidité max,Humidité min,Vitesse du vent  moy,Vitesse du vent  max,')\n",
    "FR_3v_svr_r2['Température  & Rayonement & Vitesse du vent'] = FR_3v_svr_r2.pop('Température moy,Température max,Température min,Rayonnement solaire moy,Vitesse du vent  moy,Vitesse du vent  max,')\n",
    "FR_3v_svr_r2['Température  & Rayonement &  Humidité'] = FR_3v_svr_r2.pop('Température moy,Température max,Température min,Rayonnement solaire moy,Humidité moy,Humidité max,Humidité min,')"
   ]
  },
  {
   "cell_type": "code",
   "execution_count": 43,
   "id": "543bcc33",
   "metadata": {},
   "outputs": [],
   "source": [
    "Variables = list(FR_3v_svr_r2.keys())\n",
    "ScoresR2 = list(FR_3v_svr_r2.values())\n",
    "ScoreMae=list(FR_3v_svr_mae.values())\n",
    "ScoreMse=list(FR_3v_svr_mse.values())\n",
    "ScoreRmse=list(FR_3v_svr_Rmse.values())\n",
    "tmp = max(ScoresR2)\n",
    "index = ScoresR2.index(tmp)"
   ]
  },
  {
   "cell_type": "code",
   "execution_count": 44,
   "id": "6e45328b",
   "metadata": {
    "scrolled": true
   },
   "outputs": [
    {
     "name": "stdout",
     "output_type": "stream",
     "text": [
      "La meilleur combinaison pour trois variables est: Température  & Rayonement & Vitesse du vent\n",
      "R2 0.9264905803459886\n",
      "Mae 0.2923029014279074\n",
      "Mse 0.15305761323974063\n",
      "Rmse 0.39122578294348215\n"
     ]
    }
   ],
   "source": [
    "print(\"La meilleur combinaison pour trois variables est:\",Variables[index])\n",
    "print(\"R2\",ScoresR2[index])\n",
    "print(\"Mae\",ScoreMae[index])\n",
    "print(\"Mse\",ScoreMse[index])\n",
    "print(\"Rmse\",ScoreRmse[index])"
   ]
  },
  {
   "cell_type": "markdown",
   "id": "55bf0f10",
   "metadata": {},
   "source": [
    "# Entrainement sur Deux variables"
   ]
  },
  {
   "cell_type": "markdown",
   "id": "b59c7962",
   "metadata": {},
   "source": [
    "**RF**"
   ]
  },
  {
   "cell_type": "code",
   "execution_count": 45,
   "id": "4d6ca39f",
   "metadata": {},
   "outputs": [
    {
     "name": "stdout",
     "output_type": "stream",
     "text": [
      "R2 -0.0659678059803055\n",
      "Mae 1.183047070206237\n",
      "Mse 2.21950450624793\n",
      "Rmse 1.4898001564800327\n",
      "------\n",
      "R2 0.767283818595275\n",
      "Mae 0.5373924017243832\n",
      "Mse 0.48454991830601407\n",
      "Rmse 0.696096199031437\n",
      "------\n",
      "R2 0.7035084303154628\n",
      "Mae 0.6013036096326818\n",
      "Mse 0.6173398214162489\n",
      "Rmse 0.7857097564726105\n",
      "------\n",
      "R2 0.6958887850922175\n",
      "Mae 0.6046647393513812\n",
      "Mse 0.6332050631375509\n",
      "Rmse 0.7957418319640804\n",
      "------\n",
      "R2 0.6944609565014008\n",
      "Mae 0.6333508360937106\n",
      "Mse 0.6361780159544072\n",
      "Rmse 0.7976076829835625\n",
      "------\n",
      "R2 0.9077711299548104\n",
      "Mae 0.31830569112713386\n",
      "Mse 0.192034310532672\n",
      "Rmse 0.4382171956149964\n",
      "------\n"
     ]
    }
   ],
   "source": [
    "FR_2v_rf_r2={}\n",
    "FR_2v_rf_mae={}\n",
    "FR_2v_rf_mse={}\n",
    "FR_2v_rf_Rmse={}\n",
    "for a in range(0,len(comb2v)):\n",
    "    xtr=pd.DataFrame()\n",
    "    xts=pd.DataFrame()\n",
    "    for i in comb2v[a] :\n",
    "        for x in i:\n",
    "            xtr.insert(0,x,Xtrain[x])\n",
    "            xts.insert(0,x,Xtest[x])\n",
    "    modelrfc =RandomForestRegressor()\n",
    "\n",
    "    grids = GridSearchCV(modelrfc,grid,cv=5,n_jobs=-1)\n",
    "\n",
    "    grids.fit(xtr,ytrain)\n",
    "    modelrfc=grids.best_estimator_\n",
    "    modelrfc.fit(xtr,ytrain)\n",
    "    ypred=modelrfc.predict(xts)\n",
    "    scoreR2=r2_score(ytest,ypred)\n",
    "    scoreMae=mae(ytest,ypred)\n",
    "    scoreMse=mse(ytest,ypred)\n",
    "    scoreRmse = mse(ytest,ypred,squared=False)\n",
    "    var=''\n",
    "    for col in xtr.columns:\n",
    "        var+=col+','\n",
    "    FR_2v_rf_r2[var]=scoreR2\n",
    "    FR_2v_rf_mae[var]=scoreMae\n",
    "    FR_2v_rf_mse[var]=scoreMse\n",
    "    FR_2v_rf_Rmse[var]=scoreRmse\n",
    "    print(\"R2\",scoreR2)\n",
    "    print(\"Mae\",scoreMae)\n",
    "    print(\"Mse\",scoreMse)\n",
    "    print(\"Rmse\",scoreRmse)\n",
    "    print(\"------\")"
   ]
  },
  {
   "cell_type": "code",
   "execution_count": 46,
   "id": "f1670aa9",
   "metadata": {},
   "outputs": [
    {
     "data": {
      "text/plain": [
       "{'Humidité moy,Humidité max,Humidité min,Vitesse du vent  moy,Vitesse du vent  max,': -0.0659678059803055,\n",
       " 'Rayonnement solaire moy,Vitesse du vent  moy,Vitesse du vent  max,': 0.767283818595275,\n",
       " 'Température moy,Température max,Température min,Vitesse du vent  moy,Vitesse du vent  max,': 0.7035084303154628,\n",
       " 'Rayonnement solaire moy,Humidité moy,Humidité max,Humidité min,': 0.6958887850922175,\n",
       " 'Température moy,Température max,Température min,Humidité moy,Humidité max,Humidité min,': 0.6944609565014008,\n",
       " 'Température moy,Température max,Température min,Rayonnement solaire moy,': 0.9077711299548104}"
      ]
     },
     "execution_count": 46,
     "metadata": {},
     "output_type": "execute_result"
    }
   ],
   "source": [
    "FR_2v_rf_r2"
   ]
  },
  {
   "cell_type": "code",
   "execution_count": 47,
   "id": "460faada",
   "metadata": {},
   "outputs": [],
   "source": [
    "FR_2v_rf_r2['Humidité & Vitesse du vent'] = FR_2v_rf_r2.pop('Humidité moy,Humidité max,Humidité min,Vitesse du vent  moy,Vitesse du vent  max,')\n",
    "FR_2v_rf_r2['Rayonnement & Vitesse du vent'] = FR_2v_rf_r2.pop('Rayonnement solaire moy,Vitesse du vent  moy,Vitesse du vent  max,')\n",
    "FR_2v_rf_r2['Température & Vitesse du vent'] = FR_2v_rf_r2.pop('Température moy,Température max,Température min,Vitesse du vent  moy,Vitesse du vent  max,')\n",
    "FR_2v_rf_r2['Rayonnement & Humidité'] = FR_2v_rf_r2.pop('Rayonnement solaire moy,Humidité moy,Humidité max,Humidité min,')\n",
    "FR_2v_rf_r2['Température & Humidité'] = FR_2v_rf_r2.pop('Température moy,Température max,Température min,Humidité moy,Humidité max,Humidité min,')\n",
    "FR_2v_rf_r2['Température & Rayonnement'] = FR_2v_rf_r2.pop('Température moy,Température max,Température min,Rayonnement solaire moy,')"
   ]
  },
  {
   "cell_type": "code",
   "execution_count": 48,
   "id": "0ade7025",
   "metadata": {},
   "outputs": [],
   "source": [
    "Variables = list(FR_2v_rf_r2.keys())\n",
    "ScoresR2 = list(FR_2v_rf_r2.values())\n",
    "ScoreMae=list(FR_2v_rf_mae.values())\n",
    "ScoreMse=list(FR_2v_rf_mse.values())\n",
    "ScoreRmse=list(FR_2v_rf_Rmse.values())\n",
    "tmp = max(ScoresR2)\n",
    "index = ScoresR2.index(tmp)"
   ]
  },
  {
   "cell_type": "code",
   "execution_count": 49,
   "id": "d63e97b2",
   "metadata": {},
   "outputs": [
    {
     "name": "stdout",
     "output_type": "stream",
     "text": [
      "La meilleur combinaison pour deux variables est: Température & Rayonnement\n",
      "R2 0.9077711299548104\n",
      "Mae 0.31830569112713386\n",
      "Mse 0.192034310532672\n",
      "Rmse 0.4382171956149964\n"
     ]
    }
   ],
   "source": [
    "print(\"La meilleur combinaison pour deux variables est:\",Variables[index])\n",
    "print(\"R2\",ScoresR2[index])\n",
    "print(\"Mae\",ScoreMae[index])\n",
    "print(\"Mse\",ScoreMse[index])\n",
    "print(\"Rmse\",ScoreRmse[index])"
   ]
  },
  {
   "cell_type": "markdown",
   "id": "b5b56a92",
   "metadata": {},
   "source": [
    "**xgboost**"
   ]
  },
  {
   "cell_type": "code",
   "execution_count": 50,
   "id": "64e5634c",
   "metadata": {},
   "outputs": [
    {
     "name": "stdout",
     "output_type": "stream",
     "text": [
      "R2 -0.13281784877056046\n",
      "Mae 1.2278586643095877\n",
      "Mse 2.358696300205898\n",
      "Rmse 1.5358047728164859\n",
      "------\n",
      "R2 0.8019465608154435\n",
      "Mae 0.5078022500740619\n",
      "Mse 0.41237690133030647\n",
      "Rmse 0.6421657895982209\n",
      "------\n",
      "R2 0.6186310516138276\n",
      "Mae 0.6952884295320437\n",
      "Mse 0.794067226737411\n",
      "Rmse 0.8911044982141045\n",
      "------\n",
      "R2 0.7058064622581922\n",
      "Mae 0.6092345305604256\n",
      "Mse 0.6125549749848889\n",
      "Rmse 0.7826589135663689\n",
      "------\n",
      "R2 0.6076968439114786\n",
      "Mae 0.6978323001818252\n",
      "Mse 0.8168338836021521\n",
      "Rmse 0.9037886277234031\n",
      "------\n",
      "R2 0.8923259579853637\n",
      "Mae 0.35212099221604537\n",
      "Mse 0.22419347011858035\n",
      "Rmse 0.47349072865113245\n",
      "------\n"
     ]
    }
   ],
   "source": [
    "FR_2v_xgb_r2={}\n",
    "FR_2v_xgb_mae={}\n",
    "FR_2v_xgb_mse={}\n",
    "FR_2v_xgb_Rmse={}\n",
    "\n",
    "for a in range(0,len(comb2v)):\n",
    "    xtr=pd.DataFrame()\n",
    "    xts=pd.DataFrame()\n",
    "    for i in comb2v[a] :\n",
    "        \n",
    "        for x in i:\n",
    "            \n",
    "            xtr.insert(0,x,Xtrain[x])\n",
    "            xts.insert(0,x,Xtest[x])\n",
    "    modelxgb =xgb.XGBRegressor(verbosity = 0)\n",
    "\n",
    "    grids = GridSearchCV(modelxgb,xgparam,cv=5,n_jobs=-1)\n",
    "\n",
    "    grids.fit(xtr,ytrain)\n",
    "    modelxgb=grids.best_estimator_\n",
    "    modelxgb.fit(xtr,ytrain)\n",
    "    ypred=modelxgb.predict(xts)\n",
    "    scoreR2=r2_score(ytest,ypred)\n",
    "    scoreMae=mae(ytest,ypred)\n",
    "    scoreMse=mse(ytest,ypred)\n",
    "    scoreRmse = mse(ytest,ypred,squared=False)\n",
    "    var=''\n",
    "    for col in xtr.columns:\n",
    "        var+=col+','\n",
    "    FR_2v_xgb_r2[var]=scoreR2\n",
    "    FR_2v_xgb_mae[var]=scoreMae\n",
    "    FR_2v_xgb_mse[var]=scoreMse\n",
    "    FR_2v_xgb_Rmse[var]=scoreRmse\n",
    "    print(\"R2\",scoreR2)\n",
    "    print(\"Mae\",scoreMae)\n",
    "    print(\"Mse\",scoreMse)\n",
    "    print(\"Rmse\",scoreRmse)\n",
    "    print(\"------\")"
   ]
  },
  {
   "cell_type": "code",
   "execution_count": 51,
   "id": "4fcbba64",
   "metadata": {},
   "outputs": [],
   "source": [
    "FR_2v_xgb_r2['Humidité & Vitesse du vent'] = FR_2v_xgb_r2.pop('Humidité moy,Humidité max,Humidité min,Vitesse du vent  moy,Vitesse du vent  max,')\n",
    "FR_2v_xgb_r2['Rayonnement & Vitesse du vent'] = FR_2v_xgb_r2.pop('Rayonnement solaire moy,Vitesse du vent  moy,Vitesse du vent  max,')\n",
    "FR_2v_xgb_r2['Température & Vitesse du vent'] = FR_2v_xgb_r2.pop('Température moy,Température max,Température min,Vitesse du vent  moy,Vitesse du vent  max,')\n",
    "FR_2v_xgb_r2['Rayonnement & Humidité'] = FR_2v_xgb_r2.pop('Rayonnement solaire moy,Humidité moy,Humidité max,Humidité min,')\n",
    "FR_2v_xgb_r2['Température & Humidité'] = FR_2v_xgb_r2.pop('Température moy,Température max,Température min,Humidité moy,Humidité max,Humidité min,')\n",
    "FR_2v_xgb_r2['Température & Rayonnement'] = FR_2v_xgb_r2.pop('Température moy,Température max,Température min,Rayonnement solaire moy,')"
   ]
  },
  {
   "cell_type": "code",
   "execution_count": 52,
   "id": "3d4d5bd2",
   "metadata": {},
   "outputs": [],
   "source": [
    "Variables = list(FR_2v_xgb_r2.keys())\n",
    "ScoresR2 = list(FR_2v_xgb_r2.values())\n",
    "ScoreMae=list(FR_2v_xgb_mae.values())\n",
    "ScoreMse=list(FR_2v_xgb_mse.values())\n",
    "ScoreRmse=list(FR_2v_xgb_Rmse.values())\n",
    "tmp = max(ScoresR2)\n",
    "index = ScoresR2.index(tmp)"
   ]
  },
  {
   "cell_type": "code",
   "execution_count": 53,
   "id": "c8ff4ee2",
   "metadata": {},
   "outputs": [
    {
     "name": "stdout",
     "output_type": "stream",
     "text": [
      "La meilleur combinaison pour deux variables est: Température & Rayonnement\n",
      "R2 0.8923259579853637\n",
      "Mae 0.35212099221604537\n",
      "Mse 0.22419347011858035\n",
      "Rmse 0.47349072865113245\n"
     ]
    }
   ],
   "source": [
    "print(\"La meilleur combinaison pour deux variables est:\",Variables[index])\n",
    "print(\"R2\",ScoresR2[index])\n",
    "print(\"Mae\",ScoreMae[index])\n",
    "print(\"Mse\",ScoreMse[index])\n",
    "print(\"Rmse\",ScoreRmse[index])"
   ]
  },
  {
   "cell_type": "markdown",
   "id": "c4fd3cf5",
   "metadata": {},
   "source": [
    "**svr**"
   ]
  },
  {
   "cell_type": "code",
   "execution_count": 72,
   "id": "8a2b103a",
   "metadata": {
    "scrolled": true
   },
   "outputs": [
    {
     "name": "stdout",
     "output_type": "stream",
     "text": [
      "R2 -1.3287179228990489\n",
      "Mae 1.380912645216147\n",
      "Mse 4.848739234578959\n",
      "Rmse 2.201985293906151\n",
      "------\n",
      "R2 0.8251491999178517\n",
      "Mae 0.45128899797054495\n",
      "Mse 0.3640655341804516\n",
      "Rmse 0.603378433638833\n",
      "------\n",
      "R2 0.5318470512386002\n",
      "Mae 0.768076155860916\n",
      "Mse 0.9747645037305948\n",
      "Rmse 0.9873016275336503\n",
      "------\n",
      "R2 0.6960222116053909\n",
      "Mae 0.6030053726822698\n",
      "Mse 0.6329272491683298\n",
      "Rmse 0.7955672499344916\n",
      "------\n",
      "R2 0.6899254845385971\n",
      "Mae 0.6277981286721604\n",
      "Mse 0.6456215473658895\n",
      "Rmse 0.803505785521106\n",
      "------\n",
      "R2 0.888783113645397\n",
      "Mae 0.3499911263480399\n",
      "Mse 0.23157020226131098\n",
      "Rmse 0.48121741683080316\n",
      "------\n"
     ]
    }
   ],
   "source": [
    "FS_2v_svr_r2={}\n",
    "FS_2v_svr_mae={}\n",
    "FS_2v_svr_mse={}\n",
    "FS_2v_svr_Rmse={}\n",
    "\n",
    "for a in range(0,len(comb2v)):\n",
    "    xtr=pd.DataFrame()\n",
    "    xts=pd.DataFrame()\n",
    "    for i in comb2v[a] :\n",
    "        \n",
    "        for x in i:\n",
    "            xtr.insert(0,x,Xtrain[x])\n",
    "            xts.insert(0,x,Xtest[x])\n",
    "    modelsvr = SVR()\n",
    "\n",
    "    grids = GridSearchCV(modelsvr,Svrparam,cv=3,n_jobs=-1)\n",
    "\n",
    "    grids.fit(xtr,ytrain)\n",
    "    modelsvr=grids.best_estimator_\n",
    "    modelsvr.fit(xtr,ytrain)\n",
    "    ypred=modelsvr.predict(xts)\n",
    "    scoreR2=r2_score(ytest,ypred)\n",
    "    scoreMae=mae(ytest,ypred)\n",
    "    scoreMse=mse(ytest,ypred)\n",
    "    scoreRmse = mse(ytest,ypred,squared=False)\n",
    "    var=''\n",
    "    for col in xtr.columns:\n",
    "        var+=col+','\n",
    "    FS_2v_svr_r2[var]=scoreR2\n",
    "    FS_2v_svr_mae[var]=scoreMae\n",
    "    FS_2v_svr_mse[var]=scoreMse\n",
    "    FS_2v_svr_Rmse[var]=scoreRmse\n",
    "    print(\"R2\",scoreR2)\n",
    "    print(\"Mae\",scoreMae)\n",
    "    print(\"Mse\",scoreMse)\n",
    "    print(\"Rmse\",scoreRmse)\n",
    "    print(\"------\")"
   ]
  },
  {
   "cell_type": "code",
   "execution_count": 73,
   "id": "ec70da82",
   "metadata": {},
   "outputs": [
    {
     "data": {
      "text/plain": [
       "{'Humidité moy,Humidité max,Humidité min,Vitesse du vent  moy,Vitesse du vent  max,': -1.3287179228990489,\n",
       " 'Rayonnement solaire moy,Vitesse du vent  moy,Vitesse du vent  max,': 0.8251491999178517,\n",
       " 'Température moy,Température max,Température min,Vitesse du vent  moy,Vitesse du vent  max,': 0.5318470512386002,\n",
       " 'Rayonnement solaire moy,Humidité moy,Humidité max,Humidité min,': 0.6960222116053909,\n",
       " 'Température moy,Température max,Température min,Humidité moy,Humidité max,Humidité min,': 0.6899254845385971,\n",
       " 'Température moy,Température max,Température min,Rayonnement solaire moy,': 0.888783113645397}"
      ]
     },
     "execution_count": 73,
     "metadata": {},
     "output_type": "execute_result"
    }
   ],
   "source": [
    "FS_2v_svr_r2"
   ]
  },
  {
   "cell_type": "code",
   "execution_count": 74,
   "id": "ba3ba1c4",
   "metadata": {},
   "outputs": [],
   "source": [
    "FS_2v_svr_r2['Humidité & Vitesse du vent'] = FS_2v_svr_r2.pop('Humidité moy,Humidité max,Humidité min,Vitesse du vent  moy,Vitesse du vent  max,')\n",
    "FS_2v_svr_r2['Rayonnement & Vitesse du vent'] = FS_2v_svr_r2.pop('Rayonnement solaire moy,Vitesse du vent  moy,Vitesse du vent  max,')\n",
    "FS_2v_svr_r2['Température & Vitesse du vent'] = FS_2v_svr_r2.pop('Température moy,Température max,Température min,Vitesse du vent  moy,Vitesse du vent  max,')\n",
    "FS_2v_svr_r2['Rayonnement & Humidité'] = FS_2v_svr_r2.pop('Rayonnement solaire moy,Humidité moy,Humidité max,Humidité min,')\n",
    "FS_2v_svr_r2['Température & Humidité'] = FS_2v_svr_r2.pop('Température moy,Température max,Température min,Humidité moy,Humidité max,Humidité min,')\n",
    "FS_2v_svr_r2['Température & Rayonnement'] = FS_2v_svr_r2.pop('Température moy,Température max,Température min,Rayonnement solaire moy,')"
   ]
  },
  {
   "cell_type": "code",
   "execution_count": 75,
   "id": "79097be8",
   "metadata": {},
   "outputs": [],
   "source": [
    "Variables = list(FS_2v_svr_r2.keys())\n",
    "ScoresR2 = list(FS_2v_svr_r2.values())\n",
    "ScoreMae=list(FS_2v_svr_mae.values())\n",
    "ScoreMse=list(FS_2v_svr_mse.values())\n",
    "ScoreRmse=list(FS_2v_svr_Rmse.values())\n",
    "tmp = max(ScoresR2)\n",
    "index = ScoresR2.index(tmp)"
   ]
  },
  {
   "cell_type": "code",
   "execution_count": 76,
   "id": "43ce63f9",
   "metadata": {},
   "outputs": [
    {
     "name": "stdout",
     "output_type": "stream",
     "text": [
      "La meilleur combinaison pour deux variables est: Température & Rayonnement\n",
      "R2 0.888783113645397\n",
      "Mae 0.3499911263480399\n",
      "Mse 0.23157020226131098\n",
      "Rmse 0.48121741683080316\n"
     ]
    }
   ],
   "source": [
    "print(\"La meilleur combinaison pour deux variables est:\",Variables[index])\n",
    "print(\"R2\",ScoresR2[index])\n",
    "print(\"Mae\",ScoreMae[index])\n",
    "print(\"Mse\",ScoreMse[index])\n",
    "print(\"Rmse\",ScoreRmse[index])"
   ]
  },
  {
   "cell_type": "markdown",
   "id": "52c310fe",
   "metadata": {},
   "source": [
    "# Entrainement sur une variable"
   ]
  },
  {
   "cell_type": "markdown",
   "id": "9e1b7200",
   "metadata": {},
   "source": [
    "**RF**"
   ]
  },
  {
   "cell_type": "code",
   "execution_count": 109,
   "id": "535e01c6",
   "metadata": {},
   "outputs": [
    {
     "name": "stdout",
     "output_type": "stream",
     "text": [
      "R2 -0.03961104978753083\n",
      "Mae 1.159812265341746\n",
      "Mse 2.1646257952664634\n",
      "Rmse 1.4712667315162344\n",
      "------\n",
      "R2 -0.027343734677958587\n",
      "Mae 1.19559644837085\n",
      "Mse 2.1390834092652096\n",
      "Rmse 1.4625605660160572\n",
      "------\n",
      "R2 0.7890540941044986\n",
      "Mae 0.4956519901094757\n",
      "Mse 0.4392209465266605\n",
      "Rmse 0.6627374642546326\n",
      "------\n",
      "R2 0.719081484247466\n",
      "Mae 0.607534338138414\n",
      "Mse 0.584914392445309\n",
      "Rmse 0.7647969615821633\n",
      "------\n"
     ]
    }
   ],
   "source": [
    "FR_1v_rf_r2={}\n",
    "FR_1v_rf_mae={}\n",
    "FR_1v_rf_mse={}\n",
    "FR_1v_rf_Rmse={}\n",
    "for a in range(0,len(comb1v)):\n",
    "    xtr=pd.DataFrame()\n",
    "    xts=pd.DataFrame()\n",
    "    for i in comb1v[a] :\n",
    "        for x in i:\n",
    "            xtr.insert(0,x,Xtrain[x])\n",
    "            xts.insert(0,x,Xtest[x])\n",
    "    modelrfc =RandomForestRegressor()\n",
    "\n",
    "    grids = GridSearchCV(modelrfc,grid,cv=5,n_jobs=-1)\n",
    "\n",
    "    grids.fit(xtr,ytrain)\n",
    "    modelrfc=grids.best_estimator_\n",
    "    modelrfc.fit(xtr,ytrain)\n",
    "    ypred=modelrfc.predict(xts)\n",
    "    scoreR2=r2_score(ytest,ypred)\n",
    "    scoreMae=mae(ytest,ypred)\n",
    "    scoreMse=mse(ytest,ypred)\n",
    "    scoreRmse = mse(ytest,ypred,squared=False)\n",
    "    var=''\n",
    "    for col in xtr.columns:\n",
    "        var+=col+','\n",
    "    FR_1v_rf_r2[var]=scoreR2\n",
    "    FR_1v_rf_mae[var]=scoreMae\n",
    "    FR_1v_rf_mse[var]=scoreMse\n",
    "    FR_1v_rf_Rmse[var]=scoreRmse\n",
    "    print(\"R2\",scoreR2)\n",
    "    print(\"Mae\",scoreMae)\n",
    "    print(\"Mse\",scoreMse)\n",
    "    print(\"Rmse\",scoreRmse)\n",
    "    print(\"------\")"
   ]
  },
  {
   "cell_type": "code",
   "execution_count": 110,
   "id": "d6754ae3",
   "metadata": {},
   "outputs": [
    {
     "data": {
      "text/plain": [
       "{'Vitesse du vent  moy,Vitesse du vent  max,': -0.03961104978753083,\n",
       " 'Humidité moy,Humidité max,Humidité min,': -0.027343734677958587,\n",
       " 'Rayonnement solaire moy,': 0.7890540941044986,\n",
       " 'Température moy,Température max,Température min,': 0.719081484247466}"
      ]
     },
     "execution_count": 110,
     "metadata": {},
     "output_type": "execute_result"
    }
   ],
   "source": [
    "FR_1v_rf_r2"
   ]
  },
  {
   "cell_type": "code",
   "execution_count": 111,
   "id": "1ab3a616",
   "metadata": {},
   "outputs": [],
   "source": [
    "FR_1v_rf_r2['Vitesse du vent'] = FR_1v_rf_r2.pop('Vitesse du vent  moy,Vitesse du vent  max,')\n",
    "FR_1v_rf_r2['Humidité'] = FR_1v_rf_r2.pop('Humidité moy,Humidité max,Humidité min,')\n",
    "FR_1v_rf_r2['Rayonnement'] = FR_1v_rf_r2.pop( 'Rayonnement solaire moy,')\n",
    "FR_1v_rf_r2['Température'] = FR_1v_rf_r2.pop('Température moy,Température max,Température min,')"
   ]
  },
  {
   "cell_type": "code",
   "execution_count": 112,
   "id": "1c17480d",
   "metadata": {},
   "outputs": [],
   "source": [
    "Variables = list(FR_1v_rf_r2.keys())\n",
    "ScoresR2 = list(FR_1v_rf_r2.values())\n",
    "ScoreMae=list(FR_1v_rf_mae.values())\n",
    "ScoreMse=list(FR_1v_rf_mse.values())\n",
    "ScoreRmse=list(FR_1v_rf_Rmse.values())\n",
    "tmp = max(ScoresR2)\n",
    "index = ScoresR2.index(tmp)"
   ]
  },
  {
   "cell_type": "code",
   "execution_count": 108,
   "id": "ec6a7e4d",
   "metadata": {},
   "outputs": [
    {
     "data": {
      "text/plain": [
       "[2.1758011532135555,\n",
       " 2.134090210483256,\n",
       " 0.43787612199442755,\n",
       " 0.5846563624115616]"
      ]
     },
     "execution_count": 108,
     "metadata": {},
     "output_type": "execute_result"
    }
   ],
   "source": [
    "ScoreMse"
   ]
  },
  {
   "cell_type": "code",
   "execution_count": 106,
   "id": "7839e9df",
   "metadata": {},
   "outputs": [
    {
     "data": {
      "text/plain": [
       "[0.719205409073109,\n",
       " -0.024945636753201494,\n",
       " -0.044978271056229424,\n",
       " 0.7896999768463526]"
      ]
     },
     "execution_count": 106,
     "metadata": {},
     "output_type": "execute_result"
    }
   ],
   "source": [
    "ScoresR2"
   ]
  },
  {
   "cell_type": "code",
   "execution_count": 113,
   "id": "34b44209",
   "metadata": {},
   "outputs": [
    {
     "name": "stdout",
     "output_type": "stream",
     "text": [
      "La meilleur combinaison pour Une variables est: Rayonnement\n",
      "R2 0.7890540941044986\n",
      "Mae 0.4956519901094757\n",
      "Mse 0.4392209465266605\n",
      "Rmse 0.6627374642546326\n"
     ]
    }
   ],
   "source": [
    "print(\"La meilleur combinaison pour Une variables est:\",Variables[index])\n",
    "print(\"R2\",ScoresR2[index])\n",
    "print(\"Mae\",ScoreMae[index])\n",
    "print(\"Mse\",ScoreMse[index])\n",
    "print(\"Rmse\",ScoreRmse[index])"
   ]
  },
  {
   "cell_type": "markdown",
   "id": "f92e6e48",
   "metadata": {},
   "source": [
    "**Xgboost**"
   ]
  },
  {
   "cell_type": "code",
   "execution_count": 114,
   "id": "497a9abb",
   "metadata": {},
   "outputs": [
    {
     "name": "stdout",
     "output_type": "stream",
     "text": [
      "R2 0.12327835201422532\n",
      "Mae 1.0800742650906192\n",
      "Mse 1.8254656824649826\n",
      "Rmse 1.3510979544300195\n",
      "------\n",
      "R2 -0.06619098871063755\n",
      "Mae 1.2281711338712826\n",
      "Mse 2.2199692060943135\n",
      "Rmse 1.489956108781166\n",
      "------\n",
      "R2 0.7867892739735294\n",
      "Mae 0.5007067267999953\n",
      "Mse 0.44393664099541064\n",
      "Rmse 0.6662857052311798\n",
      "------\n",
      "R2 0.6325736603174088\n",
      "Mae 0.6848127758325037\n",
      "Mse 0.7650366287467042\n",
      "Rmse 0.8746637232369388\n",
      "------\n"
     ]
    }
   ],
   "source": [
    "FR_1v_xgb_r2={}\n",
    "FR_1v_xgb_mae={}\n",
    "FR_1v_xgb_mse={}\n",
    "FR_1v_xgb_Rmse={}\n",
    "\n",
    "for a in range(0,len(comb1v)):\n",
    "    xtr=pd.DataFrame()\n",
    "    xts=pd.DataFrame()\n",
    "    for i in comb1v[a] :\n",
    "        \n",
    "        for x in i:\n",
    "            \n",
    "            xtr.insert(0,x,Xtrain[x])\n",
    "            xts.insert(0,x,Xtest[x])\n",
    "    modelxgb =xgb.XGBRegressor(verbosity = 0)\n",
    "\n",
    "    grids = GridSearchCV(modelxgb,xgparam,cv=5,n_jobs=-1)\n",
    "\n",
    "    grids.fit(xtr,ytrain)\n",
    "    modelxgb=grids.best_estimator_\n",
    "    modelxgb.fit(xtr,ytrain)\n",
    "    ypred=modelxgb.predict(xts)\n",
    "    scoreR2=r2_score(ytest,ypred)\n",
    "    scoreMae=mae(ytest,ypred)\n",
    "    scoreMse=mse(ytest,ypred)\n",
    "    scoreRmse = mse(ytest,ypred,squared=False)\n",
    "    var=''\n",
    "    for col in xtr.columns:\n",
    "        var+=col+','\n",
    "    FR_1v_xgb_r2[var]=scoreR2\n",
    "    FR_1v_xgb_mae[var]=scoreMae\n",
    "    FR_1v_xgb_mse[var]=scoreMse\n",
    "    FR_1v_xgb_Rmse[var]=scoreRmse\n",
    "    print(\"R2\",scoreR2)\n",
    "    print(\"Mae\",scoreMae)\n",
    "    print(\"Mse\",scoreMse)\n",
    "    print(\"Rmse\",scoreRmse)\n",
    "    print(\"------\")"
   ]
  },
  {
   "cell_type": "code",
   "execution_count": 115,
   "id": "c16ea3b6",
   "metadata": {},
   "outputs": [],
   "source": [
    "FR_1v_xgb_r2['Vitesse du vent'] = FR_1v_xgb_r2.pop('Vitesse du vent  moy,Vitesse du vent  max,')\n",
    "FR_1v_xgb_r2['Humidité'] = FR_1v_xgb_r2.pop('Humidité moy,Humidité max,Humidité min,')\n",
    "FR_1v_xgb_r2['Rayonnement'] = FR_1v_xgb_r2.pop( 'Rayonnement solaire moy,')\n",
    "FR_1v_xgb_r2['Température'] = FR_1v_xgb_r2.pop('Température moy,Température max,Température min,')"
   ]
  },
  {
   "cell_type": "code",
   "execution_count": 116,
   "id": "d3c2baf8",
   "metadata": {},
   "outputs": [],
   "source": [
    "Variables = list(FR_1v_xgb_r2.keys())\n",
    "ScoresR2 = list(FR_1v_xgb_r2.values())\n",
    "ScoreMae=list(FR_1v_xgb_mae.values())\n",
    "ScoreMse=list(FR_1v_xgb_mse.values())\n",
    "ScoreRmse=list(FR_1v_xgb_Rmse.values())\n",
    "tmp = max(ScoresR2)\n",
    "index = ScoresR2.index(tmp)"
   ]
  },
  {
   "cell_type": "code",
   "execution_count": 117,
   "id": "93988c0f",
   "metadata": {},
   "outputs": [
    {
     "name": "stdout",
     "output_type": "stream",
     "text": [
      "La meilleur combinaison pour Une variables est: Rayonnement\n",
      "R2 0.7867892739735294\n",
      "Mae 0.5007067267999953\n",
      "Mse 0.44393664099541064\n",
      "Rmse 0.6662857052311798\n"
     ]
    }
   ],
   "source": [
    "print(\"La meilleur combinaison pour Une variables est:\",Variables[index])\n",
    "print(\"R2\",ScoresR2[index])\n",
    "print(\"Mae\",ScoreMae[index])\n",
    "print(\"Mse\",ScoreMse[index])\n",
    "print(\"Rmse\",ScoreRmse[index])"
   ]
  },
  {
   "cell_type": "markdown",
   "id": "ad7849f8",
   "metadata": {},
   "source": [
    "**Svr**"
   ]
  },
  {
   "cell_type": "code",
   "execution_count": 118,
   "id": "41997dc9",
   "metadata": {},
   "outputs": [
    {
     "name": "stdout",
     "output_type": "stream",
     "text": [
      "R2 -0.36949298664907126\n",
      "Mae 1.3795017266828582\n",
      "Mse 2.8514893583931644\n",
      "Rmse 1.6886353538858425\n",
      "------\n",
      "R2 -0.02078174766415475\n",
      "Mae 1.14511572079302\n",
      "Mse 2.1254203702265357\n",
      "Rmse 1.4578821523794492\n",
      "------\n",
      "R2 0.7833829867955779\n",
      "Mae 0.5029852147744986\n",
      "Mse 0.4510290406894942\n",
      "Rmse 0.6715869569084068\n",
      "------\n",
      "R2 0.6678188733756101\n",
      "Mae 0.6592493335906789\n",
      "Mse 0.6916508203128316\n",
      "Rmse 0.8316554697185798\n",
      "------\n"
     ]
    }
   ],
   "source": [
    "FS_1v_svr_r2={}\n",
    "FS_1v_svr_mae={}\n",
    "FS_1v_svr_mse={}\n",
    "FS_1v_svr_Rmse={}\n",
    "\n",
    "for a in range(0,len(comb1v)):\n",
    "    xtr=pd.DataFrame()\n",
    "    xts=pd.DataFrame()\n",
    "    for i in comb1v[a] :\n",
    "        \n",
    "        for x in i:\n",
    "            xtr.insert(0,x,Xtrain[x])\n",
    "            xts.insert(0,x,Xtest[x])\n",
    "    modelsvr = SVR()\n",
    "\n",
    "    grids = GridSearchCV(modelsvr,Svrparam,cv=3,n_jobs=-1)\n",
    "\n",
    "    grids.fit(xtr,ytrain)\n",
    "    modelsvr=grids.best_estimator_\n",
    "    modelsvr.fit(xtr,ytrain)\n",
    "    ypred=modelsvr.predict(xts)\n",
    "    scoreR2=r2_score(ytest,ypred)\n",
    "    scoreMae=mae(ytest,ypred)\n",
    "    scoreMse=mse(ytest,ypred)\n",
    "    scoreRmse = mse(ytest,ypred,squared=False)\n",
    "    var=''\n",
    "    for col in xtr.columns:\n",
    "        var+=col+','\n",
    "    FS_1v_svr_r2[var]=scoreR2\n",
    "    FS_1v_svr_mae[var]=scoreMae\n",
    "    FS_1v_svr_mse[var]=scoreMse\n",
    "    FS_1v_svr_Rmse[var]=scoreRmse\n",
    "    print(\"R2\",scoreR2)\n",
    "    print(\"Mae\",scoreMae)\n",
    "    print(\"Mse\",scoreMse)\n",
    "    print(\"Rmse\",scoreRmse)\n",
    "    print(\"------\")"
   ]
  },
  {
   "cell_type": "code",
   "execution_count": 119,
   "id": "3d7caa3e",
   "metadata": {},
   "outputs": [],
   "source": [
    "FS_1v_svr_r2['Vitesse du vent'] = FS_1v_svr_r2.pop('Vitesse du vent  moy,Vitesse du vent  max,')\n",
    "FS_1v_svr_r2['Humidité'] = FS_1v_svr_r2.pop('Humidité moy,Humidité max,Humidité min,')\n",
    "FS_1v_svr_r2['Rayonnement'] = FS_1v_svr_r2.pop( 'Rayonnement solaire moy,')\n",
    "FS_1v_svr_r2['Température'] = FS_1v_svr_r2.pop('Température moy,Température max,Température min,')"
   ]
  },
  {
   "cell_type": "code",
   "execution_count": 120,
   "id": "c42251d3",
   "metadata": {},
   "outputs": [],
   "source": [
    "Variables = list(FS_1v_svr_r2.keys())\n",
    "ScoresR2 = list(FS_1v_svr_r2.values())\n",
    "ScoreMae=list(FS_1v_svr_mae.values())\n",
    "ScoreMse=list(FS_1v_svr_mse.values())\n",
    "ScoreRmse=list(FS_1v_svr_Rmse.values())\n",
    "tmp = max(ScoresR2)\n",
    "index = ScoresR2.index(tmp)"
   ]
  },
  {
   "cell_type": "code",
   "execution_count": 121,
   "id": "ac2f2156",
   "metadata": {},
   "outputs": [
    {
     "name": "stdout",
     "output_type": "stream",
     "text": [
      "La meilleur combinaison pour Une variables est: Rayonnement\n",
      "R2 0.7833829867955779\n",
      "Mae 0.5029852147744986\n",
      "Mse 0.4510290406894942\n",
      "Rmse 0.6715869569084068\n"
     ]
    }
   ],
   "source": [
    "print(\"La meilleur combinaison pour Une variables est:\",Variables[index])\n",
    "print(\"R2\",ScoresR2[index])\n",
    "print(\"Mae\",ScoreMae[index])\n",
    "print(\"Mse\",ScoreMse[index])\n",
    "print(\"Rmse\",ScoreRmse[index])"
   ]
  },
  {
   "cell_type": "markdown",
   "id": "c3573f86",
   "metadata": {},
   "source": [
    "# 2éme Scénario"
   ]
  },
  {
   "cell_type": "markdown",
   "id": "86837159",
   "metadata": {},
   "source": [
    "**Entrainemet , validation et test sur des données mélanger**"
   ]
  },
  {
   "cell_type": "code",
   "execution_count": 125,
   "id": "ac31021e",
   "metadata": {},
   "outputs": [],
   "source": [
    "data=pd.concat([EnamMekjr,EnamBerkaneJr],axis=0,join='inner')"
   ]
  },
  {
   "cell_type": "code",
   "execution_count": 126,
   "id": "f04d957d",
   "metadata": {},
   "outputs": [],
   "source": [
    "data=data.drop(columns=['Date/heure','Precipitation Somme','Unnamed: 0'])"
   ]
  },
  {
   "cell_type": "code",
   "execution_count": 127,
   "id": "1faedebb",
   "metadata": {},
   "outputs": [],
   "source": [
    "y=data.iloc[:,-1]\n",
    "X=data.drop(columns=['ETP quotidien [mm]'])"
   ]
  },
  {
   "cell_type": "code",
   "execution_count": 128,
   "id": "65b00b7a",
   "metadata": {},
   "outputs": [],
   "source": [
    "X_train, X_test, y_train, y_test = train_test_split(X, y, test_size=0.2, random_state=42)"
   ]
  },
  {
   "cell_type": "markdown",
   "id": "f33d2cbd",
   "metadata": {},
   "source": [
    "# Entrainement sur 4 variables**"
   ]
  },
  {
   "cell_type": "code",
   "execution_count": 129,
   "id": "5590f029",
   "metadata": {},
   "outputs": [],
   "source": [
    "grid = { \n",
    "    'n_estimators': [200,300,400,500],\n",
    "    'max_features': ['sqrt','log2'],\n",
    "    'max_depth' : [3,4,5,6,7]\n",
    "}"
   ]
  },
  {
   "cell_type": "markdown",
   "id": "0d966bae",
   "metadata": {},
   "source": [
    "**Xgboost**"
   ]
  },
  {
   "cell_type": "code",
   "execution_count": 130,
   "id": "b2125ecb",
   "metadata": {},
   "outputs": [],
   "source": [
    "xgb_model = xgb.XGBRegressor(verbosity = 0)\n",
    "clf = GridSearchCV(xgb_model,grid, cv=5,n_jobs=1)\n",
    "clf.fit(X_train, y_train)\n",
    "modelxgb=clf.best_estimator_\n",
    "ypred=modelxgb.predict(X_test)"
   ]
  },
  {
   "cell_type": "code",
   "execution_count": 132,
   "id": "5729368a",
   "metadata": {},
   "outputs": [],
   "source": [
    "SC2_Xgb_4vR2=r2_score(y_test,ypred)\n",
    "SC2_Xgb_4vMAE=mae(y_test,ypred)\n",
    "SC2_Xgb_4vMSE=mse(y_test,ypred)\n",
    "SC2_Xgb_4vRMSE=mse(y_test,ypred,squared=False)# ou bien on utilise np.sqrt(np.mean((ytest-ypred)**2))"
   ]
  },
  {
   "cell_type": "code",
   "execution_count": 133,
   "id": "dcca5bcc",
   "metadata": {},
   "outputs": [
    {
     "name": "stdout",
     "output_type": "stream",
     "text": [
      "R2 =  0.9817682728893045\n",
      "Mae =  0.14682039215116743\n",
      "Mse =  0.044767782544858\n",
      "Rmse = 0.21158398461333977\n"
     ]
    }
   ],
   "source": [
    "print(\"R2 = \",SC2_Xgb_4vR2)\n",
    "print(\"Mae = \",SC2_Xgb_4vMAE)\n",
    "print(\"Mse = \",SC2_Xgb_4vMSE)\n",
    "print(\"Rmse =\",SC2_Xgb_4vRMSE)"
   ]
  },
  {
   "cell_type": "markdown",
   "id": "2499259c",
   "metadata": {},
   "source": [
    "**RF**"
   ]
  },
  {
   "cell_type": "code",
   "execution_count": 134,
   "id": "cb0d0a1e",
   "metadata": {},
   "outputs": [],
   "source": [
    "clf = GridSearchCV(estimator=RandomForestRegressor(), param_grid=grid, cv= 5,n_jobs=2)\n",
    "clf.fit(X_train, y_train)\n",
    "ypred=clf.predict(X_test)"
   ]
  },
  {
   "cell_type": "code",
   "execution_count": 135,
   "id": "9ad1afb7",
   "metadata": {},
   "outputs": [],
   "source": [
    "SC2_RF_4vR2=r2_score(y_test,ypred)\n",
    "SC2_RF_4vMAE=mae(y_test,ypred)\n",
    "SC2_RF_4vMSE=mse(y_test,ypred)\n",
    "SC2_RF_4vRMSE=mse(y_test,ypred,squared=False)# ou bien on utilise np.sqrt(np.mean((ytest-ypred)**2))"
   ]
  },
  {
   "cell_type": "code",
   "execution_count": 136,
   "id": "7565ed22",
   "metadata": {},
   "outputs": [
    {
     "name": "stdout",
     "output_type": "stream",
     "text": [
      "R2 =  0.9668617426657546\n",
      "Mae =  0.20288935947667444\n",
      "Mse =  0.08137058487370281\n",
      "Rmse = 0.2852552977136495\n"
     ]
    }
   ],
   "source": [
    "print(\"R2 = \",SC2_RF_4vR2)\n",
    "print(\"Mae = \",SC2_RF_4vMAE)\n",
    "print(\"Mse = \",SC2_RF_4vMSE)\n",
    "print(\"Rmse =\",SC2_RF_4vRMSE)"
   ]
  },
  {
   "cell_type": "markdown",
   "id": "555e94e0",
   "metadata": {},
   "source": [
    "**SVR**"
   ]
  },
  {
   "cell_type": "code",
   "execution_count": 137,
   "id": "02e1ec27",
   "metadata": {},
   "outputs": [],
   "source": [
    "svr = SVR()\n",
    "clf = GridSearchCV(svr,Svrparam,cv=5,n_jobs=-1)\n",
    "clf.fit(X_train,y_train)\n",
    "modelsvr=clf.best_estimator_\n",
    "ypred=modelsvr.predict(X_test)"
   ]
  },
  {
   "cell_type": "code",
   "execution_count": 139,
   "id": "289d0d16",
   "metadata": {},
   "outputs": [],
   "source": [
    "SC2_SVR_4vR2=r2_score(y_test,ypred)\n",
    "SC2_SVR_4vMAE=mae(y_test,ypred)\n",
    "SC2_SVR_4vMSE=mse(y_test,ypred)\n",
    "SC2_SVR_4vRMSE=mse(y_test,ypred,squared=False)"
   ]
  },
  {
   "cell_type": "code",
   "execution_count": 140,
   "id": "eae2099b",
   "metadata": {},
   "outputs": [
    {
     "name": "stdout",
     "output_type": "stream",
     "text": [
      "R2 =  0.9784141861645185\n",
      "Mae =  0.14841281189744007\n",
      "Mse =  0.05300370140323787\n",
      "Rmse = 0.23022532745820531\n"
     ]
    }
   ],
   "source": [
    "print(\"R2 = \",SC2_SVR_4vR2)\n",
    "print(\"Mae = \",SC2_SVR_4vMAE)\n",
    "print(\"Mse = \",SC2_SVR_4vMSE)\n",
    "print(\"Rmse =\",SC2_SVR_4vRMSE)"
   ]
  },
  {
   "cell_type": "markdown",
   "id": "ea3aaedc",
   "metadata": {},
   "source": [
    "# Entrainement sur 3 variables"
   ]
  },
  {
   "cell_type": "markdown",
   "id": "3631e596",
   "metadata": {},
   "source": [
    "**RF**"
   ]
  },
  {
   "cell_type": "code",
   "execution_count": 146,
   "id": "0696aba0",
   "metadata": {},
   "outputs": [
    {
     "name": "stdout",
     "output_type": "stream",
     "text": [
      "R2 0.9179939308315715\n",
      "Mae 0.3528003474696463\n",
      "Mse 0.20136489810321279\n",
      "Rmse 0.44873700326941257\n",
      "------\n",
      "R2 0.8302748248724316\n",
      "Mae 0.48736828955818284\n",
      "Mse 0.41675808804978615\n",
      "Rmse 0.645568035182804\n",
      "------\n",
      "R2 0.9666717126119387\n",
      "Mae 0.2028962375411681\n",
      "Mse 0.08183720134259612\n",
      "Rmse 0.2860720212509362\n",
      "------\n",
      "R2 0.9493376489178633\n",
      "Mae 0.25359407336768003\n",
      "Mse 0.12440078236613226\n",
      "Rmse 0.35270495086705583\n",
      "------\n"
     ]
    }
   ],
   "source": [
    "SC2_3v_rf_r2={}\n",
    "SC2_3v_rf_mae={}\n",
    "SC2_3v_rf_mse={}\n",
    "SC2_3v_rf_Rmse={}\n",
    "for a in range(0,len(comb3v)):\n",
    "    xtr=pd.DataFrame()\n",
    "    xts=pd.DataFrame()\n",
    "    for i in comb3v[a] :\n",
    "        for x in i:\n",
    "            xtr.insert(0,x,X_train[x])\n",
    "            xts.insert(0,x,X_test[x])\n",
    "    modelrfc =RandomForestRegressor()\n",
    "\n",
    "    grids = GridSearchCV(modelrfc,grid,cv=5,n_jobs=-1)\n",
    "\n",
    "    grids.fit(xtr,y_train)\n",
    "    modelrfc=grids.best_estimator_\n",
    "    modelrfc.fit(xtr,y_train)\n",
    "    ypred=modelrfc.predict(xts)\n",
    "    scoreR2=r2_score(y_test,ypred)\n",
    "    scoreMae=mae(y_test,ypred)\n",
    "    scoreMse=mse(y_test,ypred)\n",
    "    scoreRmse = mse(y_test,ypred,squared=False)\n",
    "    var=''\n",
    "    for col in xtr.columns:\n",
    "        var+=col+','\n",
    "    SC2_3v_rf_r2[var]=scoreR2\n",
    "    SC2_3v_rf_mae[var]=scoreMae\n",
    "    SC2_3v_rf_mse[var]=scoreMse\n",
    "    SC2_3v_rf_Rmse[var]=scoreRmse\n",
    "    print(\"R2\",scoreR2)\n",
    "    print(\"Mae\",scoreMae)\n",
    "    print(\"Mse\",scoreMse)\n",
    "    print(\"Rmse\",scoreRmse)\n",
    "    print(\"------\")"
   ]
  },
  {
   "cell_type": "code",
   "execution_count": 147,
   "id": "991ac096",
   "metadata": {},
   "outputs": [],
   "source": [
    "SC2_3v_rf_r2['Rayonnement  & Humidité & Vitesse du vent'] = SC2_3v_rf_r2.pop('Rayonnement solaire moy,Humidité moy,Humidité max,Humidité min,Vitesse du vent  moy,Vitesse du vent  max,')\n",
    "SC2_3v_rf_r2['Température  & Humidité & Vitesse du vent'] = SC2_3v_rf_r2.pop('Température moy,Température max,Température min,Humidité moy,Humidité max,Humidité min,Vitesse du vent  moy,Vitesse du vent  max,')\n",
    "SC2_3v_rf_r2['Température  & Rayonement & Vitesse du vent'] = SC2_3v_rf_r2.pop('Température moy,Température max,Température min,Rayonnement solaire moy,Vitesse du vent  moy,Vitesse du vent  max,')\n",
    "SC2_3v_rf_r2['Température  & Rayonement &  Humidité'] = SC2_3v_rf_r2.pop('Température moy,Température max,Température min,Rayonnement solaire moy,Humidité moy,Humidité max,Humidité min,')"
   ]
  },
  {
   "cell_type": "code",
   "execution_count": 148,
   "id": "c8137564",
   "metadata": {},
   "outputs": [],
   "source": [
    "Variables = list(SC2_3v_rf_r2.keys())\n",
    "ScoresR2 = list(SC2_3v_rf_r2.values())\n",
    "ScoreMae=list(SC2_3v_rf_mae.values())\n",
    "ScoreMse=list(SC2_3v_rf_mse.values())\n",
    "ScoreRmse=list(SC2_3v_rf_Rmse.values())\n",
    "tmp = max(ScoresR2)\n",
    "index = ScoresR2.index(tmp)"
   ]
  },
  {
   "cell_type": "code",
   "execution_count": 149,
   "id": "f2464e6d",
   "metadata": {},
   "outputs": [
    {
     "name": "stdout",
     "output_type": "stream",
     "text": [
      "La meilleur combinaison pour trois variables est: Température  & Rayonement & Vitesse du vent\n",
      "R2 0.9666717126119387\n",
      "Mae 0.2028962375411681\n",
      "Mse 0.08183720134259612\n",
      "Rmse 0.2860720212509362\n"
     ]
    }
   ],
   "source": [
    "print(\"La meilleur combinaison pour trois variables est:\",Variables[index])\n",
    "print(\"R2\",ScoresR2[index])\n",
    "print(\"Mae\",ScoreMae[index])\n",
    "print(\"Mse\",ScoreMse[index])\n",
    "print(\"Rmse\",ScoreRmse[index])"
   ]
  },
  {
   "cell_type": "markdown",
   "id": "219cfd1e",
   "metadata": {},
   "source": [
    "**xgboost**"
   ]
  },
  {
   "cell_type": "code",
   "execution_count": 151,
   "id": "001c5a60",
   "metadata": {},
   "outputs": [
    {
     "name": "stdout",
     "output_type": "stream",
     "text": [
      "R2 0.9278391095902319\n",
      "Mae 0.3285816743875005\n",
      "Mse 0.17719018228463318\n",
      "Rmse 0.42093964209210943\n",
      "------\n",
      "R2 0.8489129196801128\n",
      "Mae 0.4635382184367271\n",
      "Mse 0.3709924746038042\n",
      "Rmse 0.6090915157870812\n",
      "------\n",
      "R2 0.9807234439856386\n",
      "Mae 0.15987023659003008\n",
      "Mse 0.04733334711654666\n",
      "Rmse 0.21756228330422223\n",
      "------\n",
      "R2 0.9578246996890627\n",
      "Mae 0.22360441821395968\n",
      "Mse 0.10356093318095384\n",
      "Rmse 0.3218088457158284\n",
      "------\n"
     ]
    }
   ],
   "source": [
    "SC2_3v_xgb_r2={}\n",
    "SC2_3v_xgb_mae={}\n",
    "SC2_3v_xgb_mse={}\n",
    "SC2_3v_xgb_Rmse={}\n",
    "\n",
    "for a in range(0,len(comb3v)):\n",
    "    xtr=pd.DataFrame()\n",
    "    xts=pd.DataFrame()\n",
    "    for i in comb3v[a] :\n",
    "        \n",
    "        for x in i:\n",
    "            \n",
    "            xtr.insert(0,x,X_train[x])\n",
    "            xts.insert(0,x,X_test[x])\n",
    "    modelxgb =xgb.XGBRegressor(verbosity = 0)\n",
    "\n",
    "    grids = GridSearchCV(modelxgb,xgparam,cv=5,n_jobs=-1)\n",
    "\n",
    "    grids.fit(xtr,y_train)\n",
    "    modelxgb=grids.best_estimator_\n",
    "    modelxgb.fit(xtr,y_train)\n",
    "    ypred=modelxgb.predict(xts)\n",
    "    scoreR2=r2_score(y_test,ypred)\n",
    "    scoreMae=mae(y_test,ypred)\n",
    "    scoreMse=mse(y_test,ypred)\n",
    "    scoreRmse = mse(y_test,ypred,squared=False)\n",
    "    var=''\n",
    "    for col in xtr.columns:\n",
    "        var+=col+','\n",
    "    SC2_3v_xgb_r2[var]=scoreR2\n",
    "    SC2_3v_xgb_mae[var]=scoreMae\n",
    "    SC2_3v_xgb_mse[var]=scoreMse\n",
    "    SC2_3v_xgb_Rmse[var]=scoreRmse\n",
    "    print(\"R2\",scoreR2)\n",
    "    print(\"Mae\",scoreMae)\n",
    "    print(\"Mse\",scoreMse)\n",
    "    print(\"Rmse\",scoreRmse)\n",
    "    print(\"------\")"
   ]
  },
  {
   "cell_type": "code",
   "execution_count": 152,
   "id": "9c7fbcf1",
   "metadata": {},
   "outputs": [],
   "source": [
    "SC2_3v_xgb_r2['Rayonnement  & Humidité & Vitesse du vent'] = SC2_3v_xgb_r2.pop('Rayonnement solaire moy,Humidité moy,Humidité max,Humidité min,Vitesse du vent  moy,Vitesse du vent  max,')\n",
    "SC2_3v_xgb_r2['Température  & Humidité & Vitesse du vent'] = SC2_3v_xgb_r2.pop('Température moy,Température max,Température min,Humidité moy,Humidité max,Humidité min,Vitesse du vent  moy,Vitesse du vent  max,')\n",
    "SC2_3v_xgb_r2['Température  & Rayonement & Vitesse du vent'] = SC2_3v_xgb_r2.pop('Température moy,Température max,Température min,Rayonnement solaire moy,Vitesse du vent  moy,Vitesse du vent  max,')\n",
    "SC2_3v_xgb_r2['Température  & Rayonement &  Humidité'] = SC2_3v_xgb_r2.pop('Température moy,Température max,Température min,Rayonnement solaire moy,Humidité moy,Humidité max,Humidité min,')"
   ]
  },
  {
   "cell_type": "code",
   "execution_count": 153,
   "id": "9bbef7f0",
   "metadata": {},
   "outputs": [],
   "source": [
    "Variables = list(SC2_3v_xgb_r2.keys())\n",
    "ScoresR2 = list(SC2_3v_xgb_r2.values())\n",
    "ScoreMae=list(SC2_3v_xgb_mae.values())\n",
    "ScoreMse=list(SC2_3v_xgb_mse.values())\n",
    "ScoreRmse=list(SC2_3v_xgb_Rmse.values())\n",
    "tmp = max(ScoresR2)\n",
    "index = ScoresR2.index(tmp)"
   ]
  },
  {
   "cell_type": "code",
   "execution_count": 154,
   "id": "f56f01af",
   "metadata": {},
   "outputs": [
    {
     "name": "stdout",
     "output_type": "stream",
     "text": [
      "La meilleur combinaison pour trois variables est: Température  & Rayonement & Vitesse du vent\n",
      "R2 0.9807234439856386\n",
      "Mae 0.15987023659003008\n",
      "Mse 0.04733334711654666\n",
      "Rmse 0.21756228330422223\n"
     ]
    }
   ],
   "source": [
    "print(\"La meilleur combinaison pour trois variables est:\",Variables[index])\n",
    "print(\"R2\",ScoresR2[index])\n",
    "print(\"Mae\",ScoreMae[index])\n",
    "print(\"Mse\",ScoreMse[index])\n",
    "print(\"Rmse\",ScoreRmse[index])"
   ]
  },
  {
   "cell_type": "markdown",
   "id": "798cdced",
   "metadata": {},
   "source": [
    "**svr**"
   ]
  },
  {
   "cell_type": "code",
   "execution_count": 155,
   "id": "06c553b0",
   "metadata": {},
   "outputs": [
    {
     "name": "stdout",
     "output_type": "stream",
     "text": [
      "R2 0.9258738101696747\n",
      "Mae 0.31191918824836196\n",
      "Mse 0.1820159509329266\n",
      "Rmse 0.426633274526175\n",
      "------\n",
      "R2 0.8565156034277398\n",
      "Mae 0.4446724333905375\n",
      "Mse 0.3523241778097271\n",
      "Rmse 0.5935690168882866\n",
      "------\n",
      "R2 0.984898419987282\n",
      "Mae 0.13949067263740425\n",
      "Mse 0.03708174469639374\n",
      "Rmse 0.19256620860471274\n",
      "------\n",
      "R2 0.9608650188299516\n",
      "Mae 0.19623294230595562\n",
      "Mse 0.0960954667805471\n",
      "Rmse 0.30999268826949306\n",
      "------\n"
     ]
    }
   ],
   "source": [
    "SC2_3v_svr_r2={}\n",
    "SC2_3v_svr_mae={}\n",
    "SC2_3v_svr_mse={}\n",
    "SC2_3v_svr_Rmse={}\n",
    "\n",
    "for a in range(0,len(comb3v)):\n",
    "    xtr=pd.DataFrame()\n",
    "    xts=pd.DataFrame()\n",
    "    for i in comb3v[a] :\n",
    "        \n",
    "        for x in i:\n",
    "            xtr.insert(0,x,X_train[x])\n",
    "            xts.insert(0,x,X_test[x])\n",
    "    modelsvr = SVR()\n",
    "\n",
    "    grids = GridSearchCV(modelsvr,Svrparam,cv=3,n_jobs=-1)\n",
    "\n",
    "    grids.fit(xtr,y_train)\n",
    "    modelsvr=grids.best_estimator_\n",
    "    modelsvr.fit(xtr,y_train)\n",
    "    ypred=modelsvr.predict(xts)\n",
    "    scoreR2=r2_score(y_test,ypred)\n",
    "    scoreMae=mae(y_test,ypred)\n",
    "    scoreMse=mse(y_test,ypred)\n",
    "    scoreRmse = mse(y_test,ypred,squared=False)\n",
    "    var=''\n",
    "    for col in xtr.columns:\n",
    "        var+=col+','\n",
    "    SC2_3v_svr_r2[var]=scoreR2\n",
    "    SC2_3v_svr_mae[var]=scoreMae\n",
    "    SC2_3v_svr_mse[var]=scoreMse\n",
    "    SC2_3v_svr_Rmse[var]=scoreRmse\n",
    "    print(\"R2\",scoreR2)\n",
    "    print(\"Mae\",scoreMae)\n",
    "    print(\"Mse\",scoreMse)\n",
    "    print(\"Rmse\",scoreRmse)\n",
    "    print(\"------\")"
   ]
  },
  {
   "cell_type": "code",
   "execution_count": 156,
   "id": "76aa395d",
   "metadata": {},
   "outputs": [],
   "source": [
    "SC2_3v_svr_r2['Rayonnement  & Humidité & Vitesse du vent'] = SC2_3v_svr_r2.pop('Rayonnement solaire moy,Humidité moy,Humidité max,Humidité min,Vitesse du vent  moy,Vitesse du vent  max,')\n",
    "SC2_3v_svr_r2['Température  & Humidité & Vitesse du vent'] = SC2_3v_svr_r2.pop('Température moy,Température max,Température min,Humidité moy,Humidité max,Humidité min,Vitesse du vent  moy,Vitesse du vent  max,')\n",
    "SC2_3v_svr_r2['Température  & Rayonement & Vitesse du vent'] = SC2_3v_svr_r2.pop('Température moy,Température max,Température min,Rayonnement solaire moy,Vitesse du vent  moy,Vitesse du vent  max,')\n",
    "SC2_3v_svr_r2['Température  & Rayonement &  Humidité'] = SC2_3v_svr_r2.pop('Température moy,Température max,Température min,Rayonnement solaire moy,Humidité moy,Humidité max,Humidité min,')"
   ]
  },
  {
   "cell_type": "code",
   "execution_count": 157,
   "id": "78ef7d48",
   "metadata": {},
   "outputs": [],
   "source": [
    "Variables = list(SC2_3v_svr_r2.keys())\n",
    "ScoresR2 = list(SC2_3v_svr_r2.values())\n",
    "ScoreMae=list(SC2_3v_svr_mae.values())\n",
    "ScoreMse=list(SC2_3v_svr_mse.values())\n",
    "ScoreRmse=list(SC2_3v_svr_Rmse.values())\n",
    "tmp = max(ScoresR2)\n",
    "index = ScoresR2.index(tmp)"
   ]
  },
  {
   "cell_type": "code",
   "execution_count": 158,
   "id": "6cc4d5fd",
   "metadata": {},
   "outputs": [
    {
     "name": "stdout",
     "output_type": "stream",
     "text": [
      "La meilleur combinaison pour trois variables est: Température  & Rayonement & Vitesse du vent\n",
      "R2 0.984898419987282\n",
      "Mae 0.13949067263740425\n",
      "Mse 0.03708174469639374\n",
      "Rmse 0.19256620860471274\n"
     ]
    }
   ],
   "source": [
    "print(\"La meilleur combinaison pour trois variables est:\",Variables[index])\n",
    "print(\"R2\",ScoresR2[index])\n",
    "print(\"Mae\",ScoreMae[index])\n",
    "print(\"Mse\",ScoreMse[index])\n",
    "print(\"Rmse\",ScoreRmse[index])"
   ]
  },
  {
   "cell_type": "markdown",
   "id": "78d06b15",
   "metadata": {},
   "source": [
    "# Entrainement sur 2 variables"
   ]
  },
  {
   "cell_type": "markdown",
   "id": "d4d7d3f2",
   "metadata": {},
   "source": [
    "**RF**"
   ]
  },
  {
   "cell_type": "code",
   "execution_count": 159,
   "id": "d550f720",
   "metadata": {},
   "outputs": [
    {
     "name": "stdout",
     "output_type": "stream",
     "text": [
      "R2 0.5256204872732638\n",
      "Mae 0.8669165627450133\n",
      "Mse 1.1648330813940118\n",
      "Rmse 1.0792743309251878\n",
      "------\n",
      "R2 0.875558594829817\n",
      "Mae 0.4245360057856843\n",
      "Mse 0.3055643457370062\n",
      "Rmse 0.5527787493536688\n",
      "------\n",
      "R2 0.8256828933933521\n",
      "Mae 0.4969599806468948\n",
      "Mse 0.42803351953623725\n",
      "Rmse 0.6542427069033611\n",
      "------\n",
      "R2 0.9095746228005981\n",
      "Mae 0.35582183913659926\n",
      "Mse 0.22203840581975184\n",
      "Rmse 0.4712095137194832\n",
      "------\n",
      "R2 0.7989086852868614\n",
      "Mae 0.5302940030684471\n",
      "Mse 0.49377725950363643\n",
      "Rmse 0.7026928628523534\n",
      "------\n",
      "R2 0.9550978785583745\n",
      "Mae 0.23392392444981738\n",
      "Mse 0.11025660905829632\n",
      "Rmse 0.33204910639587076\n",
      "------\n"
     ]
    }
   ],
   "source": [
    "SC2_2v_rf_r2={}\n",
    "SC2_2v_rf_mae={}\n",
    "SC2_2v_rf_mse={}\n",
    "SC2_2v_rf_Rmse={}\n",
    "for a in range(0,len(comb2v)):\n",
    "    xtr=pd.DataFrame()\n",
    "    xts=pd.DataFrame()\n",
    "    for i in comb2v[a] :\n",
    "        for x in i:\n",
    "            xtr.insert(0,x,X_train[x])\n",
    "            xts.insert(0,x,X_test[x])\n",
    "    modelrfc =RandomForestRegressor()\n",
    "\n",
    "    grids = GridSearchCV(modelrfc,grid,cv=5,n_jobs=-1)\n",
    "\n",
    "    grids.fit(xtr,y_train)\n",
    "    modelrfc=grids.best_estimator_\n",
    "    modelrfc.fit(xtr,y_train)\n",
    "    ypred=modelrfc.predict(xts)\n",
    "    scoreR2=r2_score(y_test,ypred)\n",
    "    scoreMae=mae(y_test,ypred)\n",
    "    scoreMse=mse(y_test,ypred)\n",
    "    scoreRmse = mse(y_test,ypred,squared=False)\n",
    "    var=''\n",
    "    for col in xtr.columns:\n",
    "        var+=col+','\n",
    "    SC2_2v_rf_r2[var]=scoreR2\n",
    "    SC2_2v_rf_mae[var]=scoreMae\n",
    "    SC2_2v_rf_mse[var]=scoreMse\n",
    "    SC2_2v_rf_Rmse[var]=scoreRmse\n",
    "    print(\"R2\",scoreR2)\n",
    "    print(\"Mae\",scoreMae)\n",
    "    print(\"Mse\",scoreMse)\n",
    "    print(\"Rmse\",scoreRmse)\n",
    "    print(\"------\")"
   ]
  },
  {
   "cell_type": "code",
   "execution_count": 160,
   "id": "cd2ab77d",
   "metadata": {},
   "outputs": [],
   "source": [
    "SC2_2v_rf_r2['Humidité & Vitesse du vent'] = SC2_2v_rf_r2.pop('Humidité moy,Humidité max,Humidité min,Vitesse du vent  moy,Vitesse du vent  max,')\n",
    "SC2_2v_rf_r2['Rayonnement & Vitesse du vent'] = SC2_2v_rf_r2.pop('Rayonnement solaire moy,Vitesse du vent  moy,Vitesse du vent  max,')\n",
    "SC2_2v_rf_r2['Température & Vitesse du vent'] = SC2_2v_rf_r2.pop('Température moy,Température max,Température min,Vitesse du vent  moy,Vitesse du vent  max,')\n",
    "SC2_2v_rf_r2['Rayonnement & Humidité'] = SC2_2v_rf_r2.pop('Rayonnement solaire moy,Humidité moy,Humidité max,Humidité min,')\n",
    "SC2_2v_rf_r2['Température & Humidité'] = SC2_2v_rf_r2.pop('Température moy,Température max,Température min,Humidité moy,Humidité max,Humidité min,')\n",
    "SC2_2v_rf_r2['Température & Rayonnement'] = SC2_2v_rf_r2.pop('Température moy,Température max,Température min,Rayonnement solaire moy,')"
   ]
  },
  {
   "cell_type": "code",
   "execution_count": 161,
   "id": "380677fa",
   "metadata": {},
   "outputs": [],
   "source": [
    "Variables = list(SC2_2v_rf_r2.keys())\n",
    "ScoresR2 = list(SC2_2v_rf_r2.values())\n",
    "ScoreMae=list(SC2_2v_rf_mae.values())\n",
    "ScoreMse=list(SC2_2v_rf_mse.values())\n",
    "ScoreRmse=list(SC2_2v_rf_Rmse.values())\n",
    "tmp = max(ScoresR2)\n",
    "index = ScoresR2.index(tmp)"
   ]
  },
  {
   "cell_type": "code",
   "execution_count": 162,
   "id": "b97b7708",
   "metadata": {},
   "outputs": [
    {
     "name": "stdout",
     "output_type": "stream",
     "text": [
      "La meilleur combinaison pour deux variables est: Température & Rayonnement\n",
      "R2 0.9550978785583745\n",
      "Mae 0.23392392444981738\n",
      "Mse 0.11025660905829632\n",
      "Rmse 0.33204910639587076\n"
     ]
    }
   ],
   "source": [
    "print(\"La meilleur combinaison pour deux variables est:\",Variables[index])\n",
    "print(\"R2\",ScoresR2[index])\n",
    "print(\"Mae\",ScoreMae[index])\n",
    "print(\"Mse\",ScoreMse[index])\n",
    "print(\"Rmse\",ScoreRmse[index])"
   ]
  },
  {
   "cell_type": "markdown",
   "id": "42043454",
   "metadata": {},
   "source": [
    "**XGboost**"
   ]
  },
  {
   "cell_type": "code",
   "execution_count": 163,
   "id": "1d14dcc8",
   "metadata": {},
   "outputs": [
    {
     "name": "stdout",
     "output_type": "stream",
     "text": [
      "R2 0.5327910832492233\n",
      "Mae 0.8591423073676739\n",
      "Mse 1.1472257708293165\n",
      "Rmse 1.071086257417822\n",
      "------\n",
      "R2 0.8890544605266372\n",
      "Mae 0.4019396375888472\n",
      "Mse 0.27242541287005834\n",
      "Rmse 0.5219438790426212\n",
      "------\n",
      "R2 0.8276869300906031\n",
      "Mae 0.5053335523648057\n",
      "Mse 0.4231126319796317\n",
      "Rmse 0.6504710846606725\n",
      "------\n",
      "R2 0.8890363684539833\n",
      "Mae 0.3991424473607616\n",
      "Mse 0.2724698377327956\n",
      "Rmse 0.5219864344336888\n",
      "------\n",
      "R2 0.7802614310272826\n",
      "Mae 0.5555326905932017\n",
      "Mse 0.5395653638715312\n",
      "Rmse 0.7345511308762183\n",
      "------\n",
      "R2 0.945489797822216\n",
      "Mae 0.2608965472051292\n",
      "Mse 0.13384913358755204\n",
      "Rmse 0.3658539785044739\n",
      "------\n"
     ]
    }
   ],
   "source": [
    "SC2_2v_xgb_r2={}\n",
    "SC2_2v_xgb_mae={}\n",
    "SC2_2v_xgb_mse={}\n",
    "SC2_2v_xgb_Rmse={}\n",
    "\n",
    "for a in range(0,len(comb2v)):\n",
    "    xtr=pd.DataFrame()\n",
    "    xts=pd.DataFrame()\n",
    "    for i in comb2v[a] :\n",
    "        \n",
    "        for x in i:\n",
    "            \n",
    "            xtr.insert(0,x,X_train[x])\n",
    "            xts.insert(0,x,X_test[x])\n",
    "    modelxgb =xgb.XGBRegressor(verbosity = 0)\n",
    "\n",
    "    grids = GridSearchCV(modelxgb,xgparam,cv=5,n_jobs=-1)\n",
    "\n",
    "    grids.fit(xtr,y_train)\n",
    "    modelxgb=grids.best_estimator_\n",
    "    modelxgb.fit(xtr,y_train)\n",
    "    ypred=modelxgb.predict(xts)\n",
    "    scoreR2=r2_score(y_test,ypred)\n",
    "    scoreMae=mae(y_test,ypred)\n",
    "    scoreMse=mse(y_test,ypred)\n",
    "    scoreRmse = mse(y_test,ypred,squared=False)\n",
    "    var=''\n",
    "    for col in xtr.columns:\n",
    "        var+=col+','\n",
    "    SC2_2v_xgb_r2[var]=scoreR2\n",
    "    SC2_2v_xgb_mae[var]=scoreMae\n",
    "    SC2_2v_xgb_mse[var]=scoreMse\n",
    "    SC2_2v_xgb_Rmse[var]=scoreRmse\n",
    "    print(\"R2\",scoreR2)\n",
    "    print(\"Mae\",scoreMae)\n",
    "    print(\"Mse\",scoreMse)\n",
    "    print(\"Rmse\",scoreRmse)\n",
    "    print(\"------\")"
   ]
  },
  {
   "cell_type": "code",
   "execution_count": 164,
   "id": "14f493da",
   "metadata": {},
   "outputs": [],
   "source": [
    "SC2_2v_xgb_r2['Humidité & Vitesse du vent'] = SC2_2v_xgb_r2.pop('Humidité moy,Humidité max,Humidité min,Vitesse du vent  moy,Vitesse du vent  max,')\n",
    "SC2_2v_xgb_r2['Rayonnement & Vitesse du vent'] = SC2_2v_xgb_r2.pop('Rayonnement solaire moy,Vitesse du vent  moy,Vitesse du vent  max,')\n",
    "SC2_2v_xgb_r2['Température & Vitesse du vent'] = SC2_2v_xgb_r2.pop('Température moy,Température max,Température min,Vitesse du vent  moy,Vitesse du vent  max,')\n",
    "SC2_2v_xgb_r2['Rayonnement & Humidité'] = SC2_2v_xgb_r2.pop('Rayonnement solaire moy,Humidité moy,Humidité max,Humidité min,')\n",
    "SC2_2v_xgb_r2['Température & Humidité'] = SC2_2v_xgb_r2.pop('Température moy,Température max,Température min,Humidité moy,Humidité max,Humidité min,')\n",
    "SC2_2v_xgb_r2['Température & Rayonnement'] = SC2_2v_xgb_r2.pop('Température moy,Température max,Température min,Rayonnement solaire moy,')"
   ]
  },
  {
   "cell_type": "code",
   "execution_count": 165,
   "id": "7553660f",
   "metadata": {},
   "outputs": [],
   "source": [
    "Variables = list(SC2_2v_xgb_r2.keys())\n",
    "ScoresR2 = list(SC2_2v_xgb_r2.values())\n",
    "ScoreMae=list(SC2_2v_xgb_mae.values())\n",
    "ScoreMse=list(SC2_2v_xgb_mse.values())\n",
    "ScoreRmse=list(SC2_2v_xgb_Rmse.values())\n",
    "tmp = max(ScoresR2)\n",
    "index = ScoresR2.index(tmp)"
   ]
  },
  {
   "cell_type": "code",
   "execution_count": 166,
   "id": "6273e151",
   "metadata": {},
   "outputs": [
    {
     "name": "stdout",
     "output_type": "stream",
     "text": [
      "La meilleur combinaison pour deux variables est: Température & Rayonnement\n",
      "R2 0.945489797822216\n",
      "Mae 0.2608965472051292\n",
      "Mse 0.13384913358755204\n",
      "Rmse 0.3658539785044739\n"
     ]
    }
   ],
   "source": [
    "print(\"La meilleur combinaison pour deux variables est:\",Variables[index])\n",
    "print(\"R2\",ScoresR2[index])\n",
    "print(\"Mae\",ScoreMae[index])\n",
    "print(\"Mse\",ScoreMse[index])\n",
    "print(\"Rmse\",ScoreRmse[index])"
   ]
  },
  {
   "cell_type": "markdown",
   "id": "9dc9aa17",
   "metadata": {},
   "source": [
    "**svr**"
   ]
  },
  {
   "cell_type": "code",
   "execution_count": 167,
   "id": "614f0280",
   "metadata": {},
   "outputs": [
    {
     "name": "stdout",
     "output_type": "stream",
     "text": [
      "R2 0.45750990252520707\n",
      "Mae 0.8919326111177568\n",
      "Mse 1.332077787750732\n",
      "Rmse 1.154156743146585\n",
      "------\n",
      "R2 0.8971822916360703\n",
      "Mae 0.3732130154595886\n",
      "Mse 0.25246762316318094\n",
      "Rmse 0.502461563866512\n",
      "------\n",
      "R2 0.8566999389810341\n",
      "Mae 0.45429946177231534\n",
      "Mse 0.3518715441170952\n",
      "Rmse 0.5931876129160952\n",
      "------\n",
      "R2 0.9061038375479206\n",
      "Mae 0.3420747220795349\n",
      "Mse 0.2305608764835768\n",
      "Rmse 0.48016755042753234\n",
      "------\n",
      "R2 0.80169029966455\n",
      "Mae 0.5091645212244282\n",
      "Mse 0.48694703947961265\n",
      "Rmse 0.6978159065825403\n",
      "------\n",
      "R2 0.9563755442582824\n",
      "Mae 0.2086143339868164\n",
      "Mse 0.10711931658615592\n",
      "Rmse 0.3272908745842999\n",
      "------\n"
     ]
    }
   ],
   "source": [
    "SC2_2v_svr_r2={}\n",
    "SC2_2v_svr_mae={}\n",
    "SC2_2v_svr_mse={}\n",
    "SC2_2v_svr_Rmse={}\n",
    "\n",
    "for a in range(0,len(comb2v)):\n",
    "    xtr=pd.DataFrame()\n",
    "    xts=pd.DataFrame()\n",
    "    for i in comb2v[a] :\n",
    "        \n",
    "        for x in i:\n",
    "            xtr.insert(0,x,X_train[x])\n",
    "            xts.insert(0,x,X_test[x])\n",
    "    modelsvr = SVR()\n",
    "\n",
    "    grids = GridSearchCV(modelsvr,Svrparam,cv=3,n_jobs=-1)\n",
    "\n",
    "    grids.fit(xtr,y_train)\n",
    "    modelsvr=grids.best_estimator_\n",
    "    modelsvr.fit(xtr,y_train)\n",
    "    ypred=modelsvr.predict(xts)\n",
    "    scoreR2=r2_score(y_test,ypred)\n",
    "    scoreMae=mae(y_test,ypred)\n",
    "    scoreMse=mse(y_test,ypred)\n",
    "    scoreRmse = mse(y_test,ypred,squared=False)\n",
    "    var=''\n",
    "    for col in xtr.columns:\n",
    "        var+=col+','\n",
    "    SC2_2v_svr_r2[var]=scoreR2\n",
    "    SC2_2v_svr_mae[var]=scoreMae\n",
    "    SC2_2v_svr_mse[var]=scoreMse\n",
    "    SC2_2v_svr_Rmse[var]=scoreRmse\n",
    "    print(\"R2\",scoreR2)\n",
    "    print(\"Mae\",scoreMae)\n",
    "    print(\"Mse\",scoreMse)\n",
    "    print(\"Rmse\",scoreRmse)\n",
    "    print(\"------\")"
   ]
  },
  {
   "cell_type": "code",
   "execution_count": 168,
   "id": "33403a4a",
   "metadata": {},
   "outputs": [],
   "source": [
    "SC2_2v_svr_r2['Humidité & Vitesse du vent'] = SC2_2v_svr_r2.pop('Humidité moy,Humidité max,Humidité min,Vitesse du vent  moy,Vitesse du vent  max,')\n",
    "SC2_2v_svr_r2['Rayonnement & Vitesse du vent'] = SC2_2v_svr_r2.pop('Rayonnement solaire moy,Vitesse du vent  moy,Vitesse du vent  max,')\n",
    "SC2_2v_svr_r2['Température & Vitesse du vent'] = SC2_2v_svr_r2.pop('Température moy,Température max,Température min,Vitesse du vent  moy,Vitesse du vent  max,')\n",
    "SC2_2v_svr_r2['Rayonnement & Humidité'] = SC2_2v_svr_r2.pop('Rayonnement solaire moy,Humidité moy,Humidité max,Humidité min,')\n",
    "SC2_2v_svr_r2['Température & Humidité'] = SC2_2v_svr_r2.pop('Température moy,Température max,Température min,Humidité moy,Humidité max,Humidité min,')\n",
    "SC2_2v_svr_r2['Température & Rayonnement'] = SC2_2v_svr_r2.pop('Température moy,Température max,Température min,Rayonnement solaire moy,')"
   ]
  },
  {
   "cell_type": "code",
   "execution_count": 169,
   "id": "7e523331",
   "metadata": {},
   "outputs": [],
   "source": [
    "Variables = list(SC2_2v_svr_r2.keys())\n",
    "ScoresR2 = list(SC2_2v_svr_r2.values())\n",
    "ScoreMae=list(SC2_2v_svr_mae.values())\n",
    "ScoreMse=list(SC2_2v_svr_mse.values())\n",
    "ScoreRmse=list(SC2_2v_svr_Rmse.values())\n",
    "tmp = max(ScoresR2)\n",
    "index = ScoresR2.index(tmp)"
   ]
  },
  {
   "cell_type": "code",
   "execution_count": 170,
   "id": "71f915b2",
   "metadata": {},
   "outputs": [
    {
     "name": "stdout",
     "output_type": "stream",
     "text": [
      "La meilleur combinaison pour deux variables est: Température & Rayonnement\n",
      "R2 0.9563755442582824\n",
      "Mae 0.2086143339868164\n",
      "Mse 0.10711931658615592\n",
      "Rmse 0.3272908745842999\n"
     ]
    }
   ],
   "source": [
    "print(\"La meilleur combinaison pour deux variables est:\",Variables[index])\n",
    "print(\"R2\",ScoresR2[index])\n",
    "print(\"Mae\",ScoreMae[index])\n",
    "print(\"Mse\",ScoreMse[index])\n",
    "print(\"Rmse\",ScoreRmse[index])"
   ]
  },
  {
   "cell_type": "markdown",
   "id": "3c7ab01f",
   "metadata": {},
   "source": [
    "# Entrainement sur 1 variable"
   ]
  },
  {
   "cell_type": "code",
   "execution_count": 171,
   "id": "9ca91abf",
   "metadata": {},
   "outputs": [
    {
     "name": "stdout",
     "output_type": "stream",
     "text": [
      "R2 0.192178289866189\n",
      "Mae 1.153183148432453\n",
      "Mse 1.983596311787167\n",
      "Rmse 1.4084020419564744\n",
      "------\n",
      "R2 0.4447916901440214\n",
      "Mae 0.9691445821656972\n",
      "Mse 1.3633072024289619\n",
      "Rmse 1.1676074693273257\n",
      "------\n",
      "R2 0.8606966766404908\n",
      "Mae 0.4325760120786733\n",
      "Mse 0.3420576037624027\n",
      "Rmse 0.5848569087925718\n",
      "------\n",
      "R2 0.770278753315683\n",
      "Mae 0.5806993119605444\n",
      "Mse 0.5640777066844135\n",
      "Rmse 0.7510510679603708\n",
      "------\n"
     ]
    }
   ],
   "source": [
    "SC2_1v_rf_r2={}\n",
    "SC2_1v_rf_mae={}\n",
    "SC2_1v_rf_mse={}\n",
    "SC2_1v_rf_Rmse={}\n",
    "for a in range(0,len(comb1v)):\n",
    "    xtr=pd.DataFrame()\n",
    "    xts=pd.DataFrame()\n",
    "    for i in comb1v[a] :\n",
    "        for x in i:\n",
    "            xtr.insert(0,x,X_train[x])\n",
    "            xts.insert(0,x,X_test[x])\n",
    "    modelrfc =RandomForestRegressor()\n",
    "\n",
    "    grids = GridSearchCV(modelrfc,grid,cv=5,n_jobs=-1)\n",
    "\n",
    "    grids.fit(xtr,y_train)\n",
    "    modelrfc=grids.best_estimator_\n",
    "    modelrfc.fit(xtr,y_train)\n",
    "    ypred=modelrfc.predict(xts)\n",
    "    scoreR2=r2_score(y_test,ypred)\n",
    "    scoreMae=mae(y_test,ypred)\n",
    "    scoreMse=mse(y_test,ypred)\n",
    "    scoreRmse = mse(y_test,ypred,squared=False)\n",
    "    var=''\n",
    "    for col in xtr.columns:\n",
    "        var+=col+','\n",
    "    SC2_1v_rf_r2[var]=scoreR2\n",
    "    SC2_1v_rf_mae[var]=scoreMae\n",
    "    SC2_1v_rf_mse[var]=scoreMse\n",
    "    SC2_1v_rf_Rmse[var]=scoreRmse\n",
    "    print(\"R2\",scoreR2)\n",
    "    print(\"Mae\",scoreMae)\n",
    "    print(\"Mse\",scoreMse)\n",
    "    print(\"Rmse\",scoreRmse)\n",
    "    print(\"------\")"
   ]
  },
  {
   "cell_type": "code",
   "execution_count": 172,
   "id": "2bbdb76b",
   "metadata": {},
   "outputs": [],
   "source": [
    "SC2_1v_rf_r2['Vitesse du vent'] = SC2_1v_rf_r2.pop('Vitesse du vent  moy,Vitesse du vent  max,')\n",
    "SC2_1v_rf_r2['Humidité'] = SC2_1v_rf_r2.pop('Humidité moy,Humidité max,Humidité min,')\n",
    "SC2_1v_rf_r2['Rayonnement'] = SC2_1v_rf_r2.pop( 'Rayonnement solaire moy,')\n",
    "SC2_1v_rf_r2['Température'] = SC2_1v_rf_r2.pop('Température moy,Température max,Température min,')"
   ]
  },
  {
   "cell_type": "code",
   "execution_count": 173,
   "id": "eb2d622f",
   "metadata": {},
   "outputs": [],
   "source": [
    "Variables = list(SC2_1v_rf_r2.keys())\n",
    "ScoresR2 = list(SC2_1v_rf_r2.values())\n",
    "ScoreMae=list(SC2_1v_rf_mae.values())\n",
    "ScoreMse=list(SC2_1v_rf_mse.values())\n",
    "ScoreRmse=list(SC2_1v_rf_Rmse.values())\n",
    "tmp = max(ScoresR2)\n",
    "index = ScoresR2.index(tmp)"
   ]
  },
  {
   "cell_type": "code",
   "execution_count": 174,
   "id": "2a420e86",
   "metadata": {},
   "outputs": [
    {
     "name": "stdout",
     "output_type": "stream",
     "text": [
      "La meilleur combinaison pour deux variables est: Rayonnement\n",
      "R2 0.8606966766404908\n",
      "Mae 0.4325760120786733\n",
      "Mse 0.3420576037624027\n",
      "Rmse 0.5848569087925718\n"
     ]
    }
   ],
   "source": [
    "print(\"La meilleur combinaison pour deux variables est:\",Variables[index])\n",
    "print(\"R2\",ScoresR2[index])\n",
    "print(\"Mae\",ScoreMae[index])\n",
    "print(\"Mse\",ScoreMse[index])\n",
    "print(\"Rmse\",ScoreRmse[index])"
   ]
  },
  {
   "cell_type": "markdown",
   "id": "18595369",
   "metadata": {},
   "source": [
    "**XGBoost**"
   ]
  },
  {
   "cell_type": "code",
   "execution_count": 175,
   "id": "861a1d3a",
   "metadata": {},
   "outputs": [
    {
     "name": "stdout",
     "output_type": "stream",
     "text": [
      "R2 0.20051491584741854\n",
      "Mae 1.153510491312689\n",
      "Mse 1.9631258288307525\n",
      "Rmse 1.4011159226954608\n",
      "------\n",
      "R2 0.3564812542509691\n",
      "Mae 1.0464932023909443\n",
      "Mse 1.5801523957832722\n",
      "Rmse 1.2570411273237134\n",
      "------\n",
      "R2 0.8609214680452094\n",
      "Mae 0.432313011425316\n",
      "Mse 0.34150563122226446\n",
      "Rmse 0.5843848314443698\n",
      "------\n",
      "R2 0.7320830817569646\n",
      "Mae 0.6345006974639407\n",
      "Mse 0.6578667102227781\n",
      "Rmse 0.8110898287013456\n",
      "------\n"
     ]
    }
   ],
   "source": [
    "SC2_1v_xgb_r2={}\n",
    "SC2_1v_xgb_mae={}\n",
    "SC2_1v_xgb_mse={}\n",
    "SC2_1v_xgb_Rmse={}\n",
    "\n",
    "for a in range(0,len(comb1v)):\n",
    "    xtr=pd.DataFrame()\n",
    "    xts=pd.DataFrame()\n",
    "    for i in comb1v[a] :\n",
    "        \n",
    "        for x in i:\n",
    "            \n",
    "            xtr.insert(0,x,X_train[x])\n",
    "            xts.insert(0,x,X_test[x])\n",
    "    modelxgb =xgb.XGBRegressor(verbosity = 0)\n",
    "\n",
    "    grids = GridSearchCV(modelxgb,xgparam,cv=5,n_jobs=-1)\n",
    "\n",
    "    grids.fit(xtr,y_train)\n",
    "    modelxgb=grids.best_estimator_\n",
    "    modelxgb.fit(xtr,y_train)\n",
    "    ypred=modelxgb.predict(xts)\n",
    "    scoreR2=r2_score(y_test,ypred)\n",
    "    scoreMae=mae(y_test,ypred)\n",
    "    scoreMse=mse(y_test,ypred)\n",
    "    scoreRmse = mse(y_test,ypred,squared=False)\n",
    "    var=''\n",
    "    for col in xtr.columns:\n",
    "        var+=col+','\n",
    "    SC2_1v_xgb_r2[var]=scoreR2\n",
    "    SC2_1v_xgb_mae[var]=scoreMae\n",
    "    SC2_1v_xgb_mse[var]=scoreMse\n",
    "    SC2_1v_xgb_Rmse[var]=scoreRmse\n",
    "    print(\"R2\",scoreR2)\n",
    "    print(\"Mae\",scoreMae)\n",
    "    print(\"Mse\",scoreMse)\n",
    "    print(\"Rmse\",scoreRmse)\n",
    "    print(\"------\")"
   ]
  },
  {
   "cell_type": "code",
   "execution_count": 176,
   "id": "255708a6",
   "metadata": {},
   "outputs": [],
   "source": [
    "SC2_1v_xgb_r2['Vitesse du vent'] = SC2_1v_xgb_r2.pop('Vitesse du vent  moy,Vitesse du vent  max,')\n",
    "SC2_1v_xgb_r2['Humidité'] = SC2_1v_xgb_r2.pop('Humidité moy,Humidité max,Humidité min,')\n",
    "SC2_1v_xgb_r2['Rayonnement'] = SC2_1v_xgb_r2.pop( 'Rayonnement solaire moy,')\n",
    "SC2_1v_xgb_r2['Température'] = SC2_1v_xgb_r2.pop('Température moy,Température max,Température min,')"
   ]
  },
  {
   "cell_type": "code",
   "execution_count": 177,
   "id": "a31d86a7",
   "metadata": {},
   "outputs": [],
   "source": [
    "Variables = list(SC2_1v_xgb_r2.keys())\n",
    "ScoresR2 = list(SC2_1v_xgb_r2.values())\n",
    "ScoreMae=list(SC2_1v_xgb_mae.values())\n",
    "ScoreMse=list(SC2_1v_xgb_mae.values())\n",
    "ScoreRmse=list(SC2_1v_xgb_mae.values())\n",
    "tmp = max(ScoresR2)\n",
    "index = ScoresR2.index(tmp)"
   ]
  },
  {
   "cell_type": "code",
   "execution_count": 178,
   "id": "c04ef444",
   "metadata": {},
   "outputs": [
    {
     "name": "stdout",
     "output_type": "stream",
     "text": [
      "La meilleur combinaison pour deux variables est: Rayonnement\n",
      "R2 0.8609214680452094\n",
      "Mae 0.432313011425316\n",
      "Mse 0.432313011425316\n",
      "Rmse 0.432313011425316\n"
     ]
    }
   ],
   "source": [
    "print(\"La meilleur combinaison pour deux variables est:\",Variables[index])\n",
    "print(\"R2\",ScoresR2[index])\n",
    "print(\"Mae\",ScoreMae[index])\n",
    "print(\"Mse\",ScoreMse[index])\n",
    "print(\"Rmse\",ScoreRmse[index])"
   ]
  },
  {
   "cell_type": "markdown",
   "id": "59e6bb87",
   "metadata": {},
   "source": [
    "**svr**"
   ]
  },
  {
   "cell_type": "code",
   "execution_count": 179,
   "id": "e4f6c109",
   "metadata": {},
   "outputs": [
    {
     "name": "stdout",
     "output_type": "stream",
     "text": [
      "R2 0.17856420682444074\n",
      "Mae 1.1319208578691196\n",
      "Mse 2.0170255258961847\n",
      "Rmse 1.4202202385180211\n",
      "------\n",
      "R2 0.40809974088006074\n",
      "Mae 0.9367942456881027\n",
      "Mse 1.4534038342961824\n",
      "Rmse 1.205571994654895\n",
      "------\n",
      "R2 0.86261115299143\n",
      "Mae 0.4216545419885049\n",
      "Mse 0.3373566305388706\n",
      "Rmse 0.5808240960384397\n",
      "------\n",
      "R2 0.7915935216676308\n",
      "Mae 0.5415560091586502\n",
      "Mse 0.5117395541451385\n",
      "Rmse 0.7153597375762341\n",
      "------\n"
     ]
    }
   ],
   "source": [
    "SC2_1v_svr_r2={}\n",
    "SC2_1v_svr_mae={}\n",
    "SC2_1v_svr_mse={}\n",
    "SC2_1v_svr_Rmse={}\n",
    "\n",
    "for a in range(0,len(comb1v)):\n",
    "    xtr=pd.DataFrame()\n",
    "    xts=pd.DataFrame()\n",
    "    for i in comb1v[a] :\n",
    "        \n",
    "        for x in i:\n",
    "            xtr.insert(0,x,X_train[x])\n",
    "            xts.insert(0,x,X_test[x])\n",
    "    modelsvr = SVR()\n",
    "\n",
    "    grids = GridSearchCV(modelsvr,Svrparam,cv=3,n_jobs=-1)\n",
    "\n",
    "    grids.fit(xtr,y_train)\n",
    "    modelsvr=grids.best_estimator_\n",
    "    modelsvr.fit(xtr,y_train)\n",
    "    ypred=modelsvr.predict(xts)\n",
    "    scoreR2=r2_score(y_test,ypred)\n",
    "    scoreMae=mae(y_test,ypred)\n",
    "    scoreMse=mse(y_test,ypred)\n",
    "    scoreRmse = mse(y_test,ypred,squared=False)\n",
    "    var=''\n",
    "    for col in xtr.columns:\n",
    "        var+=col+','\n",
    "    SC2_1v_svr_r2[var]=scoreR2\n",
    "    SC2_1v_svr_mae[var]=scoreMae\n",
    "    SC2_1v_svr_mse[var]=scoreMse\n",
    "    SC2_1v_svr_Rmse[var]=scoreRmse\n",
    "    print(\"R2\",scoreR2)\n",
    "    print(\"Mae\",scoreMae)\n",
    "    print(\"Mse\",scoreMse)\n",
    "    print(\"Rmse\",scoreRmse)\n",
    "    print(\"------\")"
   ]
  },
  {
   "cell_type": "code",
   "execution_count": 180,
   "id": "6212f584",
   "metadata": {},
   "outputs": [],
   "source": [
    "SC2_1v_svr_r2['Vitesse du vent'] = SC2_1v_svr_r2.pop('Vitesse du vent  moy,Vitesse du vent  max,')\n",
    "SC2_1v_svr_r2['Humidité'] = SC2_1v_svr_r2.pop('Humidité moy,Humidité max,Humidité min,')\n",
    "SC2_1v_svr_r2['Rayonnement'] = SC2_1v_svr_r2.pop( 'Rayonnement solaire moy,')\n",
    "SC2_1v_svr_r2['Température'] = SC2_1v_svr_r2.pop('Température moy,Température max,Température min,')"
   ]
  },
  {
   "cell_type": "code",
   "execution_count": 181,
   "id": "f34a3bb2",
   "metadata": {},
   "outputs": [],
   "source": [
    "Variables = list(SC2_1v_svr_r2.keys())\n",
    "ScoresR2 = list(SC2_1v_svr_r2.values())\n",
    "ScoreMae=list(SC2_1v_svr_mae.values())\n",
    "ScoreMse=list(SC2_1v_svr_mse.values())\n",
    "ScoreRmse=list(SC2_1v_svr_Rmse.values())\n",
    "tmp = max(ScoresR2)\n",
    "index = ScoresR2.index(tmp)"
   ]
  },
  {
   "cell_type": "code",
   "execution_count": 182,
   "id": "e53f7b3c",
   "metadata": {},
   "outputs": [
    {
     "name": "stdout",
     "output_type": "stream",
     "text": [
      "La meilleur combinaison pour deux variables est: Rayonnement\n",
      "R2 0.86261115299143\n",
      "Mae 0.4216545419885049\n",
      "Mse 0.3373566305388706\n",
      "Rmse 0.5808240960384397\n"
     ]
    }
   ],
   "source": [
    "print(\"La meilleur combinaison pour deux variables est:\",Variables[index])\n",
    "print(\"R2\",ScoresR2[index])\n",
    "print(\"Mae\",ScoreMae[index])\n",
    "print(\"Mse\",ScoreMse[index])\n",
    "print(\"Rmse\",ScoreRmse[index])"
   ]
  },
  {
   "cell_type": "markdown",
   "id": "ea0f5ef0",
   "metadata": {},
   "source": [
    "# Entrainement sur des données Horraires"
   ]
  },
  {
   "cell_type": "code",
   "execution_count": 183,
   "id": "23790495",
   "metadata": {},
   "outputs": [],
   "source": [
    "#chargement des données néttoyées\n",
    "EnamMksHr= pd.read_excel(r'EnamHorraire.xlsx')\n",
    "EnsamMksHr= pd.read_excel(r'EnsamHorraire.xlsx')"
   ]
  },
  {
   "cell_type": "code",
   "execution_count": 184,
   "id": "38dca50f",
   "metadata": {},
   "outputs": [],
   "source": [
    "Data=EnamMksHr.drop(columns=['Date/heure','ETP quotidien','ET Daily calculé','Unnamed: 0'])"
   ]
  },
  {
   "cell_type": "code",
   "execution_count": 185,
   "id": "d02607ca",
   "metadata": {},
   "outputs": [],
   "source": [
    "Y=Data['ET Horraire']\n",
    "X=Data.drop(columns=['ET Horraire'])"
   ]
  },
  {
   "cell_type": "code",
   "execution_count": 186,
   "id": "d1af6e96",
   "metadata": {},
   "outputs": [],
   "source": [
    "X_train, X_test, y_train, y_test = train_test_split(X, Y, test_size=0.33, random_state=42)"
   ]
  },
  {
   "cell_type": "markdown",
   "id": "5fe06334",
   "metadata": {},
   "source": [
    "# Entrainement sur 4 variables"
   ]
  },
  {
   "cell_type": "markdown",
   "id": "cc6ab24a",
   "metadata": {},
   "source": [
    "**XGBoost**"
   ]
  },
  {
   "cell_type": "code",
   "execution_count": 188,
   "id": "2fcc0316",
   "metadata": {},
   "outputs": [],
   "source": [
    "xgb_model = xgb.XGBRegressor(verbosity = 0)\n",
    "clf = GridSearchCV(xgb_model,grid, cv=5,n_jobs=1)\n",
    "clf.fit(X_train, y_train)\n",
    "modelxgb=clf.best_estimator_\n",
    "ypred=modelxgb.predict(X_test)"
   ]
  },
  {
   "cell_type": "code",
   "execution_count": 189,
   "id": "a7014cb6",
   "metadata": {},
   "outputs": [],
   "source": [
    "HR_Xgb_4vR2=r2_score(y_test,ypred)\n",
    "HR_Xgb_4vMAE=mae(y_test,ypred)\n",
    "HR_Xgb_4vMSE=mse(y_test,ypred)\n",
    "HR_Xgb_4vRMSE=mse(y_test,ypred,squared=False)"
   ]
  },
  {
   "cell_type": "code",
   "execution_count": 190,
   "id": "f87f08b3",
   "metadata": {},
   "outputs": [
    {
     "name": "stdout",
     "output_type": "stream",
     "text": [
      "R2 =  0.9750021795246668\n",
      "Mae =  0.25511858909377133\n",
      "Mse =  0.25373951149158436\n",
      "Rmse = 0.503725631164014\n"
     ]
    }
   ],
   "source": [
    "print(\"R2 = \",HR_Xgb_4vR2)\n",
    "print(\"Mae = \",HR_Xgb_4vMAE)\n",
    "print(\"Mse = \",HR_Xgb_4vMSE)\n",
    "print(\"Rmse =\",HR_Xgb_4vRMSE)"
   ]
  },
  {
   "cell_type": "markdown",
   "id": "60662f11",
   "metadata": {},
   "source": [
    "**RF**"
   ]
  },
  {
   "cell_type": "code",
   "execution_count": 191,
   "id": "c4b813b8",
   "metadata": {},
   "outputs": [],
   "source": [
    "clf = GridSearchCV(estimator=RandomForestRegressor(), param_grid=grid, cv= 5,n_jobs=2)\n",
    "clf.fit(X_train, y_train)\n",
    "ypred=clf.predict(X_test)"
   ]
  },
  {
   "cell_type": "code",
   "execution_count": 192,
   "id": "2cba504c",
   "metadata": {},
   "outputs": [],
   "source": [
    "HR_RF_4vR2=r2_score(y_test,ypred)\n",
    "HR_RF_4vMAE=mae(y_test,ypred)\n",
    "HR_RF_4vMSE=mse(y_test,ypred)\n",
    "HR_RF_4vRMSE=mse(y_test,ypred,squared=False)"
   ]
  },
  {
   "cell_type": "code",
   "execution_count": 193,
   "id": "e0823175",
   "metadata": {},
   "outputs": [
    {
     "name": "stdout",
     "output_type": "stream",
     "text": [
      "R2 =  0.9633118101186331\n",
      "Mae =  0.3277694516124471\n",
      "Mse =  0.37240220151170766\n",
      "Rmse = 0.6102476558838286\n"
     ]
    }
   ],
   "source": [
    "print(\"R2 = \",HR_RF_4vR2)\n",
    "print(\"Mae = \",HR_RF_4vMAE)\n",
    "print(\"Mse = \",HR_RF_4vMSE)\n",
    "print(\"Rmse =\",HR_RF_4vRMSE)"
   ]
  },
  {
   "cell_type": "markdown",
   "id": "4a4e93b1",
   "metadata": {},
   "source": [
    "**svr**"
   ]
  },
  {
   "cell_type": "code",
   "execution_count": 195,
   "id": "456a1fbe",
   "metadata": {},
   "outputs": [],
   "source": [
    "svr = SVR(C= 170, epsilon= 0.2, gamma =0.001)\n",
    "svr.fit(X_train,y_train)\n",
    "ypred=svr.predict(X_test)"
   ]
  },
  {
   "cell_type": "code",
   "execution_count": 196,
   "id": "abe1a9f7",
   "metadata": {},
   "outputs": [],
   "source": [
    "HR_SVR_4vR2=r2_score(y_test,ypred)\n",
    "HR_SVR_4vMAE=mae(y_test,ypred)\n",
    "HR_SVR_4vMSE=mse(y_test,ypred)\n",
    "HR_SVR_4vRMSE=mse(y_test,ypred,squared=False)"
   ]
  },
  {
   "cell_type": "code",
   "execution_count": 197,
   "id": "24264617",
   "metadata": {},
   "outputs": [
    {
     "name": "stdout",
     "output_type": "stream",
     "text": [
      "R2 =  0.9587587709317591\n",
      "Mae =  0.34583450533625704\n",
      "Mse =  0.4186176681848702\n",
      "Rmse = 0.6470066987171541\n"
     ]
    }
   ],
   "source": [
    "print(\"R2 = \",HR_SVR_4vR2)\n",
    "print(\"Mae = \",HR_SVR_4vMAE)\n",
    "print(\"Mse = \",HR_SVR_4vMSE)\n",
    "print(\"Rmse =\",HR_SVR_4vRMSE)"
   ]
  },
  {
   "cell_type": "markdown",
   "id": "6171c9c5",
   "metadata": {},
   "source": [
    "**meilleur model**"
   ]
  },
  {
   "cell_type": "code",
   "execution_count": 198,
   "id": "c94b0cdc",
   "metadata": {},
   "outputs": [],
   "source": [
    "scoresR2=[HR_RF_4vR2,HR_Xgb_4vR2,HR_SVR_4vR2]\n",
    "scoreMae=[HR_RF_4vMAE,HR_Xgb_4vMAE,HR_SVR_4vMAE]\n",
    "scoreMse=[HR_RF_4vMSE,HR_Xgb_4vMSE,HR_SVR_4vMSE]\n",
    "scoreRmse=[HR_RF_4vRMSE,HR_Xgb_4vRMSE,HR_SVR_4vRMSE]\n",
    "Models=['Rf','Xgb','Svr']"
   ]
  },
  {
   "cell_type": "code",
   "execution_count": 199,
   "id": "0819c5a1",
   "metadata": {},
   "outputs": [],
   "source": [
    "tmp = max(scoresR2)\n",
    "index = scoresR2.index(tmp)"
   ]
  },
  {
   "cell_type": "code",
   "execution_count": 200,
   "id": "bdfdef13",
   "metadata": {},
   "outputs": [
    {
     "name": "stdout",
     "output_type": "stream",
     "text": [
      "Le meilleur model est: Xgb\n",
      "R2= 0.9750021795246668\n",
      "Mae= 0.25511858909377133\n",
      "mse= 0.25373951149158436\n",
      "Rmse= 0.503725631164014\n"
     ]
    }
   ],
   "source": [
    "print(\"Le meilleur model est:\",Models[index])\n",
    "print(\"R2=\",scoresR2[index])\n",
    "print(\"Mae=\",scoreMae[index])\n",
    "print(\"mse=\",scoreMse[index])\n",
    "print(\"Rmse=\",scoreRmse[index])"
   ]
  },
  {
   "cell_type": "markdown",
   "id": "7ef4741f",
   "metadata": {},
   "source": [
    "# Entrainement sur 3 variables"
   ]
  },
  {
   "cell_type": "markdown",
   "id": "e6391549",
   "metadata": {},
   "source": [
    "**RF**"
   ]
  },
  {
   "cell_type": "code",
   "execution_count": 202,
   "id": "95ab781a",
   "metadata": {},
   "outputs": [],
   "source": [
    "temp=['Température min', 'Température max', 'Température moy']\n",
    "hum=['Humidité min', 'Humidité max', 'Humidité moy']\n",
    "VitVent=['Vitesse du vent max', 'Vitesse du vent moy']\n",
    "Ray=['Radiation Solaire moy']"
   ]
  },
  {
   "cell_type": "code",
   "execution_count": 203,
   "id": "04b086bc",
   "metadata": {},
   "outputs": [],
   "source": [
    "comb = combinations([VitVent, hum,Ray, temp], 3)\n",
    "co=list(comb)"
   ]
  },
  {
   "cell_type": "code",
   "execution_count": 215,
   "id": "ab9284d9",
   "metadata": {},
   "outputs": [],
   "source": [
    "rfc =RandomForestRegressor(max_depth= 8, max_features= 'auto', n_estimators=500)"
   ]
  },
  {
   "cell_type": "code",
   "execution_count": 216,
   "id": "1c625aae",
   "metadata": {
    "scrolled": true
   },
   "outputs": [
    {
     "name": "stdout",
     "output_type": "stream",
     "text": [
      "R2 0.9164800474275702\n",
      "Mae 0.4631344610401874\n",
      "Mse 0.847766387731297\n",
      "Rmse 0.9207423025642392\n",
      "------\n",
      "R2 0.7811628006289938\n",
      "Mae 0.8382795114895678\n",
      "Mse 2.2212994176583516\n",
      "Rmse 1.4904024348001956\n",
      "------\n",
      "R2 0.9573608673637974\n",
      "Mae 0.300998233233176\n",
      "Mse 0.4328070399661799\n",
      "Rmse 0.657880718646002\n",
      "------\n",
      "R2 0.9732508134079548\n",
      "Mae 0.24736437452890017\n",
      "Mse 0.27151669263967393\n",
      "Rmse 0.5210726366253307\n",
      "------\n"
     ]
    }
   ],
   "source": [
    "HR_3v_rf_r2={}\n",
    "HR_3v_rf_mae={}\n",
    "HR_3v_rf_mse={}\n",
    "HR_3v_rf_Rmse={}\n",
    "for a in range(0,len(co)):\n",
    "    xtr=pd.DataFrame()\n",
    "    xts=pd.DataFrame()\n",
    "    for i in co[a] :\n",
    "        for x in i:\n",
    "            xtr.insert(0,x,X_train[x])\n",
    "            xts.insert(0,x,X_test[x])\n",
    "    rfc.fit(xtr,y_train)\n",
    "    ypred=rfc.predict(xts)\n",
    "    scoreR2=r2_score(y_test,ypred)\n",
    "    scoreMae=mae(y_test,ypred)\n",
    "    scoreMse=mse(y_test,ypred)\n",
    "    scoreRmse = mse(y_test,ypred,squared=False)\n",
    "    var=''\n",
    "    for col in xtr.columns:\n",
    "        var+=col+','\n",
    "    HR_3v_rf_r2[var]=scoreR2\n",
    "    HR_3v_rf_mae[var]=scoreMae\n",
    "    HR_3v_rf_mse[var]=scoreMse\n",
    "    HR_3v_rf_Rmse[var]=scoreRmse\n",
    "    print(\"R2\",scoreR2)\n",
    "    print(\"Mae\",scoreMae)\n",
    "    print(\"Mse\",scoreMse)\n",
    "    print(\"Rmse\",scoreRmse)\n",
    "    print(\"------\")"
   ]
  },
  {
   "cell_type": "code",
   "execution_count": 217,
   "id": "067a8320",
   "metadata": {},
   "outputs": [],
   "source": [
    "HR_3v_rf_r2['Rayonnement  & Humidité & Vitesse du vent'] = HR_3v_rf_r2.pop('Radiation Solaire moy,Humidité moy,Humidité max,Humidité min,Vitesse du vent moy,Vitesse du vent max,')\n",
    "HR_3v_rf_r2['Température  & Humidité & Vitesse du vent'] = HR_3v_rf_r2.pop('Température moy,Température max,Température min,Humidité moy,Humidité max,Humidité min,Vitesse du vent moy,Vitesse du vent max,')\n",
    "HR_3v_rf_r2['Température  & Rayonement & Vitesse du vent'] = HR_3v_rf_r2.pop('Température moy,Température max,Température min,Radiation Solaire moy,Vitesse du vent moy,Vitesse du vent max,')\n",
    "HR_3v_rf_r2['Température  & Rayonement &  Humidité'] = HR_3v_rf_r2.pop('Température moy,Température max,Température min,Radiation Solaire moy,Humidité moy,Humidité max,Humidité min,')"
   ]
  },
  {
   "cell_type": "code",
   "execution_count": 218,
   "id": "e50c7ec1",
   "metadata": {},
   "outputs": [],
   "source": [
    "Variables = list(HR_3v_rf_r2.keys())\n",
    "ScoresR2 = list(HR_3v_rf_r2.values())\n",
    "ScoreMae=list(HR_3v_rf_mae.values())\n",
    "ScoreMse=list(HR_3v_rf_mse.values())\n",
    "ScoreRmse=list(HR_3v_rf_Rmse.values())\n",
    "tmp = max(ScoresR2)\n",
    "index = ScoresR2.index(tmp)"
   ]
  },
  {
   "cell_type": "code",
   "execution_count": 219,
   "id": "1ffcc946",
   "metadata": {},
   "outputs": [
    {
     "name": "stdout",
     "output_type": "stream",
     "text": [
      "La meilleur combinaison pour trois variables est: Température  & Rayonement &  Humidité\n",
      "R2 0.9732508134079548\n",
      "Mae 0.24736437452890017\n",
      "Mse 0.27151669263967393\n",
      "Rmse 0.5210726366253307\n"
     ]
    }
   ],
   "source": [
    "print(\"La meilleur combinaison pour trois variables est:\",Variables[index])\n",
    "print(\"R2\",ScoresR2[index])\n",
    "print(\"Mae\",ScoreMae[index])\n",
    "print(\"Mse\",ScoreMse[index])\n",
    "print(\"Rmse\",ScoreRmse[index])"
   ]
  },
  {
   "cell_type": "markdown",
   "id": "c7ad7c6d",
   "metadata": {},
   "source": [
    "**XGBoost**"
   ]
  },
  {
   "cell_type": "code",
   "execution_count": 220,
   "id": "b7e47ee8",
   "metadata": {},
   "outputs": [],
   "source": [
    "modelxgb =xgb.XGBRegressor(colsample_bytree=0.4,\n",
    " gamma= 0.1,\n",
    " learning_rate= 0.15,\n",
    " max_depth= 3,min_child_weight= 3,verbosity = 0)"
   ]
  },
  {
   "cell_type": "code",
   "execution_count": 221,
   "id": "f952b506",
   "metadata": {},
   "outputs": [
    {
     "name": "stdout",
     "output_type": "stream",
     "text": [
      "R2 0.9114710623205101\n",
      "Mae 0.5228686605349239\n",
      "Mse 0.8986099176857651\n",
      "Rmse 0.947950377227503\n",
      "------\n",
      "R2 0.7696397741444287\n",
      "Mae 0.892145681625145\n",
      "Mse 2.3382634991463056\n",
      "Rmse 1.529138155676689\n",
      "------\n",
      "R2 0.9518516276496902\n",
      "Mae 0.3780213813143551\n",
      "Mse 0.4887283869942935\n",
      "Rmse 0.6990911149444639\n",
      "------\n",
      "R2 0.9655747399951792\n",
      "Mae 0.3535644956049358\n",
      "Mse 0.34943241012605125\n",
      "Rmse 0.5911280826741792\n",
      "------\n"
     ]
    }
   ],
   "source": [
    "HR_3v_xgb_r2={}\n",
    "HR_3v_xgb_mae={}\n",
    "HR_3v_xgb_mse={}\n",
    "HR_3v_xgb_Rmse={}\n",
    "\n",
    "for a in range(0,len(co)):\n",
    "    xtr=pd.DataFrame()\n",
    "    xts=pd.DataFrame()\n",
    "    for i in co[a] :\n",
    "        for x in i:\n",
    "            xtr.insert(0,x,X_train[x])\n",
    "            xts.insert(0,x,X_test[x])\n",
    "    modelxgb.fit(xtr,y_train)\n",
    "    ypred=modelxgb.predict(xts)\n",
    "    scoreR2=r2_score(y_test,ypred)\n",
    "    scoreMae=mae(y_test,ypred)\n",
    "    scoreMse=mse(y_test,ypred)\n",
    "    scoreRmse = mse(y_test,ypred,squared=False)\n",
    "    var=''\n",
    "    for col in xtr.columns:\n",
    "        var+=col+','\n",
    "    HR_3v_xgb_r2[var]=scoreR2\n",
    "    HR_3v_xgb_mae[var]=scoreMae\n",
    "    HR_3v_xgb_mse[var]=scoreMse\n",
    "    HR_3v_xgb_Rmse[var]=scoreRmse\n",
    "    print(\"R2\",scoreR2)\n",
    "    print(\"Mae\",scoreMae)\n",
    "    print(\"Mse\",scoreMse)\n",
    "    print(\"Rmse\",scoreRmse)\n",
    "    print(\"------\")"
   ]
  },
  {
   "cell_type": "code",
   "execution_count": 222,
   "id": "aecb6c96",
   "metadata": {},
   "outputs": [],
   "source": [
    "HR_3v_xgb_r2['Rayonnement  & Humidité & Vitesse du vent'] = HR_3v_xgb_r2.pop('Radiation Solaire moy,Humidité moy,Humidité max,Humidité min,Vitesse du vent moy,Vitesse du vent max,')\n",
    "HR_3v_xgb_r2['Température  & Humidité & Vitesse du vent'] = HR_3v_xgb_r2.pop('Température moy,Température max,Température min,Humidité moy,Humidité max,Humidité min,Vitesse du vent moy,Vitesse du vent max,')\n",
    "HR_3v_xgb_r2['Température  & Rayonement & Vitesse du vent'] = HR_3v_xgb_r2.pop('Température moy,Température max,Température min,Radiation Solaire moy,Vitesse du vent moy,Vitesse du vent max,')\n",
    "HR_3v_xgb_r2['Température  & Rayonement &  Humidité'] = HR_3v_xgb_r2.pop('Température moy,Température max,Température min,Radiation Solaire moy,Humidité moy,Humidité max,Humidité min,')"
   ]
  },
  {
   "cell_type": "code",
   "execution_count": 223,
   "id": "ea038a09",
   "metadata": {},
   "outputs": [],
   "source": [
    "Variables = list(HR_3v_xgb_r2.keys())\n",
    "ScoresR2 = list(HR_3v_xgb_r2.values())\n",
    "ScoreMae=list(HR_3v_xgb_mae.values())\n",
    "ScoreMse=list(HR_3v_xgb_mse.values())\n",
    "ScoreRmse=list(HR_3v_xgb_Rmse.values())\n",
    "tmp = max(ScoresR2)\n",
    "index = ScoresR2.index(tmp)"
   ]
  },
  {
   "cell_type": "code",
   "execution_count": 224,
   "id": "5d35a5e7",
   "metadata": {},
   "outputs": [
    {
     "name": "stdout",
     "output_type": "stream",
     "text": [
      "La meilleur combinaison pour trois variables est: Température  & Rayonement &  Humidité\n",
      "R2 0.9655747399951792\n",
      "Mae 0.3535644956049358\n",
      "Mse 0.34943241012605125\n",
      "Rmse 0.5911280826741792\n"
     ]
    }
   ],
   "source": [
    "print(\"La meilleur combinaison pour trois variables est:\",Variables[index])\n",
    "print(\"R2\",ScoresR2[index])\n",
    "print(\"Mae\",ScoreMae[index])\n",
    "print(\"Mse\",ScoreMse[index])\n",
    "print(\"Rmse\",ScoreRmse[index])"
   ]
  },
  {
   "cell_type": "markdown",
   "id": "4b33fd94",
   "metadata": {},
   "source": [
    "**SVR**"
   ]
  },
  {
   "cell_type": "code",
   "execution_count": 225,
   "id": "922980a7",
   "metadata": {},
   "outputs": [
    {
     "name": "stdout",
     "output_type": "stream",
     "text": [
      "R2 0.9008167012417054\n",
      "Mae 0.50631284011597\n",
      "Mse 1.0067566410394468\n",
      "Rmse 1.0033726331923982\n",
      "------\n",
      "R2 0.774404960020469\n",
      "Mae 0.853693156342305\n",
      "Mse 2.2898946448477413\n",
      "Rmse 1.513239784319637\n",
      "------\n",
      "R2 0.9556266710589564\n",
      "Mae 0.3344293527622547\n",
      "Mse 0.4504099395331673\n",
      "Rmse 0.6711258745817861\n",
      "------\n",
      "R2 0.9699861963475694\n",
      "Mae 0.3256892863847125\n",
      "Mse 0.3046540751137447\n",
      "Rmse 0.5519547763302214\n",
      "------\n"
     ]
    }
   ],
   "source": [
    "HR_3v_svr_r2={}\n",
    "HR_3v_svr_mae={}\n",
    "HR_3v_svr_mse={}\n",
    "HR_3v_svr_Rmse={}\n",
    "\n",
    "for a in range(0,len(co)):\n",
    "    xtr=pd.DataFrame()\n",
    "    xts=pd.DataFrame()\n",
    "    for i in co[a] :\n",
    "        for x in i:\n",
    "            xtr.insert(0,x,X_train[x])\n",
    "            xts.insert(0,x,X_test[x])\n",
    "    svr.fit(xtr,y_train)\n",
    "    ypred=svr.predict(xts)\n",
    "    scoreR2=r2_score(y_test,ypred)\n",
    "    scoreMae=mae(y_test,ypred)\n",
    "    scoreMse=mse(y_test,ypred)\n",
    "    scoreRmse = mse(y_test,ypred,squared=False)\n",
    "    var=''\n",
    "    for col in xtr.columns:\n",
    "        var+=col+','\n",
    "    HR_3v_svr_r2[var]=scoreR2\n",
    "    HR_3v_svr_mae[var]=scoreMae\n",
    "    HR_3v_svr_mse[var]=scoreMse\n",
    "    HR_3v_svr_Rmse[var]=scoreRmse\n",
    "    print(\"R2\",scoreR2)\n",
    "    print(\"Mae\",scoreMae)\n",
    "    print(\"Mse\",scoreMse)\n",
    "    print(\"Rmse\",scoreRmse)\n",
    "    print(\"------\")"
   ]
  },
  {
   "cell_type": "code",
   "execution_count": 226,
   "id": "9d3c6640",
   "metadata": {},
   "outputs": [],
   "source": [
    "HR_3v_svr_r2['Rayonnement  & Humidité & Vitesse du vent'] = HR_3v_svr_r2.pop('Radiation Solaire moy,Humidité moy,Humidité max,Humidité min,Vitesse du vent moy,Vitesse du vent max,')\n",
    "HR_3v_svr_r2['Température  & Humidité & Vitesse du vent'] = HR_3v_svr_r2.pop('Température moy,Température max,Température min,Humidité moy,Humidité max,Humidité min,Vitesse du vent moy,Vitesse du vent max,')\n",
    "HR_3v_svr_r2['Température  & Rayonement & Vitesse du vent'] = HR_3v_svr_r2.pop('Température moy,Température max,Température min,Radiation Solaire moy,Vitesse du vent moy,Vitesse du vent max,')\n",
    "HR_3v_svr_r2['Température  & Rayonement &  Humidité'] = HR_3v_svr_r2.pop('Température moy,Température max,Température min,Radiation Solaire moy,Humidité moy,Humidité max,Humidité min,')"
   ]
  },
  {
   "cell_type": "code",
   "execution_count": 227,
   "id": "80ac083a",
   "metadata": {},
   "outputs": [],
   "source": [
    "Variables = list(HR_3v_svr_r2.keys())\n",
    "ScoresR2 = list(HR_3v_svr_r2.values())\n",
    "ScoreMae=list(HR_3v_svr_mae.values())\n",
    "ScoreMse=list(HR_3v_svr_mse.values())\n",
    "ScoreRmse=list(HR_3v_svr_Rmse.values())\n",
    "tmp = max(ScoresR2)\n",
    "index = ScoresR2.index(tmp)"
   ]
  },
  {
   "cell_type": "code",
   "execution_count": 228,
   "id": "d431f106",
   "metadata": {},
   "outputs": [
    {
     "name": "stdout",
     "output_type": "stream",
     "text": [
      "La meilleur combinaison pour trois variables est: Température  & Rayonement &  Humidité\n",
      "R2 0.9699861963475694\n",
      "Mae 0.3256892863847125\n",
      "Mse 0.3046540751137447\n",
      "Rmse 0.5519547763302214\n"
     ]
    }
   ],
   "source": [
    "print(\"La meilleur combinaison pour trois variables est:\",Variables[index])\n",
    "print(\"R2\",ScoresR2[index])\n",
    "print(\"Mae\",ScoreMae[index])\n",
    "print(\"Mse\",ScoreMse[index])\n",
    "print(\"Rmse\",ScoreRmse[index])"
   ]
  },
  {
   "cell_type": "markdown",
   "id": "02fc18aa",
   "metadata": {},
   "source": [
    "# Entrainement sur 2 variables"
   ]
  },
  {
   "cell_type": "markdown",
   "id": "15344142",
   "metadata": {},
   "source": [
    "**RF**"
   ]
  },
  {
   "cell_type": "code",
   "execution_count": 230,
   "id": "5900b891",
   "metadata": {},
   "outputs": [],
   "source": [
    "comb = combinations([VitVent, hum,Ray, temp], 2)\n",
    "co2v=list(comb)"
   ]
  },
  {
   "cell_type": "code",
   "execution_count": 231,
   "id": "c7f7dfb2",
   "metadata": {},
   "outputs": [
    {
     "name": "stdout",
     "output_type": "stream",
     "text": [
      "R2 0.534298281249167\n",
      "Mae 1.2725567045920885\n",
      "Mse 4.727089176963643\n",
      "Rmse 2.174187015176855\n",
      "------\n",
      "R2 0.90091903357954\n",
      "Mae 0.5015679314739443\n",
      "Mse 1.0057179201862614\n",
      "Rmse 1.0028548849092083\n",
      "------\n",
      "R2 0.7352875647198345\n",
      "Mae 0.9299218304806156\n",
      "Mse 2.686954411886248\n",
      "Rmse 1.6391932198146282\n",
      "------\n",
      "R2 0.9110498284429855\n",
      "Mae 0.47956206630421294\n",
      "Mse 0.9028856375795159\n",
      "Rmse 0.950202945469817\n",
      "------\n",
      "R2 0.7431077794321718\n",
      "Mae 0.9257160221453106\n",
      "Mse 2.6075755931277973\n",
      "Rmse 1.6147989327243801\n",
      "------\n",
      "R2 0.9548747857583088\n",
      "Mae 0.31389026340555193\n",
      "Mse 0.45804192525257476\n",
      "Rmse 0.6767879470355355\n",
      "------\n"
     ]
    }
   ],
   "source": [
    "HR_2v_rf_r2={}\n",
    "HR_2v_rf_mae={}\n",
    "HR_2v_rf_mse={}\n",
    "HR_2v_rf_Rmse={}\n",
    "for a in range(0,len(co2v)):\n",
    "    xtr=pd.DataFrame()\n",
    "    xts=pd.DataFrame()\n",
    "    for i in co2v[a] :\n",
    "        for x in i:\n",
    "            xtr.insert(0,x,X_train[x])\n",
    "            xts.insert(0,x,X_test[x])\n",
    "    rfc.fit(xtr,y_train)\n",
    "    ypred=rfc.predict(xts)\n",
    "    scoreR2=r2_score(y_test,ypred)\n",
    "    scoreMae=mae(y_test,ypred)\n",
    "    scoreMse=mse(y_test,ypred)\n",
    "    scoreRmse = mse(y_test,ypred,squared=False)\n",
    "    var=''\n",
    "    for col in xtr.columns:\n",
    "        var+=col+','\n",
    "    HR_2v_rf_r2[var]=scoreR2\n",
    "    HR_2v_rf_mae[var]=scoreMae\n",
    "    HR_2v_rf_mse[var]=scoreMse\n",
    "    HR_2v_rf_Rmse[var]=scoreRmse\n",
    "    print(\"R2\",scoreR2)\n",
    "    print(\"Mae\",scoreMae)\n",
    "    print(\"Mse\",scoreMse)\n",
    "    print(\"Rmse\",scoreRmse)\n",
    "    print(\"------\")"
   ]
  },
  {
   "cell_type": "code",
   "execution_count": 232,
   "id": "ea31fed0",
   "metadata": {},
   "outputs": [
    {
     "data": {
      "text/plain": [
       "{'Humidité moy,Humidité max,Humidité min,Vitesse du vent moy,Vitesse du vent max,': 0.534298281249167,\n",
       " 'Radiation Solaire moy,Vitesse du vent moy,Vitesse du vent max,': 0.90091903357954,\n",
       " 'Température moy,Température max,Température min,Vitesse du vent moy,Vitesse du vent max,': 0.7352875647198345,\n",
       " 'Radiation Solaire moy,Humidité moy,Humidité max,Humidité min,': 0.9110498284429855,\n",
       " 'Température moy,Température max,Température min,Humidité moy,Humidité max,Humidité min,': 0.7431077794321718,\n",
       " 'Température moy,Température max,Température min,Radiation Solaire moy,': 0.9548747857583088}"
      ]
     },
     "execution_count": 232,
     "metadata": {},
     "output_type": "execute_result"
    }
   ],
   "source": [
    "HR_2v_rf_r2"
   ]
  },
  {
   "cell_type": "code",
   "execution_count": 234,
   "id": "4e8cf762",
   "metadata": {},
   "outputs": [],
   "source": [
    "HR_2v_rf_r2['Humidité & Vitesse du vent'] = HR_2v_rf_r2.pop('Humidité moy,Humidité max,Humidité min,Vitesse du vent moy,Vitesse du vent max,')\n",
    "HR_2v_rf_r2['Rayonnement & Vitesse du vent'] = HR_2v_rf_r2.pop('Radiation Solaire moy,Vitesse du vent moy,Vitesse du vent max,')\n",
    "HR_2v_rf_r2['Température & Vitesse du vent'] = HR_2v_rf_r2.pop('Température moy,Température max,Température min,Vitesse du vent moy,Vitesse du vent max,')\n",
    "HR_2v_rf_r2['Rayonnement & Humidité'] = HR_2v_rf_r2.pop('Radiation Solaire moy,Humidité moy,Humidité max,Humidité min,')\n",
    "HR_2v_rf_r2['Température & Humidité'] = HR_2v_rf_r2.pop('Température moy,Température max,Température min,Humidité moy,Humidité max,Humidité min,')\n",
    "HR_2v_rf_r2['Température & Rayonnement'] = HR_2v_rf_r2.pop('Température moy,Température max,Température min,Radiation Solaire moy,')"
   ]
  },
  {
   "cell_type": "code",
   "execution_count": 235,
   "id": "a34dc029",
   "metadata": {},
   "outputs": [],
   "source": [
    "Variables = list(HR_2v_rf_r2.keys())\n",
    "ScoresR2 = list(HR_2v_rf_r2.values())\n",
    "ScoreMae=list(HR_2v_rf_mae.values())\n",
    "ScoreMse=list(HR_2v_rf_mse.values())\n",
    "ScoreRmse=list(HR_2v_rf_Rmse.values())\n",
    "tmp = max(ScoresR2)\n",
    "index = ScoresR2.index(tmp)"
   ]
  },
  {
   "cell_type": "code",
   "execution_count": 236,
   "id": "7b6b0e3c",
   "metadata": {},
   "outputs": [
    {
     "name": "stdout",
     "output_type": "stream",
     "text": [
      "La meilleur combinaison pour deux variables est: Température & Rayonnement\n",
      "R2 0.9548747857583088\n",
      "Mae 0.31389026340555193\n",
      "Mse 0.45804192525257476\n",
      "Rmse 0.6767879470355355\n"
     ]
    }
   ],
   "source": [
    "print(\"La meilleur combinaison pour deux variables est:\",Variables[index])\n",
    "print(\"R2\",ScoresR2[index])\n",
    "print(\"Mae\",ScoreMae[index])\n",
    "print(\"Mse\",ScoreMse[index])\n",
    "print(\"Rmse\",ScoreRmse[index])"
   ]
  },
  {
   "cell_type": "markdown",
   "id": "0e9b09c2",
   "metadata": {},
   "source": [
    "**XGBoost**"
   ]
  },
  {
   "cell_type": "code",
   "execution_count": 237,
   "id": "b02d2382",
   "metadata": {},
   "outputs": [
    {
     "name": "stdout",
     "output_type": "stream",
     "text": [
      "R2 0.5273302293091418\n",
      "Mae 1.313043011809196\n",
      "Mse 4.797818146997437\n",
      "Rmse 2.190392235878642\n",
      "------\n",
      "R2 0.8908453841453422\n",
      "Mae 0.608091136362688\n",
      "Mse 1.1079701500913868\n",
      "Rmse 1.0526016103404872\n",
      "------\n",
      "R2 0.7284831865409629\n",
      "Mae 0.9646797188721857\n",
      "Mse 2.756022017072651\n",
      "Rmse 1.6601271087096467\n",
      "------\n",
      "R2 0.8823832196015812\n",
      "Mae 0.671301330345039\n",
      "Mse 1.1938650583940558\n",
      "Rmse 1.0926413219323419\n",
      "------\n",
      "R2 0.7218308072576163\n",
      "Mae 0.9905819309926257\n",
      "Mse 2.8235467627311257\n",
      "Rmse 1.6803412637708823\n",
      "------\n",
      "R2 0.9252394519119148\n",
      "Mae 0.5270228931199515\n",
      "Mse 0.7588543557000252\n",
      "Rmse 0.8711224688297422\n",
      "------\n"
     ]
    }
   ],
   "source": [
    "HR_2v_xgb_r2={}\n",
    "HR_2v_xgb_mae={}\n",
    "HR_2v_xgb_mse={}\n",
    "HR_2v_xgb_Rmse={}\n",
    "\n",
    "for a in range(0,len(co2v)):\n",
    "    xtr=pd.DataFrame()\n",
    "    xts=pd.DataFrame()\n",
    "    for i in co2v[a] :\n",
    "        for x in i:\n",
    "            xtr.insert(0,x,X_train[x])\n",
    "            xts.insert(0,x,X_test[x])\n",
    "    modelxgb.fit(xtr,y_train)\n",
    "    ypred=modelxgb.predict(xts)\n",
    "    scoreR2=r2_score(y_test,ypred)\n",
    "    scoreMae=mae(y_test,ypred)\n",
    "    scoreMse=mse(y_test,ypred)\n",
    "    scoreRmse = mse(y_test,ypred,squared=False)\n",
    "    var=''\n",
    "    for col in xtr.columns:\n",
    "        var+=col+','\n",
    "    HR_2v_xgb_r2[var]=scoreR2\n",
    "    HR_2v_xgb_mae[var]=scoreMae\n",
    "    HR_2v_xgb_mse[var]=scoreMse\n",
    "    HR_2v_xgb_Rmse[var]=scoreRmse\n",
    "    print(\"R2\",scoreR2)\n",
    "    print(\"Mae\",scoreMae)\n",
    "    print(\"Mse\",scoreMse)\n",
    "    print(\"Rmse\",scoreRmse)\n",
    "    print(\"------\")"
   ]
  },
  {
   "cell_type": "code",
   "execution_count": 238,
   "id": "049b2089",
   "metadata": {},
   "outputs": [],
   "source": [
    "HR_2v_xgb_r2['Humidité & Vitesse du vent'] = HR_2v_xgb_r2.pop('Humidité moy,Humidité max,Humidité min,Vitesse du vent moy,Vitesse du vent max,')\n",
    "HR_2v_xgb_r2['Rayonnement & Vitesse du vent'] = HR_2v_xgb_r2.pop('Radiation Solaire moy,Vitesse du vent moy,Vitesse du vent max,')\n",
    "HR_2v_xgb_r2['Température & Vitesse du vent'] = HR_2v_xgb_r2.pop('Température moy,Température max,Température min,Vitesse du vent moy,Vitesse du vent max,')\n",
    "HR_2v_xgb_r2['Rayonnement & Humidité'] = HR_2v_xgb_r2.pop('Radiation Solaire moy,Humidité moy,Humidité max,Humidité min,')\n",
    "HR_2v_xgb_r2['Température & Humidité'] = HR_2v_xgb_r2.pop('Température moy,Température max,Température min,Humidité moy,Humidité max,Humidité min,')\n",
    "HR_2v_xgb_r2['Température & Rayonnement'] = HR_2v_xgb_r2.pop('Température moy,Température max,Température min,Radiation Solaire moy,')"
   ]
  },
  {
   "cell_type": "code",
   "execution_count": 240,
   "id": "768eefcc",
   "metadata": {},
   "outputs": [],
   "source": [
    "Variables = list(HR_2v_xgb_r2.keys())\n",
    "ScoresR2 = list(HR_2v_xgb_r2.values())\n",
    "ScoreMae=list(HR_2v_xgb_mae.values())\n",
    "ScoreMse=list(HR_2v_xgb_mse.values())\n",
    "ScoreRmse=list(HR_2v_xgb_Rmse.values())\n",
    "tmp = max(ScoresR2)\n",
    "index = ScoresR2.index(tmp)"
   ]
  },
  {
   "cell_type": "code",
   "execution_count": 241,
   "id": "d620c7cb",
   "metadata": {},
   "outputs": [
    {
     "name": "stdout",
     "output_type": "stream",
     "text": [
      "La meilleur combinaison pour deux variables est: Température & Rayonnement\n",
      "R2 0.9252394519119148\n",
      "Mae 0.5270228931199515\n",
      "Mse 0.7588543557000252\n",
      "Rmse 0.8711224688297422\n"
     ]
    }
   ],
   "source": [
    "print(\"La meilleur combinaison pour deux variables est:\",Variables[index])\n",
    "print(\"R2\",ScoresR2[index])\n",
    "print(\"Mae\",ScoreMae[index])\n",
    "print(\"Mse\",ScoreMse[index])\n",
    "print(\"Rmse\",ScoreRmse[index])"
   ]
  },
  {
   "cell_type": "markdown",
   "id": "b34caa3e",
   "metadata": {},
   "source": [
    "**svr**"
   ]
  },
  {
   "cell_type": "code",
   "execution_count": 243,
   "id": "9aaf3085",
   "metadata": {},
   "outputs": [
    {
     "name": "stdout",
     "output_type": "stream",
     "text": [
      "R2 0.47953948180281447\n",
      "Mae 1.3355461134848325\n",
      "Mse 5.282916475391267\n",
      "Rmse 2.2984595875044804\n",
      "------\n",
      "R2 0.8916209958704451\n",
      "Mae 0.610947107797535\n",
      "Mse 1.1000973301217836\n",
      "Rmse 1.0488552474587634\n",
      "------\n",
      "R2 0.7082153664212112\n",
      "Mae 0.9550914153178536\n",
      "Mse 2.961749823673221\n",
      "Rmse 1.7209735104507626\n",
      "------\n",
      "R2 0.8974601460978004\n",
      "Mae 0.5277113234424426\n",
      "Mse 1.0408272378480539\n",
      "Rmse 1.0202094088215683\n",
      "------\n",
      "R2 0.7421656940031698\n",
      "Mae 0.9145629548670912\n",
      "Mse 2.6171381986667153\n",
      "Rmse 1.6177571507079531\n",
      "------\n",
      "R2 0.9528846109924181\n",
      "Mae 0.3805332440451851\n",
      "Mse 0.4782431253283283\n",
      "Rmse 0.6915512456270528\n",
      "------\n"
     ]
    }
   ],
   "source": [
    "HR_2v_svr_r2={}\n",
    "HR_2v_svr_mae={}\n",
    "HR_2v_svr_mse={}\n",
    "HR_2v_svr_Rmse={}\n",
    "\n",
    "for a in range(0,len(co2v)):\n",
    "    xtr=pd.DataFrame()\n",
    "    xts=pd.DataFrame()\n",
    "    for i in co2v[a] :\n",
    "        for x in i:\n",
    "            xtr.insert(0,x,X_train[x])\n",
    "            xts.insert(0,x,X_test[x])\n",
    "    svr.fit(xtr,y_train)\n",
    "    ypred=svr.predict(xts)\n",
    "    scoreR2=r2_score(y_test,ypred)\n",
    "    scoreMae=mae(y_test,ypred)\n",
    "    scoreMse=mse(y_test,ypred)\n",
    "    scoreRmse = mse(y_test,ypred,squared=False)\n",
    "    var=''\n",
    "    for col in xtr.columns:\n",
    "        var+=col+','\n",
    "    HR_2v_svr_r2[var]=scoreR2\n",
    "    HR_2v_svr_mae[var]=scoreMae\n",
    "    HR_2v_svr_mse[var]=scoreMse\n",
    "    HR_2v_svr_Rmse[var]=scoreRmse\n",
    "    print(\"R2\",scoreR2)\n",
    "    print(\"Mae\",scoreMae)\n",
    "    print(\"Mse\",scoreMse)\n",
    "    print(\"Rmse\",scoreRmse)\n",
    "    print(\"------\")"
   ]
  },
  {
   "cell_type": "code",
   "execution_count": 244,
   "id": "5792850b",
   "metadata": {},
   "outputs": [],
   "source": [
    "HR_2v_svr_r2['Humidité & Vitesse du vent'] = HR_2v_svr_r2.pop('Humidité moy,Humidité max,Humidité min,Vitesse du vent moy,Vitesse du vent max,')\n",
    "HR_2v_svr_r2['Rayonnement & Vitesse du vent'] = HR_2v_svr_r2.pop('Radiation Solaire moy,Vitesse du vent moy,Vitesse du vent max,')\n",
    "HR_2v_svr_r2['Température & Vitesse du vent'] = HR_2v_svr_r2.pop('Température moy,Température max,Température min,Vitesse du vent moy,Vitesse du vent max,')\n",
    "HR_2v_svr_r2['Rayonnement & Humidité'] = HR_2v_svr_r2.pop('Radiation Solaire moy,Humidité moy,Humidité max,Humidité min,')\n",
    "HR_2v_svr_r2['Température & Humidité'] = HR_2v_svr_r2.pop('Température moy,Température max,Température min,Humidité moy,Humidité max,Humidité min,')\n",
    "HR_2v_svr_r2['Température & Rayonnement'] = HR_2v_svr_r2.pop('Température moy,Température max,Température min,Radiation Solaire moy,')"
   ]
  },
  {
   "cell_type": "code",
   "execution_count": 245,
   "id": "337383ac",
   "metadata": {},
   "outputs": [],
   "source": [
    "Variables = list(HR_2v_svr_r2.keys())\n",
    "ScoresR2 = list(HR_2v_svr_r2.values())\n",
    "ScoreMae=list(HR_2v_svr_mae.values())\n",
    "ScoreMse=list(HR_2v_svr_mse.values())\n",
    "ScoreRmse=list(HR_2v_svr_Rmse.values())\n",
    "tmp = max(ScoresR2)\n",
    "index = ScoresR2.index(tmp)"
   ]
  },
  {
   "cell_type": "code",
   "execution_count": 246,
   "id": "1923c6ba",
   "metadata": {},
   "outputs": [
    {
     "name": "stdout",
     "output_type": "stream",
     "text": [
      "La meilleur combinaison pour deux variables est: Température & Rayonnement\n",
      "R2 0.9528846109924181\n",
      "Mae 0.3805332440451851\n",
      "Mse 0.4782431253283283\n",
      "Rmse 0.6915512456270528\n"
     ]
    }
   ],
   "source": [
    "print(\"La meilleur combinaison pour deux variables est:\",Variables[index])\n",
    "print(\"R2\",ScoresR2[index])\n",
    "print(\"Mae\",ScoreMae[index])\n",
    "print(\"Mse\",ScoreMse[index])\n",
    "print(\"Rmse\",ScoreRmse[index])"
   ]
  },
  {
   "cell_type": "markdown",
   "id": "1250d345",
   "metadata": {},
   "source": [
    "# Entrainement sur 1 variable"
   ]
  },
  {
   "cell_type": "code",
   "execution_count": 247,
   "id": "90cc1286",
   "metadata": {},
   "outputs": [],
   "source": [
    "comb = combinations([VitVent, hum,Ray, temp], 1)\n",
    "co1v=list(comb)"
   ]
  },
  {
   "cell_type": "markdown",
   "id": "1c35e2b9",
   "metadata": {},
   "source": [
    "**RF**"
   ]
  },
  {
   "cell_type": "code",
   "execution_count": 248,
   "id": "c00ef73e",
   "metadata": {},
   "outputs": [
    {
     "name": "stdout",
     "output_type": "stream",
     "text": [
      "R2 0.36545909762328255\n",
      "Mae 1.6211331846228623\n",
      "Mse 6.440885466369905\n",
      "Rmse 2.5378899634085608\n",
      "------\n",
      "R2 0.42957486956801905\n",
      "Mae 1.47037199414399\n",
      "Mse 5.790080542467976\n",
      "Rmse 2.4062586191986877\n",
      "------\n",
      "R2 0.8913148771836383\n",
      "Mae 0.5289197887091168\n",
      "Mse 1.103204577256606\n",
      "Rmse 1.0503354593921914\n",
      "------\n",
      "R2 0.6566883199701967\n",
      "Mae 1.1157963430052869\n",
      "Mse 3.4847733251815187\n",
      "Rmse 1.8667547576426633\n",
      "------\n"
     ]
    }
   ],
   "source": [
    "HR_1v_rf_r2={}\n",
    "HR_1v_rf_mae={}\n",
    "HR_1v_rf_mse={}\n",
    "HR_1v_rf_Rmse={}\n",
    "for a in range(0,len(co1v)):\n",
    "    xtr=pd.DataFrame()\n",
    "    xts=pd.DataFrame()\n",
    "    for i in co1v[a] :\n",
    "        for x in i:\n",
    "            xtr.insert(0,x,X_train[x])\n",
    "            xts.insert(0,x,X_test[x])\n",
    "    rfc.fit(xtr,y_train)\n",
    "    ypred=rfc.predict(xts)\n",
    "    scoreR2=r2_score(y_test,ypred)\n",
    "    scoreMae=mae(y_test,ypred)\n",
    "    scoreMse=mse(y_test,ypred)\n",
    "    scoreRmse = mse(y_test,ypred,squared=False)\n",
    "    var=''\n",
    "    for col in xtr.columns:\n",
    "        var+=col+','\n",
    "    HR_1v_rf_r2[var]=scoreR2\n",
    "    HR_1v_rf_mae[var]=scoreMae\n",
    "    HR_1v_rf_mse[var]=scoreMse\n",
    "    HR_1v_rf_Rmse[var]=scoreRmse\n",
    "    print(\"R2\",scoreR2)\n",
    "    print(\"Mae\",scoreMae)\n",
    "    print(\"Mse\",scoreMse)\n",
    "    print(\"Rmse\",scoreRmse)\n",
    "    print(\"------\")"
   ]
  },
  {
   "cell_type": "code",
   "execution_count": 249,
   "id": "cbbd0ace",
   "metadata": {},
   "outputs": [
    {
     "data": {
      "text/plain": [
       "{'Vitesse du vent moy,Vitesse du vent max,': 0.36545909762328255,\n",
       " 'Humidité moy,Humidité max,Humidité min,': 0.42957486956801905,\n",
       " 'Radiation Solaire moy,': 0.8913148771836383,\n",
       " 'Température moy,Température max,Température min,': 0.6566883199701967}"
      ]
     },
     "execution_count": 249,
     "metadata": {},
     "output_type": "execute_result"
    }
   ],
   "source": [
    "HR_1v_rf_r2"
   ]
  },
  {
   "cell_type": "code",
   "execution_count": 251,
   "id": "616159a0",
   "metadata": {},
   "outputs": [],
   "source": [
    "HR_1v_rf_r2['Vitesse du vent'] = HR_1v_rf_r2.pop('Vitesse du vent moy,Vitesse du vent max,')\n",
    "HR_1v_rf_r2['Humidité'] = HR_1v_rf_r2.pop('Humidité moy,Humidité max,Humidité min,')\n",
    "HR_1v_rf_r2['Rayonnement'] = HR_1v_rf_r2.pop( 'Radiation Solaire moy,')\n",
    "HR_1v_rf_r2['Température'] = HR_1v_rf_r2.pop('Température moy,Température max,Température min,')"
   ]
  },
  {
   "cell_type": "code",
   "execution_count": 252,
   "id": "77f07ad9",
   "metadata": {},
   "outputs": [],
   "source": [
    "Variables = list(HR_1v_rf_r2.keys())\n",
    "ScoresR2 = list(HR_1v_rf_r2.values())\n",
    "ScoreMae=list(HR_1v_rf_mae.values())\n",
    "ScoreMse=list(HR_1v_rf_mse.values())\n",
    "ScoreRmse=list(HR_1v_rf_Rmse.values())\n",
    "tmp = max(ScoresR2)\n",
    "index = ScoresR2.index(tmp)"
   ]
  },
  {
   "cell_type": "code",
   "execution_count": 253,
   "id": "1a77ead5",
   "metadata": {},
   "outputs": [
    {
     "name": "stdout",
     "output_type": "stream",
     "text": [
      "La meilleur combinaison pour deux variables est: Rayonnement\n",
      "R2 0.8913148771836383\n",
      "Mae 0.5289197887091168\n",
      "Mse 1.103204577256606\n",
      "Rmse 1.0503354593921914\n"
     ]
    }
   ],
   "source": [
    "print(\"La meilleur combinaison pour deux variables est:\",Variables[index])\n",
    "print(\"R2\",ScoresR2[index])\n",
    "print(\"Mae\",ScoreMae[index])\n",
    "print(\"Mse\",ScoreMse[index])\n",
    "print(\"Rmse\",ScoreRmse[index])"
   ]
  },
  {
   "cell_type": "markdown",
   "id": "003f8afa",
   "metadata": {},
   "source": [
    "**XGBoost**"
   ]
  },
  {
   "cell_type": "code",
   "execution_count": 254,
   "id": "e485450a",
   "metadata": {},
   "outputs": [
    {
     "name": "stdout",
     "output_type": "stream",
     "text": [
      "R2 0.35400844762923267\n",
      "Mae 1.6462760604995545\n",
      "Mse 6.557114892796035\n",
      "Rmse 2.560686410475917\n",
      "------\n",
      "R2 0.36880833477138963\n",
      "Mae 1.5869999820304608\n",
      "Mse 6.406889150624348\n",
      "Rmse 2.531183349863132\n",
      "------\n",
      "R2 0.8926120715734029\n",
      "Mae 0.5269565615189122\n",
      "Mse 1.0900374505027648\n",
      "Rmse 1.0440485862749707\n",
      "------\n",
      "R2 0.624421762288808\n",
      "Mae 1.2194298318339267\n",
      "Mse 3.8122939020921938\n",
      "Rmse 1.952509641997241\n",
      "------\n"
     ]
    }
   ],
   "source": [
    "HR_1v_xgb_r2={}\n",
    "HR_1v_xgb_mae={}\n",
    "HR_1v_xgb_mse={}\n",
    "HR_1v_xgb_Rmse={}\n",
    "\n",
    "for a in range(0,len(co1v)):\n",
    "    xtr=pd.DataFrame()\n",
    "    xts=pd.DataFrame()\n",
    "    for i in co1v[a] :\n",
    "        for x in i:\n",
    "            xtr.insert(0,x,X_train[x])\n",
    "            xts.insert(0,x,X_test[x])\n",
    "    modelxgb.fit(xtr,y_train)\n",
    "    ypred=modelxgb.predict(xts)\n",
    "    scoreR2=r2_score(y_test,ypred)\n",
    "    scoreMae=mae(y_test,ypred)\n",
    "    scoreMse=mse(y_test,ypred)\n",
    "    scoreRmse = mse(y_test,ypred,squared=False)\n",
    "    var=''\n",
    "    for col in xtr.columns:\n",
    "        var+=col+','\n",
    "    HR_1v_xgb_r2[var]=scoreR2\n",
    "    HR_1v_xgb_mae[var]=scoreMae\n",
    "    HR_1v_xgb_mse[var]=scoreMse\n",
    "    HR_1v_xgb_Rmse[var]=scoreRmse\n",
    "    print(\"R2\",scoreR2)\n",
    "    print(\"Mae\",scoreMae)\n",
    "    print(\"Mse\",scoreMse)\n",
    "    print(\"Rmse\",scoreRmse)\n",
    "    print(\"------\")"
   ]
  },
  {
   "cell_type": "code",
   "execution_count": 256,
   "id": "c16c69c9",
   "metadata": {},
   "outputs": [],
   "source": [
    "HR_1v_xgb_r2['Vitesse du vent'] = HR_1v_xgb_r2.pop('Vitesse du vent moy,Vitesse du vent max,')\n",
    "HR_1v_xgb_r2['Humidité'] = HR_1v_xgb_r2.pop('Humidité moy,Humidité max,Humidité min,')\n",
    "HR_1v_xgb_r2['Rayonnement'] = HR_1v_xgb_r2.pop( 'Radiation Solaire moy,')\n",
    "HR_1v_xgb_r2['Température'] = HR_1v_xgb_r2.pop('Température moy,Température max,Température min,')"
   ]
  },
  {
   "cell_type": "code",
   "execution_count": 257,
   "id": "209916e5",
   "metadata": {},
   "outputs": [],
   "source": [
    "Variables = list(HR_1v_xgb_r2.keys())\n",
    "ScoresR2 = list(HR_1v_xgb_r2.values())\n",
    "ScoreMae=list(HR_1v_xgb_mae.values())\n",
    "ScoreMse=list(HR_1v_xgb_mae.values())\n",
    "ScoreRmse=list(HR_1v_xgb_mae.values())\n",
    "tmp = max(ScoresR2)\n",
    "index = ScoresR2.index(tmp)"
   ]
  },
  {
   "cell_type": "code",
   "execution_count": 258,
   "id": "2f0cc9b9",
   "metadata": {},
   "outputs": [
    {
     "name": "stdout",
     "output_type": "stream",
     "text": [
      "La meilleur combinaison pour deux variables est: Rayonnement\n",
      "R2 0.8926120715734029\n",
      "Mae 0.5269565615189122\n",
      "Mse 0.5269565615189122\n",
      "Rmse 0.5269565615189122\n"
     ]
    }
   ],
   "source": [
    "print(\"La meilleur combinaison pour deux variables est:\",Variables[index])\n",
    "print(\"R2\",ScoresR2[index])\n",
    "print(\"Mae\",ScoreMae[index])\n",
    "print(\"Mse\",ScoreMse[index])\n",
    "print(\"Rmse\",ScoreRmse[index])"
   ]
  },
  {
   "cell_type": "markdown",
   "id": "028c1f4e",
   "metadata": {},
   "source": [
    "**svr**"
   ]
  },
  {
   "cell_type": "code",
   "execution_count": 271,
   "id": "3b579d4b",
   "metadata": {
    "scrolled": true
   },
   "outputs": [
    {
     "name": "stdout",
     "output_type": "stream",
     "text": [
      "R2 0.2419544049904686\n",
      "Mae 1.5833023079185309\n",
      "Mse 7.69451557410236\n",
      "Rmse 2.7738989841200707\n",
      "------\n",
      "R2 0.38159753490776605\n",
      "Mae 1.454342926417833\n",
      "Mse 6.277072817309434\n",
      "Rmse 2.5054087126274296\n",
      "------\n",
      "R2 0.8866963210557128\n",
      "Mae 0.6324276508187863\n",
      "Mse 1.15008507137219\n",
      "Rmse 1.0724201934746427\n",
      "------\n",
      "R2 0.6093357695594293\n",
      "Mae 1.1046722344380897\n",
      "Mse 3.965423749124073\n",
      "Rmse 1.9913371761517618\n",
      "------\n"
     ]
    }
   ],
   "source": [
    "HR_1v_svr_r2={}\n",
    "HR_1v_svr_mae={}\n",
    "HR_1v_svr_mse={}\n",
    "HR_1v_svr_Rmse={}\n",
    "\n",
    "for a in range(0,len(co1v)):\n",
    "    xtr=pd.DataFrame()\n",
    "    xts=pd.DataFrame()\n",
    "    for i in co1v[a] :\n",
    "        for x in i:\n",
    "            xtr.insert(0,x,X_train[x])\n",
    "            xts.insert(0,x,X_test[x])\n",
    "    svr.fit(xtr,y_train)\n",
    "    ypred=svr.predict(xts)\n",
    "    scoreR2=r2_score(y_test,ypred)\n",
    "    scoreMae=mae(y_test,ypred)\n",
    "    scoreMse=mse(y_test,ypred)\n",
    "    scoreRmse = mse(y_test,ypred,squared=False)\n",
    "    var=''\n",
    "    for col in xtr.columns:\n",
    "        var+=col+','\n",
    "    HR_1v_svr_r2[var]=scoreR2\n",
    "    HR_1v_svr_mae[var]=scoreMae\n",
    "    HR_1v_svr_mse[var]=scoreMse\n",
    "    HR_1v_svr_Rmse[var]=scoreRmse\n",
    "    print(\"R2\",scoreR2)\n",
    "    print(\"Mae\",scoreMae)\n",
    "    print(\"Mse\",scoreMse)\n",
    "    print(\"Rmse\",scoreRmse)\n",
    "    print(\"------\")"
   ]
  },
  {
   "cell_type": "code",
   "execution_count": 272,
   "id": "ace20a0d",
   "metadata": {},
   "outputs": [],
   "source": [
    "HR_1v_svr_r2['Vitesse du vent'] = HR_1v_svr_r2.pop('Vitesse du vent moy,Vitesse du vent max,')\n",
    "HR_1v_svr_r2['Humidité'] = HR_1v_svr_r2.pop('Humidité moy,Humidité max,Humidité min,')\n",
    "HR_1v_svr_r2['Rayonnement'] = HR_1v_svr_r2.pop( 'Radiation Solaire moy,')\n",
    "HR_1v_svr_r2['Température'] = HR_1v_svr_r2.pop('Température moy,Température max,Température min,')"
   ]
  },
  {
   "cell_type": "code",
   "execution_count": 273,
   "id": "398336cb",
   "metadata": {},
   "outputs": [],
   "source": [
    "Variables = list(HR_1v_svr_r2.keys())\n",
    "ScoresR2 = list(HR_1v_svr_r2.values())\n",
    "ScoreMae=list(HR_1v_svr_mae.values())\n",
    "ScoreMse=list(HR_1v_svr_mse.values())\n",
    "ScoreRmse=list(HR_1v_svr_Rmse.values())\n",
    "tmp = max(ScoresR2)\n",
    "index = ScoresR2.index(tmp)"
   ]
  },
  {
   "cell_type": "code",
   "execution_count": 274,
   "id": "c18de43a",
   "metadata": {},
   "outputs": [
    {
     "name": "stdout",
     "output_type": "stream",
     "text": [
      "La meilleur combinaison pour deux variables est: Rayonnement\n",
      "R2 0.8866963210557128\n",
      "Mae 0.6324276508187863\n",
      "Mse 1.15008507137219\n",
      "Rmse 1.0724201934746427\n"
     ]
    }
   ],
   "source": [
    "print(\"La meilleur combinaison pour deux variables est:\",Variables[index])\n",
    "print(\"R2\",ScoresR2[index])\n",
    "print(\"Mae\",ScoreMae[index])\n",
    "print(\"Mse\",ScoreMse[index])\n",
    "print(\"Rmse\",ScoreRmse[index])"
   ]
  }
 ],
 "metadata": {
  "kernelspec": {
   "display_name": "Python 3 (ipykernel)",
   "language": "python",
   "name": "python3"
  },
  "language_info": {
   "codemirror_mode": {
    "name": "ipython",
    "version": 3
   },
   "file_extension": ".py",
   "mimetype": "text/x-python",
   "name": "python",
   "nbconvert_exporter": "python",
   "pygments_lexer": "ipython3",
   "version": "3.9.7"
  }
 },
 "nbformat": 4,
 "nbformat_minor": 5
}
