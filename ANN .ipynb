{
 "cells": [
  {
   "cell_type": "code",
   "execution_count": 1,
   "id": "23feb58e",
   "metadata": {},
   "outputs": [],
   "source": [
    "import pandas as pd\n",
    "import numpy as np\n",
    "import math\n",
    "import matplotlib.pyplot as plt \n",
    "from sklearn.metrics import r2_score\n",
    "from sklearn.metrics import mean_absolute_error as  mae\n",
    "from sklearn.metrics import mean_squared_error as mse\n",
    "from itertools import combinations\n",
    "from sklearn.model_selection import train_test_split\n",
    "import warnings\n",
    "warnings.filterwarnings('ignore')\n",
    "import tensorflow as tf\n",
    "from tensorflow import keras\n",
    "from keras.models import Sequential\n",
    "from keras.layers import Dense\n",
    "import random\n",
    "import seaborn as sb"
   ]
  },
  {
   "cell_type": "markdown",
   "id": "b48287d6",
   "metadata": {},
   "source": [
    "# Entrainement sur des données journalieres"
   ]
  },
  {
   "cell_type": "code",
   "execution_count": 2,
   "id": "594b106d",
   "metadata": {},
   "outputs": [],
   "source": [
    "EnamMekjr= pd.read_excel(r'EnamMksJr.xlsx')\n",
    "AnamBerkaneJr= pd.read_excel(r'AnamBerkaneJr.xlsx')"
   ]
  },
  {
   "cell_type": "code",
   "execution_count": 3,
   "id": "ab426c24",
   "metadata": {},
   "outputs": [],
   "source": [
    "random.seed(7)"
   ]
  },
  {
   "cell_type": "markdown",
   "id": "9e4535a3",
   "metadata": {},
   "source": [
    "# 1er Scénario"
   ]
  },
  {
   "cell_type": "markdown",
   "id": "11bdc3e0",
   "metadata": {},
   "source": [
    "**Entrainemet et validation sur des données de Meknès et le test par les données de Berkan**"
   ]
  },
  {
   "cell_type": "markdown",
   "id": "a3bf1b9b",
   "metadata": {},
   "source": [
    "**4 Variables**"
   ]
  },
  {
   "cell_type": "code",
   "execution_count": 4,
   "id": "0f1dbb7c",
   "metadata": {},
   "outputs": [],
   "source": [
    "ytrain=EnamMekjr[\"ETP quotidien [mm]\"].astype('int')\n",
    "Xtrain=EnamMekjr.drop(columns=['ETP quotidien [mm]','Date/heure','Precipitation Somme','Unnamed: 0'])\n",
    "ytest=AnamBerkaneJr['ETP quotidien [mm]']\n",
    "Xtest=AnamBerkaneJr.drop(columns=['ETP quotidien [mm]','Date/heure','Precipitation Somme','Vitesse Max max','Unnamed: 0'])"
   ]
  },
  {
   "cell_type": "code",
   "execution_count": 5,
   "id": "b2cefa3e",
   "metadata": {},
   "outputs": [],
   "source": [
    "model=keras.Sequential([\n",
    "        keras.layers.Dense(93,activation='relu'),\n",
    "        keras.layers.Dense(77,activation='relu'),\n",
    "\n",
    "        keras.layers.Dense(1,activation='linear'),\n",
    "    ])\n",
    "model.compile(optimizer='adam',loss='mean_squared_error',metrics=['mae'])\n",
    "history=model.fit(Xtrain,ytrain,epochs=200,verbose=0)"
   ]
  },
  {
   "cell_type": "code",
   "execution_count": 6,
   "id": "5bd48ffc",
   "metadata": {},
   "outputs": [
    {
     "data": {
      "text/plain": [
       "[<matplotlib.lines.Line2D at 0x1a0ac3c5670>]"
      ]
     },
     "execution_count": 6,
     "metadata": {},
     "output_type": "execute_result"
    },
    {
     "data": {
      "image/png": "[encoded data removed]",
      "text/plain": [
       "<Figure size 432x288 with 1 Axes>"
      ]
     },
     "metadata": {
      "needs_background": "light"
     },
     "output_type": "display_data"
    }
   ],
   "source": [
    "loss=history.history['loss']\n",
    "epochs = range(1,len(loss)+1)\n",
    "plt.plot(epochs,loss,'y',label='Training loss')"
   ]
  },
  {
   "cell_type": "code",
   "execution_count": 7,
   "id": "5a4caa74",
   "metadata": {},
   "outputs": [],
   "source": [
    "ypred=model.predict(Xtest)"
   ]
  },
  {
   "cell_type": "code",
   "execution_count": 8,
   "id": "ecb7df26",
   "metadata": {},
   "outputs": [
    {
     "name": "stdout",
     "output_type": "stream",
     "text": [
      "R2 =  0.8866494978523144\n",
      "Mae =  0.41653897377053767\n",
      "Mse =  0.23601270966236107\n",
      "Rmse 0.485811393096499\n"
     ]
    }
   ],
   "source": [
    "print(\"R2 = \",r2_score(ytest,ypred))\n",
    "print(\"Mae = \",mae(ytest,ypred))\n",
    "print(\"Mse = \",mse(ytest,ypred))\n",
    "rmse = mse(ytest,ypred,squared=False)\n",
    "print(\"Rmse\",rmse)"
   ]
  },
  {
   "cell_type": "markdown",
   "id": "19d3f22a",
   "metadata": {},
   "source": [
    "**3 variables**"
   ]
  },
  {
   "cell_type": "code",
   "execution_count": 9,
   "id": "8ab19702",
   "metadata": {},
   "outputs": [],
   "source": [
    "temp=['Température moy', 'Température max', 'Température min']\n",
    "hum=['Humidité moy', 'Humidité max', 'Humidité min']\n",
    "VitVent=['Vitesse du vent  moy', 'Vitesse du vent  max']\n",
    "Ray=['Rayonnement solaire moy']\n",
    "comb = combinations([temp, hum, VitVent,Ray], 3)\n",
    "co=list(comb)"
   ]
  },
  {
   "cell_type": "code",
   "execution_count": 10,
   "id": "a853849e",
   "metadata": {},
   "outputs": [
    {
     "name": "stdout",
     "output_type": "stream",
     "text": [
      "R2 0.5921079862373186\n",
      "Mae 0.6073242324114929\n",
      "Mse 0.8492922183294722\n",
      "Rmse 0.9215705172852874\n",
      "------\n",
      "R2 0.9203122233263882\n",
      "Mae 0.26366850657172203\n",
      "Mse 0.1659218772158939\n",
      "Rmse 0.4073350920506284\n",
      "------\n",
      "R2 0.8388676392572565\n",
      "Mae 0.4978379279800547\n",
      "Mse 0.33550169035545324\n",
      "Rmse 0.5792250774573329\n",
      "------\n",
      "R2 0.8276895753897584\n",
      "Mae 0.451476379231073\n",
      "Mse 0.35877609225188106\n",
      "Rmse 0.5989792085305474\n",
      "------\n"
     ]
    }
   ],
   "source": [
    "_3varscoreR2={}\n",
    "_3varscoreMae={}\n",
    "_3varscoreMse={}\n",
    "_3varscoreRMse={}\n",
    "for a in range(0,len(co)):\n",
    "    xtr=pd.DataFrame()\n",
    "    xts=pd.DataFrame()\n",
    "    for i in co[a] :\n",
    "        for x in i: \n",
    "            xtr.insert(0,x,Xtrain[x])\n",
    "            xts.insert(0,x,Xtest[x])\n",
    "    model=keras.Sequential([\n",
    "    keras.layers.Dense(93,activation='relu'),\n",
    "    keras.layers.Dense(77,activation='relu'),\n",
    "    keras.layers.Dense(1,activation='linear'), ])\n",
    "    model.compile(optimizer='adam',loss='mean_squared_error',metrics=['mae'])\n",
    "    history=model.fit(xtr,ytrain,epochs=200,verbose=0)\n",
    "    ypred=model.predict(xts)\n",
    "    scoreR2=r2_score(ytest,ypred)\n",
    "    scoreMae=mae(ytest,ypred)\n",
    "    scoreMse=mse(ytest,ypred)\n",
    "    scoreRmse = mse(ytest,ypred,squared=False)\n",
    "    \n",
    "    var=''\n",
    "    for col in xtr.columns:\n",
    "        var+=col+','\n",
    "    _3varscoreR2[var]=scoreR2\n",
    "    _3varscoreMae[var]=scoreMae\n",
    "    _3varscoreMse[var]=scoreMse\n",
    "    _3varscoreRMse[var]=scoreRmse\n",
    "    print(\"R2\",scoreR2)\n",
    "    print(\"Mae\",scoreMae)\n",
    "    print(\"Mse\",scoreMse)\n",
    "    print(\"Rmse\",scoreRmse)\n",
    "    print(\"------\")"
   ]
  },
  {
   "cell_type": "code",
   "execution_count": 11,
   "id": "a206cf7c",
   "metadata": {},
   "outputs": [
    {
     "data": {
      "text/plain": [
       "{'Vitesse du vent  max,Vitesse du vent  moy,Humidité min,Humidité max,Humidité moy,Température min,Température max,Température moy,': 0.5921079862373186,\n",
       " 'Rayonnement solaire moy,Humidité min,Humidité max,Humidité moy,Température min,Température max,Température moy,': 0.9203122233263882,\n",
       " 'Rayonnement solaire moy,Vitesse du vent  max,Vitesse du vent  moy,Température min,Température max,Température moy,': 0.8388676392572565,\n",
       " 'Rayonnement solaire moy,Vitesse du vent  max,Vitesse du vent  moy,Humidité min,Humidité max,Humidité moy,': 0.8276895753897584}"
      ]
     },
     "execution_count": 11,
     "metadata": {},
     "output_type": "execute_result"
    }
   ],
   "source": [
    "_3varscoreR2"
   ]
  },
  {
   "cell_type": "code",
   "execution_count": 12,
   "id": "4bdae41e",
   "metadata": {},
   "outputs": [],
   "source": [
    "_3varscoreR2['Vitesse du vent & Humidité & Température'] = _3varscoreR2.pop('Vitesse du vent  max,Vitesse du vent  moy,Humidité min,Humidité max,Humidité moy,Température min,Température max,Température moy,')\n",
    "_3varscoreR2['Rayonnement & Humidité & Température'] = _3varscoreR2.pop('Rayonnement solaire moy,Humidité min,Humidité max,Humidité moy,Température min,Température max,Température moy,')\n",
    "_3varscoreR2['Rayonnement & Vitesse du vent & Température'] = _3varscoreR2.pop('Rayonnement solaire moy,Vitesse du vent  max,Vitesse du vent  moy,Température min,Température max,Température moy,')\n",
    "_3varscoreR2['Rayonnement & Vitesse du vent & Humidité'] = _3varscoreR2.pop('Rayonnement solaire moy,Vitesse du vent  max,Vitesse du vent  moy,Humidité min,Humidité max,Humidité moy,')"
   ]
  },
  {
   "cell_type": "code",
   "execution_count": 15,
   "id": "0e2447ab",
   "metadata": {},
   "outputs": [],
   "source": [
    "Variables = list(_3varscoreR2.keys())\n",
    "ScoresR2 = list(_3varscoreR2.values())\n",
    "ScoreMae=list(_3varscoreMae.values())\n",
    "ScoreMse=list(_3varscoreMse.values())\n",
    "ScoreRmse=list(_3varscoreRMse.values())\n",
    "tmp = max(ScoresR2)\n",
    "index = ScoresR2.index(tmp)"
   ]
  },
  {
   "cell_type": "code",
   "execution_count": 16,
   "id": "1ba58581",
   "metadata": {},
   "outputs": [
    {
     "name": "stdout",
     "output_type": "stream",
     "text": [
      "La meilleur combinaison pour trois variables est: Rayonnement & Humidité & Température\n",
      "R2 0.9203122233263882\n",
      "Mae 0.26366850657172203\n",
      "Mse 0.1659218772158939\n",
      "Rmse 0.4073350920506284\n"
     ]
    }
   ],
   "source": [
    "print(\"La meilleur combinaison pour trois variables est:\",Variables[index])\n",
    "print(\"R2\",ScoresR2[index])\n",
    "print(\"Mae\",ScoreMae[index])\n",
    "print(\"Mse\",ScoreMse[index])\n",
    "print(\"Rmse\",ScoreRmse[index])"
   ]
  },
  {
   "cell_type": "markdown",
   "id": "009ad7ba",
   "metadata": {},
   "source": [
    "**2Variables**"
   ]
  },
  {
   "cell_type": "code",
   "execution_count": 17,
   "id": "9bdcd60d",
   "metadata": {},
   "outputs": [],
   "source": [
    "comb = combinations([temp, hum, VitVent,Ray], 2)\n",
    "co=list(comb)"
   ]
  },
  {
   "cell_type": "code",
   "execution_count": 18,
   "id": "2e719392",
   "metadata": {},
   "outputs": [
    {
     "name": "stdout",
     "output_type": "stream",
     "text": [
      "R2 0.7551602933582764\n",
      "Mae 0.5679066862632979\n",
      "Mse 0.5097929122727811\n",
      "Rmse 0.713997837722763\n",
      "------\n",
      "R2 0.5875988799828691\n",
      "Mae 0.740913304408056\n",
      "Mse 0.8586808523902334\n",
      "Rmse 0.9266503398748815\n",
      "------\n",
      "R2 0.8257028354494849\n",
      "Mae 0.48340596839988637\n",
      "Mse 0.3629127821457421\n",
      "Rmse 0.6024224283223045\n",
      "------\n",
      "R2 -0.0880166495041379\n",
      "Mae 1.1709724492120865\n",
      "Mse 2.265413498324569\n",
      "Rmse 1.5051290636767893\n",
      "------\n",
      "R2 0.5623907831383961\n",
      "Mae 0.797903044558554\n",
      "Mse 0.9111678826986098\n",
      "Rmse 0.9545511420026743\n",
      "------\n",
      "R2 0.8195375397644842\n",
      "Mae 0.46777907336090846\n",
      "Mse 0.37574985046848164\n",
      "Rmse 0.612984380281\n",
      "------\n"
     ]
    }
   ],
   "source": [
    "_2varscoreR2={}\n",
    "_2varscoreMae={}\n",
    "_2varscoreMse={}\n",
    "_2varscoreRMse={}\n",
    "for a in range(0,len(co)):\n",
    "    xtr=pd.DataFrame()\n",
    "    xts=pd.DataFrame()\n",
    "    for i in co[a] :\n",
    "        for x in i: \n",
    "            xtr.insert(0,x,Xtrain[x])\n",
    "            xts.insert(0,x,Xtest[x])\n",
    "    model=keras.Sequential([\n",
    "    keras.layers.Dense(93,activation='relu'),\n",
    "    keras.layers.Dense(77,activation='relu'),\n",
    "    keras.layers.Dense(1,activation='linear'), ])\n",
    "    model.compile(optimizer='adam',loss='mean_squared_error',metrics=['mae'])\n",
    "    history=model.fit(xtr,ytrain,epochs=200,verbose=0)\n",
    "    ypred=model.predict(xts)\n",
    "    scoreR2=r2_score(ytest,ypred)\n",
    "    scoreMae=mae(ytest,ypred)\n",
    "    scoreMse=mse(ytest,ypred)\n",
    "    scoreRmse = mse(ytest,ypred,squared=False)\n",
    "    \n",
    "    var=''\n",
    "    for col in xtr.columns:\n",
    "        var+=col+','\n",
    "    _2varscoreR2[var]=scoreR2\n",
    "    _2varscoreMae[var]=scoreMae\n",
    "    _2varscoreMse[var]=scoreMse\n",
    "    _2varscoreRMse[var]=scoreRmse\n",
    "    print(\"R2\",scoreR2)\n",
    "    print(\"Mae\",scoreMae)\n",
    "    print(\"Mse\",scoreMse)\n",
    "    print(\"Rmse\",scoreRmse)\n",
    "    print(\"------\")"
   ]
  },
  {
   "cell_type": "code",
   "execution_count": 19,
   "id": "5170bf6f",
   "metadata": {},
   "outputs": [],
   "source": [
    "_2varscoreR2['Humidité & Température'] = _2varscoreR2.pop('Humidité min,Humidité max,Humidité moy,Température min,Température max,Température moy,')\n",
    "_2varscoreR2['Vitesse du vent & Température'] = _2varscoreR2.pop('Vitesse du vent  max,Vitesse du vent  moy,Température min,Température max,Température moy,')\n",
    "_2varscoreR2['Rayonnement & Température'] = _2varscoreR2.pop('Rayonnement solaire moy,Température min,Température max,Température moy,')\n",
    "_2varscoreR2['Vitesse du vent & Humidité'] = _2varscoreR2.pop('Vitesse du vent  max,Vitesse du vent  moy,Humidité min,Humidité max,Humidité moy,')\n",
    "_2varscoreR2['Rayonnement & Humidité'] = _2varscoreR2.pop('Rayonnement solaire moy,Humidité min,Humidité max,Humidité moy,')\n",
    "_2varscoreR2['Rayonnement & Vitesse du vent'] = _2varscoreR2.pop('Rayonnement solaire moy,Vitesse du vent  max,Vitesse du vent  moy,')"
   ]
  },
  {
   "cell_type": "code",
   "execution_count": 20,
   "id": "04b82253",
   "metadata": {},
   "outputs": [],
   "source": [
    "Variables = list(_2varscoreR2.keys())\n",
    "ScoresR2 = list(_2varscoreR2.values())\n",
    "ScoreMae=list(_2varscoreMae.values())\n",
    "ScoreMse=list(_2varscoreMse.values())\n",
    "ScoreRmse=list(_2varscoreRMse.values())\n",
    "tmp = max(ScoresR2)\n",
    "index = ScoresR2.index(tmp)"
   ]
  },
  {
   "cell_type": "code",
   "execution_count": 21,
   "id": "897e9333",
   "metadata": {},
   "outputs": [
    {
     "name": "stdout",
     "output_type": "stream",
     "text": [
      "La meilleur combinaison pour deux variables est: Rayonnement & Température\n",
      "R2 0.8257028354494849\n",
      "Mae 0.48340596839988637\n",
      "Mse 0.3629127821457421\n",
      "Rmse 0.6024224283223045\n"
     ]
    }
   ],
   "source": [
    "print(\"La meilleur combinaison pour deux variables est:\",Variables[index])\n",
    "print(\"R2\",ScoresR2[index])\n",
    "print(\"Mae\",ScoreMae[index])\n",
    "print(\"Mse\",ScoreMse[index])\n",
    "print(\"Rmse\",ScoreRmse[index])"
   ]
  },
  {
   "cell_type": "markdown",
   "id": "647b6e35",
   "metadata": {},
   "source": [
    "**1 Variable**"
   ]
  },
  {
   "cell_type": "code",
   "execution_count": 22,
   "id": "a00bedf8",
   "metadata": {},
   "outputs": [],
   "source": [
    "comb = combinations([temp, hum, VitVent,Ray], 1)\n",
    "co=list(comb)"
   ]
  },
  {
   "cell_type": "code",
   "execution_count": 23,
   "id": "648e4ad4",
   "metadata": {},
   "outputs": [
    {
     "name": "stdout",
     "output_type": "stream",
     "text": [
      "R2 0.7153128350814006\n",
      "Mae 0.6015827395423212\n",
      "Mse 0.5927612840302355\n",
      "Rmse 0.7699099194257959\n",
      "------\n",
      "R2 -0.010356084815032585\n",
      "Mae 1.1390740285014116\n",
      "Mse 2.1037125798557303\n",
      "Rmse 1.4504180707146923\n",
      "------\n",
      "R2 -1.0012177010911478\n",
      "Mae 1.4176181302431883\n",
      "Mse 4.166834758644662\n",
      "Rmse 2.041282625861657\n",
      "------\n",
      "R2 0.7948389767929034\n",
      "Mae 0.5086577495880362\n",
      "Mse 0.4271759549959617\n",
      "Rmse 0.6535869911465204\n",
      "------\n"
     ]
    }
   ],
   "source": [
    "_1varscoreR2={}\n",
    "_1varscoreMae={}\n",
    "_1varscoreMse={}\n",
    "_1varscoreRMse={}\n",
    "for a in range(0,len(co)):\n",
    "    xtr=pd.DataFrame()\n",
    "    xts=pd.DataFrame()\n",
    "    for i in co[a] :\n",
    "        for x in i: \n",
    "            xtr.insert(0,x,Xtrain[x])\n",
    "            xts.insert(0,x,Xtest[x])\n",
    "    model=keras.Sequential([\n",
    "    keras.layers.Dense(93,activation='relu'),\n",
    "    keras.layers.Dense(77,activation='relu'),\n",
    "    keras.layers.Dense(1,activation='linear'), ])\n",
    "    model.compile(optimizer='adam',loss='mean_squared_error',metrics=['mae'])\n",
    "    history=model.fit(xtr,ytrain,epochs=200,verbose=0)\n",
    "    ypred=model.predict(xts)\n",
    "    scoreR2=r2_score(ytest,ypred)\n",
    "    scoreMae=mae(ytest,ypred)\n",
    "    scoreMse=mse(ytest,ypred)\n",
    "    scoreRmse = mse(ytest,ypred,squared=False)\n",
    "    \n",
    "    var=''\n",
    "    for col in xtr.columns:\n",
    "        var+=col+','\n",
    "    _1varscoreR2[var]=scoreR2\n",
    "    _1varscoreMae[var]=scoreMae\n",
    "    _1varscoreMse[var]=scoreMse\n",
    "    _1varscoreRMse[var]=scoreRmse\n",
    "    print(\"R2\",scoreR2)\n",
    "    print(\"Mae\",scoreMae)\n",
    "    print(\"Mse\",scoreMse)\n",
    "    print(\"Rmse\",scoreRmse)\n",
    "    print(\"------\")"
   ]
  },
  {
   "cell_type": "code",
   "execution_count": 24,
   "id": "8a21ae67",
   "metadata": {},
   "outputs": [],
   "source": [
    "_1varscoreR2['Température'] = _1varscoreR2.pop('Température min,Température max,Température moy,')\n",
    "_1varscoreR2['Humidité'] = _1varscoreR2.pop('Humidité min,Humidité max,Humidité moy,')\n",
    "_1varscoreR2['Vitesse du vent'] = _1varscoreR2.pop('Vitesse du vent  max,Vitesse du vent  moy,')\n",
    "_1varscoreR2['Rayonnement'] = _1varscoreR2.pop( 'Rayonnement solaire moy,')"
   ]
  },
  {
   "cell_type": "code",
   "execution_count": 25,
   "id": "26a6043e",
   "metadata": {},
   "outputs": [],
   "source": [
    "Variables = list(_1varscoreR2.keys())\n",
    "ScoresR2 = list(_1varscoreR2.values())\n",
    "ScoreMae=list(_1varscoreMae.values())\n",
    "ScoreMse=list(_1varscoreMse.values())\n",
    "ScoreRmse=list(_1varscoreRMse.values())\n",
    "tmp = max(ScoresR2)\n",
    "index = ScoresR2.index(tmp)"
   ]
  },
  {
   "cell_type": "code",
   "execution_count": 26,
   "id": "3ea2726f",
   "metadata": {},
   "outputs": [
    {
     "name": "stdout",
     "output_type": "stream",
     "text": [
      "La meilleur combinaison pour Une variable est: Rayonnement\n",
      "R2 0.7948389767929034\n",
      "Mae 0.5086577495880362\n",
      "Mse 0.4271759549959617\n",
      "Rmse 0.6535869911465204\n"
     ]
    }
   ],
   "source": [
    "print(\"La meilleur combinaison pour Une variable est:\",Variables[index])\n",
    "print(\"R2\",ScoresR2[index])\n",
    "print(\"Mae\",ScoreMae[index])\n",
    "print(\"Mse\",ScoreMse[index])\n",
    "print(\"Rmse\",ScoreRmse[index])"
   ]
  },
  {
   "cell_type": "markdown",
   "id": "b4e74519",
   "metadata": {},
   "source": [
    "# 2éme scénario"
   ]
  },
  {
   "cell_type": "markdown",
   "id": "b9785d9a",
   "metadata": {},
   "source": [
    "**Entrainemet et validation sur des données de Meknès et le test par les données de Berkan**"
   ]
  },
  {
   "cell_type": "code",
   "execution_count": 27,
   "id": "76c5f3e8",
   "metadata": {},
   "outputs": [],
   "source": [
    "data=pd.concat([EnamMekjr,AnamBerkaneJr],axis=0,join='inner')"
   ]
  },
  {
   "cell_type": "code",
   "execution_count": 28,
   "id": "d8b6ca10",
   "metadata": {},
   "outputs": [],
   "source": [
    "data=data.drop(columns=['Date/heure','Precipitation Somme','Unnamed: 0'])"
   ]
  },
  {
   "cell_type": "code",
   "execution_count": 29,
   "id": "149ae488",
   "metadata": {},
   "outputs": [],
   "source": [
    "y=data.iloc[:,-1]\n",
    "X=data.drop(columns=['ETP quotidien [mm]'])"
   ]
  },
  {
   "cell_type": "code",
   "execution_count": 30,
   "id": "d13e210c",
   "metadata": {},
   "outputs": [],
   "source": [
    "X_train, X_test, y_train, y_test = train_test_split(X, y, test_size=0.2, random_state=42)"
   ]
  },
  {
   "cell_type": "markdown",
   "id": "940739d8",
   "metadata": {},
   "source": [
    "**4Variables**"
   ]
  },
  {
   "cell_type": "code",
   "execution_count": 31,
   "id": "2e354773",
   "metadata": {},
   "outputs": [],
   "source": [
    "model=keras.Sequential([\n",
    "        keras.layers.Dense(93,activation='relu'),\n",
    "        keras.layers.Dense(77,activation='relu'),\n",
    "\n",
    "        keras.layers.Dense(1,activation='linear'),\n",
    "    ])\n",
    "model.compile(optimizer='adam',loss='mean_squared_error',metrics=['mae'])\n",
    "history=model.fit(X_train,y_train,validation_split=0.2,epochs=100,verbose=0)"
   ]
  },
  {
   "cell_type": "code",
   "execution_count": 32,
   "id": "d80144ca",
   "metadata": {},
   "outputs": [
    {
     "data": {
      "text/plain": [
       "Text(0.5, 0, 'Loss')"
      ]
     },
     "execution_count": 32,
     "metadata": {},
     "output_type": "execute_result"
    },
    {
     "data": {
      "image/png": "[encoded data removed]",
      "text/plain": [
       "<Figure size 432x288 with 1 Axes>"
      ]
     },
     "metadata": {
      "needs_background": "light"
     },
     "output_type": "display_data"
    }
   ],
   "source": [
    "loss=history.history['loss']\n",
    "val_loss=history.history['val_loss']\n",
    "epochs = range(1,len(loss)+1)\n",
    "plt.plot(epochs,loss,'y',label='Training loss')\n",
    "plt.plot(epochs,val_loss,'r',label='validation loss')\n",
    "plt.xlabel('Epochs')\n",
    "plt.xlabel('Loss')"
   ]
  },
  {
   "cell_type": "code",
   "execution_count": 33,
   "id": "4cffaf9b",
   "metadata": {},
   "outputs": [],
   "source": [
    "ypred=model.predict(X_test)"
   ]
  },
  {
   "cell_type": "code",
   "execution_count": 37,
   "id": "0aab7f08",
   "metadata": {},
   "outputs": [
    {
     "name": "stdout",
     "output_type": "stream",
     "text": [
      "R2 =  0.9629901824350021\n",
      "Mae =  0.23507473085336622\n",
      "Mse =  0.0908771535858889\n",
      "Rmse 0.3014583778664791\n"
     ]
    }
   ],
   "source": [
    "print(\"R2 = \",r2_score(y_test,ypred))\n",
    "print(\"Mae = \",mae(y_test,ypred))\n",
    "print(\"Mse = \",mse(y_test,ypred))\n",
    "rmse = mse(y_test,ypred,squared=False)\n",
    "print(\"Rmse\",rmse)"
   ]
  },
  {
   "cell_type": "markdown",
   "id": "eaa87319",
   "metadata": {},
   "source": [
    "**3 variables**"
   ]
  },
  {
   "cell_type": "code",
   "execution_count": 38,
   "id": "2c6d4d55",
   "metadata": {},
   "outputs": [],
   "source": [
    "temp=['Température moy', 'Température max', 'Température min']\n",
    "hum=['Humidité moy', 'Humidité max', 'Humidité min']\n",
    "VitVent=['Vitesse du vent  moy', 'Vitesse du vent  max']\n",
    "Ray=['Rayonnement solaire moy']\n",
    "comb = combinations([temp, hum, VitVent,Ray], 3)\n",
    "co=list(comb)"
   ]
  },
  {
   "cell_type": "code",
   "execution_count": 40,
   "id": "7f03894a",
   "metadata": {},
   "outputs": [
    {
     "name": "stdout",
     "output_type": "stream",
     "text": [
      "R2 0.8619611348374115\n",
      "Mae 0.45614983906411827\n",
      "Mse 0.3389527421520287\n",
      "Rmse 0.5821964807107896\n",
      "------\n",
      "R2 0.9562761719140483\n",
      "Mae 0.2229895824269884\n",
      "Mse 0.10736332415991082\n",
      "Rmse 0.3276634312215979\n",
      "------\n",
      "R2 0.9758333958454977\n",
      "Mae 0.2014909804057164\n",
      "Mse 0.05934080041170311\n",
      "Rmse 0.24359967243759403\n",
      "------\n",
      "R2 0.922415069573587\n",
      "Mae 0.3485116640473627\n",
      "Mse 0.19050884609006682\n",
      "Rmse 0.43647319057425144\n",
      "------\n"
     ]
    }
   ],
   "source": [
    "V2_3varscoreR2={} #VERSION 2 3 VARIABLES\n",
    "V2_3varscoreMae={}\n",
    "V2_3varscoreMse={}\n",
    "V2_3varscoreRMse={}\n",
    "for a in range(0,len(co)):\n",
    "    xtr=pd.DataFrame()\n",
    "    xts=pd.DataFrame()\n",
    "    for i in co[a] :\n",
    "        for x in i: \n",
    "            xtr.insert(0,x,X_train[x])\n",
    "            xts.insert(0,x,X_test[x])\n",
    "    model=keras.Sequential([\n",
    "    keras.layers.Dense(93,activation='relu'),\n",
    "    keras.layers.Dense(77,activation='relu'),\n",
    "    keras.layers.Dense(1,activation='linear'), ])\n",
    "    model.compile(optimizer='adam',loss='mean_squared_error',metrics=['mae'])\n",
    "    history=model.fit(xtr,y_train,epochs=200,verbose=0)\n",
    "    ypred=model.predict(xts)\n",
    "    scoreR2=r2_score(y_test,ypred)\n",
    "    scoreMae=mae(y_test,ypred)\n",
    "    scoreMse=mse(y_test,ypred)\n",
    "    scoreRmse = mse(y_test,ypred,squared=False)\n",
    "    \n",
    "    var=''\n",
    "    for col in xtr.columns:\n",
    "        var+=col+','\n",
    "    V2_3varscoreR2[var]=scoreR2\n",
    "    V2_3varscoreMae[var]=scoreMae\n",
    "    V2_3varscoreMse[var]=scoreMse\n",
    "    V2_3varscoreRMse[var]=scoreRmse\n",
    "    print(\"R2\",scoreR2)\n",
    "    print(\"Mae\",scoreMae)\n",
    "    print(\"Mse\",scoreMse)\n",
    "    print(\"Rmse\",scoreRmse)\n",
    "    print(\"------\")"
   ]
  },
  {
   "cell_type": "code",
   "execution_count": 41,
   "id": "63df991d",
   "metadata": {},
   "outputs": [],
   "source": [
    "V2_3varscoreR2['Vitesse du vent & Humidité & Température'] = V2_3varscoreR2.pop('Vitesse du vent  max,Vitesse du vent  moy,Humidité min,Humidité max,Humidité moy,Température min,Température max,Température moy,')\n",
    "V2_3varscoreR2['Rayonnement & Humidité & Température'] = V2_3varscoreR2.pop('Rayonnement solaire moy,Humidité min,Humidité max,Humidité moy,Température min,Température max,Température moy,')\n",
    "V2_3varscoreR2['Rayonnement & Vitesse du vent & Température'] = V2_3varscoreR2.pop('Rayonnement solaire moy,Vitesse du vent  max,Vitesse du vent  moy,Température min,Température max,Température moy,')\n",
    "V2_3varscoreR2['Rayonnement & Vitesse du vent & Humidité'] = V2_3varscoreR2.pop('Rayonnement solaire moy,Vitesse du vent  max,Vitesse du vent  moy,Humidité min,Humidité max,Humidité moy,')\n"
   ]
  },
  {
   "cell_type": "code",
   "execution_count": 42,
   "id": "e5331666",
   "metadata": {},
   "outputs": [],
   "source": [
    "Variables = list(V2_3varscoreR2.keys())\n",
    "ScoresR2 = list(V2_3varscoreR2.values())\n",
    "ScoreMae=list(V2_3varscoreMae.values())\n",
    "ScoreMse=list(V2_3varscoreMse.values())\n",
    "ScoreRmse=list(V2_3varscoreRMse.values())\n",
    "tmp = max(ScoresR2)\n",
    "index = ScoresR2.index(tmp)"
   ]
  },
  {
   "cell_type": "code",
   "execution_count": 43,
   "id": "503fbfb5",
   "metadata": {},
   "outputs": [
    {
     "name": "stdout",
     "output_type": "stream",
     "text": [
      "La meilleur combinaison pour trois variables est: Rayonnement & Vitesse du vent & Température\n",
      "R2 0.9758333958454977\n",
      "Mae 0.2014909804057164\n",
      "Mse 0.05934080041170311\n",
      "Rmse 0.24359967243759403\n"
     ]
    }
   ],
   "source": [
    "print(\"La meilleur combinaison pour trois variables est:\",Variables[index])\n",
    "print(\"R2\",ScoresR2[index])\n",
    "print(\"Mae\",ScoreMae[index])\n",
    "print(\"Mse\",ScoreMse[index])\n",
    "print(\"Rmse\",ScoreRmse[index])"
   ]
  },
  {
   "cell_type": "markdown",
   "id": "7fb3a4dc",
   "metadata": {},
   "source": [
    "**2 VARIABLES**"
   ]
  },
  {
   "cell_type": "code",
   "execution_count": 44,
   "id": "3d66cec2",
   "metadata": {},
   "outputs": [],
   "source": [
    "comb = combinations([temp, hum, VitVent,Ray], 2)\n",
    "co=list(comb)"
   ]
  },
  {
   "cell_type": "code",
   "execution_count": 45,
   "id": "18308076",
   "metadata": {},
   "outputs": [
    {
     "name": "stdout",
     "output_type": "stream",
     "text": [
      "R2 0.8044634896395243\n",
      "Mae 0.5257203184305482\n",
      "Mse 0.4801375054732374\n",
      "Rmse 0.6929195519490249\n",
      "------\n",
      "R2 0.8501238217771029\n",
      "Mae 0.4699066107440146\n",
      "Mse 0.3680191193406399\n",
      "Rmse 0.606645793969298\n",
      "------\n",
      "R2 0.9298166795270542\n",
      "Mae 0.29608368483033903\n",
      "Mse 0.1723342835339892\n",
      "Rmse 0.41513164602808733\n",
      "------\n",
      "R2 0.4798692505317873\n",
      "Mae 0.9185915483316038\n",
      "Mse 1.277174682667716\n",
      "Rmse 1.1301215344677384\n",
      "------\n",
      "R2 0.9062738211705906\n",
      "Mae 0.3610667826073944\n",
      "Mse 0.230143483780753\n",
      "Rmse 0.4797327211904072\n",
      "------\n",
      "R2 0.834026733562828\n",
      "Mae 0.4783172298388876\n",
      "Mse 0.407545322228972\n",
      "Rmse 0.6383927648626447\n",
      "------\n"
     ]
    }
   ],
   "source": [
    "V2_2varscoreR2={}\n",
    "V2_2varscoreMae={}\n",
    "V2_2varscoreMse={}\n",
    "V2_2varscoreRMse={}\n",
    "for a in range(0,len(co)):\n",
    "    xtr=pd.DataFrame()\n",
    "    xts=pd.DataFrame()\n",
    "    for i in co[a] :\n",
    "        for x in i: \n",
    "            xtr.insert(0,x,X_train[x])\n",
    "            xts.insert(0,x,X_test[x])\n",
    "    model=keras.Sequential([\n",
    "    keras.layers.Dense(93,activation='relu'),\n",
    "    keras.layers.Dense(77,activation='relu'),\n",
    "    keras.layers.Dense(1,activation='linear'), ])\n",
    "    model.compile(optimizer='adam',loss='mean_squared_error',metrics=['mae'])\n",
    "    history=model.fit(xtr,y_train,epochs=200,verbose=0)\n",
    "    ypred=model.predict(xts)\n",
    "    scoreR2=r2_score(y_test,ypred)\n",
    "    scoreMae=mae(y_test,ypred)\n",
    "    scoreMse=mse(y_test,ypred)\n",
    "    scoreRmse = mse(y_test,ypred,squared=False)\n",
    "    \n",
    "    var=''\n",
    "    for col in xtr.columns:\n",
    "        var+=col+','\n",
    "    V2_2varscoreR2[var]=scoreR2\n",
    "    V2_2varscoreMae[var]=scoreMae\n",
    "    V2_2varscoreMse[var]=scoreMse\n",
    "    V2_2varscoreRMse[var]=scoreRmse\n",
    "    print(\"R2\",scoreR2)\n",
    "    print(\"Mae\",scoreMae)\n",
    "    print(\"Mse\",scoreMse)\n",
    "    print(\"Rmse\",scoreRmse)\n",
    "    print(\"------\")"
   ]
  },
  {
   "cell_type": "code",
   "execution_count": 46,
   "id": "983200f1",
   "metadata": {},
   "outputs": [],
   "source": [
    "V2_2varscoreR2['Humidité & Température'] = V2_2varscoreR2.pop('Humidité min,Humidité max,Humidité moy,Température min,Température max,Température moy,')\n",
    "V2_2varscoreR2['Vitesse du vent & Température'] = V2_2varscoreR2.pop('Vitesse du vent  max,Vitesse du vent  moy,Température min,Température max,Température moy,')\n",
    "V2_2varscoreR2['Rayonnement & Température'] = V2_2varscoreR2.pop('Rayonnement solaire moy,Température min,Température max,Température moy,')\n",
    "V2_2varscoreR2['Vitesse du vent & Humidité'] = V2_2varscoreR2.pop('Vitesse du vent  max,Vitesse du vent  moy,Humidité min,Humidité max,Humidité moy,')\n",
    "V2_2varscoreR2['Rayonnement & Humidité'] = V2_2varscoreR2.pop('Rayonnement solaire moy,Humidité min,Humidité max,Humidité moy,')\n",
    "V2_2varscoreR2['Rayonnement & Vitesse du vent'] = V2_2varscoreR2.pop('Rayonnement solaire moy,Vitesse du vent  max,Vitesse du vent  moy,')"
   ]
  },
  {
   "cell_type": "code",
   "execution_count": 47,
   "id": "398eba64",
   "metadata": {},
   "outputs": [],
   "source": [
    "Variables = list(V2_2varscoreR2.keys())\n",
    "ScoresR2 = list(V2_2varscoreR2.values())\n",
    "ScoreMae=list(V2_2varscoreMae.values())\n",
    "ScoreMse=list(V2_2varscoreMse.values())\n",
    "ScoreRmse=list(V2_2varscoreRMse.values())\n",
    "tmp = max(ScoresR2)\n",
    "index = ScoresR2.index(tmp)"
   ]
  },
  {
   "cell_type": "code",
   "execution_count": 48,
   "id": "9ca2dabe",
   "metadata": {},
   "outputs": [
    {
     "name": "stdout",
     "output_type": "stream",
     "text": [
      "La meilleur combinaison pour DEUX variables est: Rayonnement & Température\n",
      "R2 0.9298166795270542\n",
      "Mae 0.29608368483033903\n",
      "Mse 0.1723342835339892\n",
      "Rmse 0.41513164602808733\n"
     ]
    }
   ],
   "source": [
    "print(\"La meilleur combinaison pour DEUX variables est:\",Variables[index])\n",
    "print(\"R2\",ScoresR2[index])\n",
    "print(\"Mae\",ScoreMae[index])\n",
    "print(\"Mse\",ScoreMse[index])\n",
    "print(\"Rmse\",ScoreRmse[index])"
   ]
  },
  {
   "cell_type": "markdown",
   "id": "d65464f0",
   "metadata": {},
   "source": [
    "**1 VARIABLES**"
   ]
  },
  {
   "cell_type": "code",
   "execution_count": 49,
   "id": "3dc374cc",
   "metadata": {},
   "outputs": [],
   "source": [
    "comb = combinations([temp, hum, VitVent,Ray], 1)\n",
    "co=list(comb)"
   ]
  },
  {
   "cell_type": "code",
   "execution_count": 50,
   "id": "27848758",
   "metadata": {},
   "outputs": [
    {
     "name": "stdout",
     "output_type": "stream",
     "text": [
      "R2 0.7943370451362355\n",
      "Mae 0.5492732441539218\n",
      "Mse 0.5050028658816794\n",
      "Rmse 0.7106355366020471\n",
      "------\n",
      "R2 0.4143995772724193\n",
      "Mae 0.9727165820302478\n",
      "Mse 1.4379346632204568\n",
      "Rmse 1.1991391342210698\n",
      "------\n",
      "R2 0.2079472660231091\n",
      "Mae 1.1433698405410833\n",
      "Mse 1.9448757840356348\n",
      "Rmse 1.3945880338062688\n",
      "------\n",
      "R2 0.8293716494946993\n",
      "Mae 0.4823479721880263\n",
      "Mse 0.4189758241240866\n",
      "Rmse 0.6472834187000982\n",
      "------\n"
     ]
    }
   ],
   "source": [
    "V2_1varscoreR2={}\n",
    "V2_1varscoreMae={}\n",
    "V2_1varscoreMse={}\n",
    "V2_1varscoreRMse={}\n",
    "for a in range(0,len(co)):\n",
    "    xtr=pd.DataFrame()\n",
    "    xts=pd.DataFrame()\n",
    "    for i in co[a] :\n",
    "        for x in i: \n",
    "            xtr.insert(0,x,X_train[x])\n",
    "            xts.insert(0,x,X_test[x])\n",
    "    model=keras.Sequential([\n",
    "    keras.layers.Dense(93,activation='relu'),\n",
    "    keras.layers.Dense(77,activation='relu'),\n",
    "    keras.layers.Dense(1,activation='linear'), ])\n",
    "    model.compile(optimizer='adam',loss='mean_squared_error',metrics=['mae'])\n",
    "    history=model.fit(xtr,y_train,epochs=200,verbose=0)\n",
    "    ypred=model.predict(xts)\n",
    "    scoreR2=r2_score(y_test,ypred)\n",
    "    scoreMae=mae(y_test,ypred)\n",
    "    scoreMse=mse(y_test,ypred)\n",
    "    scoreRmse = mse(y_test,ypred,squared=False)\n",
    "    \n",
    "    var=''\n",
    "    for col in xtr.columns:\n",
    "        var+=col+','\n",
    "    V2_1varscoreR2[var]=scoreR2\n",
    "    V2_1varscoreMae[var]=scoreMae\n",
    "    V2_1varscoreMse[var]=scoreMse\n",
    "    V2_1varscoreRMse[var]=scoreRmse\n",
    "    print(\"R2\",scoreR2)\n",
    "    print(\"Mae\",scoreMae)\n",
    "    print(\"Mse\",scoreMse)\n",
    "    print(\"Rmse\",scoreRmse)\n",
    "    print(\"------\")"
   ]
  },
  {
   "cell_type": "code",
   "execution_count": 51,
   "id": "34f6b21c",
   "metadata": {},
   "outputs": [],
   "source": [
    "V2_1varscoreR2['Température'] = V2_1varscoreR2.pop('Température min,Température max,Température moy,')\n",
    "V2_1varscoreR2['Humidité'] = V2_1varscoreR2.pop('Humidité min,Humidité max,Humidité moy,')\n",
    "V2_1varscoreR2['Vitesse du vent'] = V2_1varscoreR2.pop('Vitesse du vent  max,Vitesse du vent  moy,')\n",
    "V2_1varscoreR2['Rayonnement'] = V2_1varscoreR2.pop( 'Rayonnement solaire moy,')"
   ]
  },
  {
   "cell_type": "code",
   "execution_count": 52,
   "id": "0f244f5a",
   "metadata": {},
   "outputs": [],
   "source": [
    "Variables = list(V2_1varscoreR2.keys())\n",
    "ScoresR2 = list(V2_1varscoreR2.values())\n",
    "ScoreMae=list(V2_1varscoreMae.values())\n",
    "ScoreMse=list(V2_1varscoreMse.values())\n",
    "ScoreRmse=list(V2_1varscoreRMse.values())\n",
    "tmp = max(ScoresR2)\n",
    "index = ScoresR2.index(tmp)"
   ]
  },
  {
   "cell_type": "code",
   "execution_count": 53,
   "id": "d26ff30e",
   "metadata": {
    "scrolled": true
   },
   "outputs": [
    {
     "name": "stdout",
     "output_type": "stream",
     "text": [
      "La meilleur combinaison pour Une variable est: Rayonnement\n",
      "R2 0.8293716494946993\n",
      "Mae 0.4823479721880263\n",
      "Mse 0.4189758241240866\n",
      "Rmse 0.6472834187000982\n"
     ]
    }
   ],
   "source": [
    "print(\"La meilleur combinaison pour Une variable est:\",Variables[index])\n",
    "print(\"R2\",ScoresR2[index])\n",
    "print(\"Mae\",ScoreMae[index])\n",
    "print(\"Mse\",ScoreMse[index])\n",
    "print(\"Rmse\",ScoreRmse[index])"
   ]
  },
  {
   "cell_type": "markdown",
   "id": "40f5cf1d",
   "metadata": {},
   "source": [
    "# Entrainement sur des données horraires"
   ]
  },
  {
   "cell_type": "code",
   "execution_count": 4,
   "id": "e06eb938",
   "metadata": {},
   "outputs": [],
   "source": [
    "#chargement des données néttoyées\n",
    "EnamMksHr= pd.read_excel(r'EnamHorraire.xlsx')"
   ]
  },
  {
   "cell_type": "code",
   "execution_count": 5,
   "id": "25445d12",
   "metadata": {},
   "outputs": [],
   "source": [
    "Data=EnamMksHr.drop(columns=['Date/heure','ETP quotidien','ET Daily calculé','Unnamed: 0'])"
   ]
  },
  {
   "cell_type": "code",
   "execution_count": 15,
   "id": "2d254df2",
   "metadata": {},
   "outputs": [
    {
     "data": {
      "text/html": [
       "<div>\n",
       "<style scoped>\n",
       "    .dataframe tbody tr th:only-of-type {\n",
       "        vertical-align: middle;\n",
       "    }\n",
       "\n",
       "    .dataframe tbody tr th {\n",
       "        vertical-align: top;\n",
       "    }\n",
       "\n",
       "    .dataframe thead th {\n",
       "        text-align: right;\n",
       "    }\n",
       "</style>\n",
       "<table border=\"1\" class=\"dataframe\">\n",
       "  <thead>\n",
       "    <tr style=\"text-align: right;\">\n",
       "      <th></th>\n",
       "      <th>Température moy</th>\n",
       "      <th>Température max</th>\n",
       "      <th>Température min</th>\n",
       "      <th>Radiation Solaire moy</th>\n",
       "      <th>Humidité moy</th>\n",
       "      <th>Humidité max</th>\n",
       "      <th>Humidité min</th>\n",
       "      <th>Vitesse du vent moy</th>\n",
       "      <th>Vitesse du vent max</th>\n",
       "      <th>ET Horraire</th>\n",
       "    </tr>\n",
       "  </thead>\n",
       "  <tbody>\n",
       "    <tr>\n",
       "      <th>0</th>\n",
       "      <td>21.48</td>\n",
       "      <td>21.75</td>\n",
       "      <td>21.19</td>\n",
       "      <td>492</td>\n",
       "      <td>54.12</td>\n",
       "      <td>55.69</td>\n",
       "      <td>52.13</td>\n",
       "      <td>3.2</td>\n",
       "      <td>3.6</td>\n",
       "      <td>2</td>\n",
       "    </tr>\n",
       "    <tr>\n",
       "      <th>1</th>\n",
       "      <td>22.09</td>\n",
       "      <td>22.71</td>\n",
       "      <td>21.57</td>\n",
       "      <td>569</td>\n",
       "      <td>49.92</td>\n",
       "      <td>53.24</td>\n",
       "      <td>46.81</td>\n",
       "      <td>3.3</td>\n",
       "      <td>3.8</td>\n",
       "      <td>2</td>\n",
       "    </tr>\n",
       "    <tr>\n",
       "      <th>2</th>\n",
       "      <td>22.89</td>\n",
       "      <td>23.27</td>\n",
       "      <td>22.27</td>\n",
       "      <td>591</td>\n",
       "      <td>38.55</td>\n",
       "      <td>46.10</td>\n",
       "      <td>36.25</td>\n",
       "      <td>2.6</td>\n",
       "      <td>3.3</td>\n",
       "      <td>2</td>\n",
       "    </tr>\n",
       "    <tr>\n",
       "      <th>3</th>\n",
       "      <td>21.51</td>\n",
       "      <td>22.63</td>\n",
       "      <td>20.26</td>\n",
       "      <td>539</td>\n",
       "      <td>40.15</td>\n",
       "      <td>44.02</td>\n",
       "      <td>36.64</td>\n",
       "      <td>2.2</td>\n",
       "      <td>2.8</td>\n",
       "      <td>2</td>\n",
       "    </tr>\n",
       "    <tr>\n",
       "      <th>4</th>\n",
       "      <td>18.49</td>\n",
       "      <td>20.02</td>\n",
       "      <td>17.01</td>\n",
       "      <td>424</td>\n",
       "      <td>47.76</td>\n",
       "      <td>50.90</td>\n",
       "      <td>43.80</td>\n",
       "      <td>1.8</td>\n",
       "      <td>2.3</td>\n",
       "      <td>1</td>\n",
       "    </tr>\n",
       "    <tr>\n",
       "      <th>...</th>\n",
       "      <td>...</td>\n",
       "      <td>...</td>\n",
       "      <td>...</td>\n",
       "      <td>...</td>\n",
       "      <td>...</td>\n",
       "      <td>...</td>\n",
       "      <td>...</td>\n",
       "      <td>...</td>\n",
       "      <td>...</td>\n",
       "      <td>...</td>\n",
       "    </tr>\n",
       "    <tr>\n",
       "      <th>34933</th>\n",
       "      <td>24.12</td>\n",
       "      <td>24.17</td>\n",
       "      <td>24.08</td>\n",
       "      <td>0</td>\n",
       "      <td>58.62</td>\n",
       "      <td>58.71</td>\n",
       "      <td>58.51</td>\n",
       "      <td>0.0</td>\n",
       "      <td>0.0</td>\n",
       "      <td>0</td>\n",
       "    </tr>\n",
       "    <tr>\n",
       "      <th>34934</th>\n",
       "      <td>24.22</td>\n",
       "      <td>24.29</td>\n",
       "      <td>24.15</td>\n",
       "      <td>0</td>\n",
       "      <td>58.38</td>\n",
       "      <td>58.51</td>\n",
       "      <td>58.29</td>\n",
       "      <td>0.0</td>\n",
       "      <td>0.0</td>\n",
       "      <td>0</td>\n",
       "    </tr>\n",
       "    <tr>\n",
       "      <th>34935</th>\n",
       "      <td>24.33</td>\n",
       "      <td>24.39</td>\n",
       "      <td>24.25</td>\n",
       "      <td>0</td>\n",
       "      <td>58.10</td>\n",
       "      <td>58.26</td>\n",
       "      <td>57.90</td>\n",
       "      <td>0.0</td>\n",
       "      <td>0.0</td>\n",
       "      <td>0</td>\n",
       "    </tr>\n",
       "    <tr>\n",
       "      <th>34936</th>\n",
       "      <td>24.46</td>\n",
       "      <td>24.51</td>\n",
       "      <td>24.43</td>\n",
       "      <td>0</td>\n",
       "      <td>57.95</td>\n",
       "      <td>58.04</td>\n",
       "      <td>57.90</td>\n",
       "      <td>0.0</td>\n",
       "      <td>0.0</td>\n",
       "      <td>0</td>\n",
       "    </tr>\n",
       "    <tr>\n",
       "      <th>34937</th>\n",
       "      <td>22.33</td>\n",
       "      <td>22.44</td>\n",
       "      <td>22.21</td>\n",
       "      <td>0</td>\n",
       "      <td>42.23</td>\n",
       "      <td>42.42</td>\n",
       "      <td>41.87</td>\n",
       "      <td>0.0</td>\n",
       "      <td>0.0</td>\n",
       "      <td>0</td>\n",
       "    </tr>\n",
       "  </tbody>\n",
       "</table>\n",
       "<p>34938 rows × 10 columns</p>\n",
       "</div>"
      ],
      "text/plain": [
       "       Température moy  Température max  Température min  \\\n",
       "0                21.48            21.75            21.19   \n",
       "1                22.09            22.71            21.57   \n",
       "2                22.89            23.27            22.27   \n",
       "3                21.51            22.63            20.26   \n",
       "4                18.49            20.02            17.01   \n",
       "...                ...              ...              ...   \n",
       "34933            24.12            24.17            24.08   \n",
       "34934            24.22            24.29            24.15   \n",
       "34935            24.33            24.39            24.25   \n",
       "34936            24.46            24.51            24.43   \n",
       "34937            22.33            22.44            22.21   \n",
       "\n",
       "       Radiation Solaire moy  Humidité moy  Humidité max  Humidité min  \\\n",
       "0                        492         54.12         55.69         52.13   \n",
       "1                        569         49.92         53.24         46.81   \n",
       "2                        591         38.55         46.10         36.25   \n",
       "3                        539         40.15         44.02         36.64   \n",
       "4                        424         47.76         50.90         43.80   \n",
       "...                      ...           ...           ...           ...   \n",
       "34933                      0         58.62         58.71         58.51   \n",
       "34934                      0         58.38         58.51         58.29   \n",
       "34935                      0         58.10         58.26         57.90   \n",
       "34936                      0         57.95         58.04         57.90   \n",
       "34937                      0         42.23         42.42         41.87   \n",
       "\n",
       "       Vitesse du vent moy  Vitesse du vent max  ET Horraire  \n",
       "0                      3.2                  3.6            2  \n",
       "1                      3.3                  3.8            2  \n",
       "2                      2.6                  3.3            2  \n",
       "3                      2.2                  2.8            2  \n",
       "4                      1.8                  2.3            1  \n",
       "...                    ...                  ...          ...  \n",
       "34933                  0.0                  0.0            0  \n",
       "34934                  0.0                  0.0            0  \n",
       "34935                  0.0                  0.0            0  \n",
       "34936                  0.0                  0.0            0  \n",
       "34937                  0.0                  0.0            0  \n",
       "\n",
       "[34938 rows x 10 columns]"
      ]
     },
     "execution_count": 15,
     "metadata": {},
     "output_type": "execute_result"
    }
   ],
   "source": [
    "Data"
   ]
  },
  {
   "cell_type": "code",
   "execution_count": 6,
   "id": "d4eb498a",
   "metadata": {},
   "outputs": [],
   "source": [
    "Y=Data['ET Horraire']\n",
    "X=Data.drop(columns=['ET Horraire'])"
   ]
  },
  {
   "cell_type": "code",
   "execution_count": 7,
   "id": "b6f0998a",
   "metadata": {},
   "outputs": [],
   "source": [
    "X_train, X_test, y_train, y_test = train_test_split(X, Y, test_size=0.33, random_state=42)"
   ]
  },
  {
   "cell_type": "markdown",
   "id": "bb31bb30",
   "metadata": {},
   "source": [
    "# Entrainement sur 4 variables"
   ]
  },
  {
   "cell_type": "markdown",
   "id": "d670d698",
   "metadata": {},
   "source": [
    "**XGBoost**"
   ]
  },
  {
   "cell_type": "code",
   "execution_count": 8,
   "id": "04fe973b",
   "metadata": {},
   "outputs": [],
   "source": [
    "model=keras.Sequential([\n",
    "        keras.layers.Dense(93,activation='relu'),\n",
    "        keras.layers.Dense(77,activation='relu'),\n",
    "\n",
    "        keras.layers.Dense(1,activation='linear'),\n",
    "    ])\n",
    "model.compile(optimizer='adam',loss='mean_squared_error',metrics=['mae'])\n",
    "history=model.fit(X_train,y_train,validation_split=0.2,epochs=100,verbose=0)"
   ]
  },
  {
   "cell_type": "code",
   "execution_count": 9,
   "id": "f35ecb17",
   "metadata": {},
   "outputs": [
    {
     "data": {
      "text/plain": [
       "[<matplotlib.lines.Line2D at 0x15551e0b9d0>]"
      ]
     },
     "execution_count": 9,
     "metadata": {},
     "output_type": "execute_result"
    },
    {
     "data": {
      "image/png": "[encoded data removed]",
      "text/plain": [
       "<Figure size 432x288 with 1 Axes>"
      ]
     },
     "metadata": {
      "needs_background": "light"
     },
     "output_type": "display_data"
    }
   ],
   "source": [
    "loss=history.history['loss']\n",
    "epochs = range(1,len(loss)+1)\n",
    "plt.plot(epochs,loss,'y',label='Training loss')"
   ]
  },
  {
   "cell_type": "code",
   "execution_count": 10,
   "id": "0e360e4d",
   "metadata": {},
   "outputs": [],
   "source": [
    "ypred=model.predict(X_test)"
   ]
  },
  {
   "cell_type": "code",
   "execution_count": 11,
   "id": "645cd6aa",
   "metadata": {},
   "outputs": [
    {
     "name": "stdout",
     "output_type": "stream",
     "text": [
      "R2 =  0.9683841293993174\n",
      "Mae =  0.281711534180025\n",
      "Mse =  0.32091580022003613\n",
      "Rmse 0.5664943073147657\n"
     ]
    }
   ],
   "source": [
    "print(\"R2 = \",r2_score(y_test,ypred))\n",
    "print(\"Mae = \",mae(y_test,ypred))\n",
    "print(\"Mse = \",mse(y_test,ypred))\n",
    "rmse = mse(y_test,ypred,squared=False)\n",
    "print(\"Rmse\",rmse)"
   ]
  },
  {
   "cell_type": "markdown",
   "id": "347320ff",
   "metadata": {},
   "source": [
    "**3 Variables**"
   ]
  },
  {
   "cell_type": "code",
   "execution_count": 21,
   "id": "39a76f6f",
   "metadata": {},
   "outputs": [],
   "source": [
    "#creation des combinaisons de trois variables\n",
    "temp=['Température moy', 'Température max', 'Température min']\n",
    "hum=['Humidité moy', 'Humidité max', 'Humidité min']\n",
    "VitVent=['Vitesse du vent moy', 'Vitesse du vent max']\n",
    "Ray=['Radiation Solaire moy']\n",
    "comb = combinations([temp, hum, VitVent,Ray], 3)\n",
    "co3v=list(comb)"
   ]
  },
  {
   "cell_type": "code",
   "execution_count": 22,
   "id": "8465eae5",
   "metadata": {},
   "outputs": [
    {
     "name": "stdout",
     "output_type": "stream",
     "text": [
      "R2 0.7719169137895027\n",
      "Mae 0.8664269469730097\n",
      "Mse 2.315149471997046\n",
      "Rmse 1.521561524223403\n",
      "------\n",
      "R2 0.9743796472291808\n",
      "Mae 0.26708460916980703\n",
      "Mse 0.2600585040093615\n",
      "Rmse 0.5099593160335062\n",
      "------\n",
      "R2 0.954858840635995\n",
      "Mae 0.3282469785637372\n",
      "Mse 0.45820377566471526\n",
      "Rmse 0.6769075089439585\n",
      "------\n",
      "R2 0.9098148902998832\n",
      "Mae 0.49112802339654743\n",
      "Mse 0.915420834456473\n",
      "Rmse 0.9567762718924802\n",
      "------\n"
     ]
    }
   ],
   "source": [
    "HR_3varscoreR2={}\n",
    "HR_3varscoreMae={}\n",
    "HR_3varscoreMse={}\n",
    "HR_3varscoreRMse={}\n",
    "for a in range(0,len(co3v)):\n",
    "    xtr=pd.DataFrame()\n",
    "    xts=pd.DataFrame()\n",
    "    for i in co3v[a] :\n",
    "        for x in i: \n",
    "            xtr.insert(0,x,X_train[x])\n",
    "            xts.insert(0,x,X_test[x])\n",
    "    model=keras.Sequential([\n",
    "    keras.layers.Dense(93,activation='relu'),\n",
    "    keras.layers.Dense(77,activation='relu'),\n",
    "    keras.layers.Dense(1,activation='linear'), ])\n",
    "    model.compile(optimizer='adam',loss='mean_squared_error',metrics=['mae'])\n",
    "    history=model.fit(xtr,y_train,epochs=200,verbose=0)\n",
    "    ypred=model.predict(xts)\n",
    "    scoreR2=r2_score(y_test,ypred)\n",
    "    scoreMae=mae(y_test,ypred)\n",
    "    scoreMse=mse(y_test,ypred)\n",
    "    scoreRmse = mse(y_test,ypred,squared=False)\n",
    "    \n",
    "    var=''\n",
    "    for col in xtr.columns:\n",
    "        var+=col+','\n",
    "    HR_3varscoreR2[var]=scoreR2\n",
    "    HR_3varscoreMae[var]=scoreMae\n",
    "    HR_3varscoreMse[var]=scoreMse\n",
    "    HR_3varscoreRMse[var]=scoreRmse\n",
    "    print(\"R2\",scoreR2)\n",
    "    print(\"Mae\",scoreMae)\n",
    "    print(\"Mse\",scoreMse)\n",
    "    print(\"Rmse\",scoreRmse)\n",
    "    print(\"------\")"
   ]
  },
  {
   "cell_type": "code",
   "execution_count": 23,
   "id": "e5b23b88",
   "metadata": {},
   "outputs": [
    {
     "data": {
      "text/plain": [
       "{'Vitesse du vent max,Vitesse du vent moy,Humidité min,Humidité max,Humidité moy,Température min,Température max,Température moy,': 0.7719169137895027,\n",
       " 'Radiation Solaire moy,Humidité min,Humidité max,Humidité moy,Température min,Température max,Température moy,': 0.9743796472291808,\n",
       " 'Radiation Solaire moy,Vitesse du vent max,Vitesse du vent moy,Température min,Température max,Température moy,': 0.954858840635995,\n",
       " 'Radiation Solaire moy,Vitesse du vent max,Vitesse du vent moy,Humidité min,Humidité max,Humidité moy,': 0.9098148902998832}"
      ]
     },
     "execution_count": 23,
     "metadata": {},
     "output_type": "execute_result"
    }
   ],
   "source": [
    "HR_3varscoreR2"
   ]
  },
  {
   "cell_type": "code",
   "execution_count": 25,
   "id": "5383ccf0",
   "metadata": {},
   "outputs": [],
   "source": [
    "HR_3varscoreR2['Vitesse du vent & Humidité & Température'] = HR_3varscoreR2.pop('Vitesse du vent max,Vitesse du vent moy,Humidité min,Humidité max,Humidité moy,Température min,Température max,Température moy,')\n",
    "HR_3varscoreR2['Rayonnement & Humidité & Température'] = HR_3varscoreR2.pop('Radiation Solaire moy,Humidité min,Humidité max,Humidité moy,Température min,Température max,Température moy,')\n",
    "HR_3varscoreR2['Rayonnement & Vitesse du vent & Température'] = HR_3varscoreR2.pop('Radiation Solaire moy,Vitesse du vent max,Vitesse du vent moy,Température min,Température max,Température moy,')\n",
    "HR_3varscoreR2['Rayonnement & Vitesse du vent & Humidité'] = HR_3varscoreR2.pop('Radiation Solaire moy,Vitesse du vent max,Vitesse du vent moy,Humidité min,Humidité max,Humidité moy,')"
   ]
  },
  {
   "cell_type": "code",
   "execution_count": 26,
   "id": "69651caa",
   "metadata": {},
   "outputs": [],
   "source": [
    "Variables = list(HR_3varscoreR2.keys())\n",
    "ScoresR2 = list(HR_3varscoreR2.values())\n",
    "ScoreMae=list(HR_3varscoreMae.values())\n",
    "ScoreMse=list(HR_3varscoreMse.values())\n",
    "ScoreRmse=list(HR_3varscoreRMse.values())\n",
    "tmp = max(ScoresR2)\n",
    "index = ScoresR2.index(tmp)"
   ]
  },
  {
   "cell_type": "code",
   "execution_count": 27,
   "id": "a94e8c28",
   "metadata": {},
   "outputs": [
    {
     "name": "stdout",
     "output_type": "stream",
     "text": [
      "La meilleur combinaison pour trois variables est: Rayonnement & Humidité & Température\n",
      "R2 0.9743796472291808\n",
      "Mae 0.26708460916980703\n",
      "Mse 0.2600585040093615\n",
      "Rmse 0.5099593160335062\n"
     ]
    }
   ],
   "source": [
    "print(\"La meilleur combinaison pour trois variables est:\",Variables[index])\n",
    "print(\"R2\",ScoresR2[index])\n",
    "print(\"Mae\",ScoreMae[index])\n",
    "print(\"Mse\",ScoreMse[index])\n",
    "print(\"Rmse\",ScoreRmse[index])"
   ]
  },
  {
   "cell_type": "markdown",
   "id": "56f6603c",
   "metadata": {},
   "source": [
    "**2Variables**"
   ]
  },
  {
   "cell_type": "code",
   "execution_count": 29,
   "id": "48c0a260",
   "metadata": {},
   "outputs": [],
   "source": [
    "#CREATION DES COMBINAISON DE DEUX VARIABLES\n",
    "comb = combinations([temp, hum, VitVent,Ray], 2)\n",
    "co2v=list(comb)"
   ]
  },
  {
   "cell_type": "code",
   "execution_count": 30,
   "id": "f881a721",
   "metadata": {},
   "outputs": [
    {
     "name": "stdout",
     "output_type": "stream",
     "text": [
      "R2 0.7427760963084065\n",
      "Mae 0.9149559637801423\n",
      "Mse 2.6109423311951128\n",
      "Rmse 1.6158410600040811\n",
      "------\n",
      "R2 0.7312669508522753\n",
      "Mae 0.9641431719478275\n",
      "Mse 2.727765513784409\n",
      "Rmse 1.6515948394761983\n",
      "------\n",
      "R2 0.9538225347538598\n",
      "Mae 0.3506006142830497\n",
      "Mse 0.4687227626519331\n",
      "Rmse 0.6846333052459054\n",
      "------\n",
      "R2 0.5267270537934208\n",
      "Mae 1.3618074598332022\n",
      "Mse 4.803940659192201\n",
      "Rmse 2.1917893738204413\n",
      "------\n",
      "R2 0.9054395865150076\n",
      "Mae 0.5181341336275946\n",
      "Mse 0.9598322040835618\n",
      "Rmse 0.9797102653762294\n",
      "------\n",
      "R2 0.8932622773225538\n",
      "Mae 0.521207750624196\n",
      "Mse 1.0834375595514167\n",
      "Rmse 1.0408830671845022\n",
      "------\n"
     ]
    }
   ],
   "source": [
    "HR_2varscoreR2={}\n",
    "HR_2varscoreMae={}\n",
    "HR_2varscoreMse={}\n",
    "HR_2varscoreRMse={}\n",
    "for a in range(0,len(co2v)):\n",
    "    xtr=pd.DataFrame()\n",
    "    xts=pd.DataFrame()\n",
    "    for i in co2v[a] :\n",
    "        for x in i: \n",
    "            xtr.insert(0,x,X_train[x])\n",
    "            xts.insert(0,x,X_test[x])\n",
    "    model=keras.Sequential([\n",
    "    keras.layers.Dense(93,activation='relu'),\n",
    "    keras.layers.Dense(77,activation='relu'),\n",
    "    keras.layers.Dense(1,activation='linear'), ])\n",
    "    model.compile(optimizer='adam',loss='mean_squared_error',metrics=['mae'])\n",
    "    history=model.fit(xtr,y_train,epochs=200,verbose=0)\n",
    "    ypred=model.predict(xts)\n",
    "    scoreR2=r2_score(y_test,ypred)\n",
    "    scoreMae=mae(y_test,ypred)\n",
    "    scoreMse=mse(y_test,ypred)\n",
    "    scoreRmse = mse(y_test,ypred,squared=False)\n",
    "    \n",
    "    var=''\n",
    "    for col in xtr.columns:\n",
    "        var+=col+','\n",
    "    HR_2varscoreR2[var]=scoreR2\n",
    "    HR_2varscoreMae[var]=scoreMae\n",
    "    HR_2varscoreMse[var]=scoreMse\n",
    "    HR_2varscoreRMse[var]=scoreRmse\n",
    "    print(\"R2\",scoreR2)\n",
    "    print(\"Mae\",scoreMae)\n",
    "    print(\"Mse\",scoreMse)\n",
    "    print(\"Rmse\",scoreRmse)\n",
    "    print(\"------\")"
   ]
  },
  {
   "cell_type": "code",
   "execution_count": 32,
   "id": "755bf80c",
   "metadata": {},
   "outputs": [
    {
     "data": {
      "text/plain": [
       "{'Humidité min,Humidité max,Humidité moy,Température min,Température max,Température moy,': 0.7427760963084065,\n",
       " 'Vitesse du vent max,Vitesse du vent moy,Température min,Température max,Température moy,': 0.7312669508522753,\n",
       " 'Radiation Solaire moy,Température min,Température max,Température moy,': 0.9538225347538598,\n",
       " 'Vitesse du vent max,Vitesse du vent moy,Humidité min,Humidité max,Humidité moy,': 0.5267270537934208,\n",
       " 'Radiation Solaire moy,Humidité min,Humidité max,Humidité moy,': 0.9054395865150076,\n",
       " 'Radiation Solaire moy,Vitesse du vent max,Vitesse du vent moy,': 0.8932622773225538}"
      ]
     },
     "execution_count": 32,
     "metadata": {},
     "output_type": "execute_result"
    }
   ],
   "source": [
    "HR_2varscoreR2"
   ]
  },
  {
   "cell_type": "code",
   "execution_count": 33,
   "id": "0a1cf7fb",
   "metadata": {},
   "outputs": [],
   "source": [
    "HR_2varscoreR2['Température & Humidité'] = HR_2varscoreR2.pop('Humidité min,Humidité max,Humidité moy,Température min,Température max,Température moy,')\n",
    "HR_2varscoreR2['Température & Vitesse du vent'] = HR_2varscoreR2.pop('Vitesse du vent max,Vitesse du vent moy,Température min,Température max,Température moy,')\n",
    "HR_2varscoreR2['Température & Rayonnement'] = HR_2varscoreR2.pop('Radiation Solaire moy,Température min,Température max,Température moy,')\n",
    "HR_2varscoreR2['Humidité & Vitesse du vent'] = HR_2varscoreR2.pop('Vitesse du vent max,Vitesse du vent moy,Humidité min,Humidité max,Humidité moy,')\n",
    "HR_2varscoreR2['Rayonnement & Humidité'] = HR_2varscoreR2.pop('Radiation Solaire moy,Humidité min,Humidité max,Humidité moy,')\n",
    "HR_2varscoreR2['Rayonnement & Vitesse du vent'] = HR_2varscoreR2.pop('Radiation Solaire moy,Vitesse du vent max,Vitesse du vent moy,')"
   ]
  },
  {
   "cell_type": "code",
   "execution_count": 34,
   "id": "eef910d0",
   "metadata": {},
   "outputs": [],
   "source": [
    "Variables = list(HR_2varscoreR2.keys())\n",
    "ScoresR2 = list(HR_2varscoreR2.values())\n",
    "ScoreMae=list(HR_2varscoreMae.values())\n",
    "ScoreMse=list(HR_2varscoreMse.values())\n",
    "ScoreRmse=list(HR_2varscoreRMse.values())\n",
    "tmp = max(ScoresR2)\n",
    "index = ScoresR2.index(tmp)"
   ]
  },
  {
   "cell_type": "code",
   "execution_count": 35,
   "id": "20855240",
   "metadata": {},
   "outputs": [
    {
     "name": "stdout",
     "output_type": "stream",
     "text": [
      "La meilleur combinaison pour deux variables est: Température & Rayonnement\n",
      "R2 0.9538225347538598\n",
      "Mae 0.3506006142830497\n",
      "Mse 0.4687227626519331\n",
      "Rmse 0.6846333052459054\n"
     ]
    }
   ],
   "source": [
    "print(\"La meilleur combinaison pour deux variables est:\",Variables[index])\n",
    "print(\"R2\",ScoresR2[index])\n",
    "print(\"Mae\",ScoreMae[index])\n",
    "print(\"Mse\",ScoreMse[index])\n",
    "print(\"Rmse\",ScoreRmse[index])"
   ]
  },
  {
   "cell_type": "markdown",
   "id": "c3c6ef53",
   "metadata": {},
   "source": [
    "**1 Variable**"
   ]
  },
  {
   "cell_type": "code",
   "execution_count": 36,
   "id": "50c4029e",
   "metadata": {},
   "outputs": [],
   "source": [
    "comb = combinations([temp, hum, VitVent,Ray], 1)\n",
    "co1v=list(comb)"
   ]
  },
  {
   "cell_type": "code",
   "execution_count": 38,
   "id": "c0611b63",
   "metadata": {},
   "outputs": [
    {
     "name": "stdout",
     "output_type": "stream",
     "text": [
      "R2 0.6552364859306818\n",
      "Mae 1.0953963499170536\n",
      "Mse 3.4995101163476465\n",
      "Rmse 1.8706977618919756\n",
      "------\n",
      "R2 0.4423385908403451\n",
      "Mae 1.4833303476248425\n",
      "Mse 5.660522831480711\n",
      "Rmse 2.3791853293681666\n",
      "------\n",
      "R2 0.36728496924213716\n",
      "Mae 1.6586718381743584\n",
      "Mse 6.422352019701157\n",
      "Rmse 2.5342359834279753\n",
      "------\n",
      "R2 0.8881327085716763\n",
      "Mae 0.5403591478170774\n",
      "Mse 1.135505069608724\n",
      "Rmse 1.0656008021809689\n",
      "------\n"
     ]
    }
   ],
   "source": [
    "HR_1varscoreR2={}\n",
    "HR_1varscoreMae={}\n",
    "HR_1varscoreMse={}\n",
    "HR_1varscoreRMse={}\n",
    "for a in range(0,len(co1v)):\n",
    "    xtr=pd.DataFrame()\n",
    "    xts=pd.DataFrame()\n",
    "    for i in co1v[a] :\n",
    "        for x in i: \n",
    "            xtr.insert(0,x,X_train[x])\n",
    "            xts.insert(0,x,X_test[x])\n",
    "    model=keras.Sequential([\n",
    "    keras.layers.Dense(93,activation='relu'),\n",
    "    keras.layers.Dense(77,activation='relu'),\n",
    "    keras.layers.Dense(1,activation='linear'), ])\n",
    "    model.compile(optimizer='adam',loss='mean_squared_error',metrics=['mae'])\n",
    "    history=model.fit(xtr,y_train,epochs=200,verbose=0)\n",
    "    ypred=model.predict(xts)\n",
    "    scoreR2=r2_score(y_test,ypred)\n",
    "    scoreMae=mae(y_test,ypred)\n",
    "    scoreMse=mse(y_test,ypred)\n",
    "    scoreRmse = mse(y_test,ypred,squared=False)\n",
    "    \n",
    "    var=''\n",
    "    for col in xtr.columns:\n",
    "        var+=col+','\n",
    "    HR_1varscoreR2[var]=scoreR2\n",
    "    HR_1varscoreMae[var]=scoreMae\n",
    "    HR_1varscoreMse[var]=scoreMse\n",
    "    HR_1varscoreRMse[var]=scoreRmse\n",
    "    print(\"R2\",scoreR2)\n",
    "    print(\"Mae\",scoreMae)\n",
    "    print(\"Mse\",scoreMse)\n",
    "    print(\"Rmse\",scoreRmse)\n",
    "    print(\"------\")"
   ]
  },
  {
   "cell_type": "code",
   "execution_count": 39,
   "id": "d3138c74",
   "metadata": {},
   "outputs": [
    {
     "data": {
      "text/plain": [
       "{'Température min,Température max,Température moy,': 0.6552364859306818,\n",
       " 'Humidité min,Humidité max,Humidité moy,': 0.4423385908403451,\n",
       " 'Vitesse du vent max,Vitesse du vent moy,': 0.36728496924213716,\n",
       " 'Radiation Solaire moy,': 0.8881327085716763}"
      ]
     },
     "execution_count": 39,
     "metadata": {},
     "output_type": "execute_result"
    }
   ],
   "source": [
    "HR_1varscoreR2"
   ]
  },
  {
   "cell_type": "code",
   "execution_count": 40,
   "id": "35df5401",
   "metadata": {},
   "outputs": [],
   "source": [
    "HR_1varscoreR2['Température'] = HR_1varscoreR2.pop('Température min,Température max,Température moy,')\n",
    "HR_1varscoreR2['Humidité'] = HR_1varscoreR2.pop('Humidité min,Humidité max,Humidité moy,')\n",
    "HR_1varscoreR2['Vitesse du vent'] = HR_1varscoreR2.pop('Vitesse du vent max,Vitesse du vent moy,')\n",
    "HR_1varscoreR2['Rayonnement'] = HR_1varscoreR2.pop( 'Radiation Solaire moy,')"
   ]
  },
  {
   "cell_type": "code",
   "execution_count": 41,
   "id": "03248178",
   "metadata": {},
   "outputs": [],
   "source": [
    "Variables = list(HR_1varscoreR2.keys())\n",
    "ScoresR2 = list(HR_1varscoreR2.values())\n",
    "ScoreMae=list(HR_1varscoreMae.values())\n",
    "ScoreMse=list(HR_1varscoreMse.values())\n",
    "ScoreRmse=list(HR_1varscoreRMse.values())\n",
    "tmp = max(ScoresR2)\n",
    "index = ScoresR2.index(tmp)"
   ]
  },
  {
   "cell_type": "code",
   "execution_count": 42,
   "id": "a4591579",
   "metadata": {},
   "outputs": [
    {
     "name": "stdout",
     "output_type": "stream",
     "text": [
      "La meilleur combinaison pour Une variable est: Rayonnement\n",
      "R2 0.8881327085716763\n",
      "Mae 0.5403591478170774\n",
      "Mse 1.135505069608724\n",
      "Rmse 1.0656008021809689\n"
     ]
    }
   ],
   "source": [
    "print(\"La meilleur combinaison pour Une variable est:\",Variables[index])\n",
    "print(\"R2\",ScoresR2[index])\n",
    "print(\"Mae\",ScoreMae[index])\n",
    "print(\"Mse\",ScoreMse[index])\n",
    "print(\"Rmse\",ScoreRmse[index])"
   ]
  },
  {
   "cell_type": "code",
   "execution_count": null,
   "id": "f68b669b",
   "metadata": {},
   "outputs": [],
   "source": []
  }
 ],
 "metadata": {
  "kernelspec": {
   "display_name": "Python 3 (ipykernel)",
   "language": "python",
   "name": "python3"
  },
  "language_info": {
   "codemirror_mode": {
    "name": "ipython",
    "version": 3
   },
   "file_extension": ".py",
   "mimetype": "text/x-python",
   "name": "python",
   "nbconvert_exporter": "python",
   "pygments_lexer": "ipython3",
   "version": "3.9.7"
  }
 },
 "nbformat": 4,
 "nbformat_minor": 5
}
